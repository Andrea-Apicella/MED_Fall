{
 "cells": [
  {
   "cell_type": "markdown",
   "metadata": {},
   "source": [
    "# VGG + LSTM Fall Detection on Videos"
   ]
  },
  {
   "cell_type": "code",
   "execution_count": 1,
   "metadata": {},
   "outputs": [],
   "source": [
    "%load_ext autoreload\n",
    "%autoreload 2\n",
    "%load_ext lab_black"
   ]
  },
  {
   "cell_type": "code",
   "execution_count": 2,
   "metadata": {},
   "outputs": [
    {
     "name": "stdout",
     "output_type": "stream",
     "text": [
      "/home/jovyan/work/MED_Fall\n"
     ]
    }
   ],
   "source": [
    "%cd '/home/jovyan/work/MED_Fall'"
   ]
  },
  {
   "cell_type": "code",
   "execution_count": 3,
   "metadata": {},
   "outputs": [],
   "source": [
    "projectdir = \"/home/jovyan/work/MED_Fall\""
   ]
  },
  {
   "cell_type": "markdown",
   "metadata": {},
   "source": [
    "## Imports"
   ]
  },
  {
   "cell_type": "code",
   "execution_count": 31,
   "metadata": {},
   "outputs": [],
   "source": [
    "# Evaluating CNN+RNN models on the dataset\n",
    "\n",
    "# Imports\n",
    "import os\n",
    "import random\n",
    "from collections import Counter\n",
    "\n",
    "import numpy as np\n",
    "import tensorflow as tf\n",
    "import wandb\n",
    "from sklearn.metrics import classification_report\n",
    "from tensorflow.keras.callbacks import ModelCheckpoint, EarlyStopping, ReduceLROnPlateau\n",
    "from tensorflow.keras.layers import LSTM, Dense, Dropout\n",
    "from tensorflow.keras.models import Sequential\n",
    "from wandb.keras import WandbCallback\n",
    "import matplotlib.pyplot as plt\n",
    "\n",
    "from vision.vision_utils.cnn_rnn_utils_beta import load_and_split\n",
    "from vision.vision_utils.dataset import TimeSeriesGenerator"
   ]
  },
  {
   "cell_type": "code",
   "execution_count": 5,
   "metadata": {},
   "outputs": [],
   "source": [
    "# set random seeds\n",
    "os.environ[\"TF_CUDNN_DETERMINISTIC\"] = \"1\"\n",
    "random.seed(hash(\"setting random seeds\") % 2**32 - 1)\n",
    "np.random.seed(hash(\"improves reproducibility\") % 2**32 - 1)\n",
    "tf.random.set_seed(hash(\"by removing stochasticity\") % 2**32 - 1)"
   ]
  },
  {
   "cell_type": "code",
   "execution_count": 6,
   "metadata": {},
   "outputs": [
    {
     "name": "stderr",
     "output_type": "stream",
     "text": [
      "2022-08-25 12:32:38.066318: E tensorflow/stream_executor/cuda/cuda_driver.cc:271] failed call to cuInit: CUDA_ERROR_NO_DEVICE: no CUDA-capable device is detected\n",
      "2022-08-25 12:32:38.066360: I tensorflow/stream_executor/cuda/cuda_diagnostics.cc:169] retrieving CUDA diagnostic information for host: a2d364c967f3\n",
      "2022-08-25 12:32:38.066368: I tensorflow/stream_executor/cuda/cuda_diagnostics.cc:176] hostname: a2d364c967f3\n",
      "2022-08-25 12:32:38.066527: I tensorflow/stream_executor/cuda/cuda_diagnostics.cc:200] libcuda reported version is: 510.47.3\n",
      "2022-08-25 12:32:38.066544: I tensorflow/stream_executor/cuda/cuda_diagnostics.cc:204] kernel reported version is: 470.129.6\n",
      "2022-08-25 12:32:38.066551: E tensorflow/stream_executor/cuda/cuda_diagnostics.cc:313] kernel version 470.129.6 does not match DSO version 510.47.3 -- cannot find working devices in this configuration\n"
     ]
    },
    {
     "data": {
      "text/plain": [
       "[]"
      ]
     },
     "execution_count": 6,
     "metadata": {},
     "output_type": "execute_result"
    }
   ],
   "source": [
    "tf.config.list_physical_devices(\"GPU\")"
   ]
  },
  {
   "cell_type": "code",
   "execution_count": 7,
   "metadata": {},
   "outputs": [
    {
     "name": "stdout",
     "output_type": "stream",
     "text": [
      "(27720, 512)\n"
     ]
    }
   ],
   "source": [
    "# load one features file to check it has the correct shape\n",
    "with np.load(\n",
    "    f\"{projectdir}/vision/vision_dataset/vgg_features/Actor_1_Bed_PH.npz\"\n",
    ") as features:\n",
    "    print(features[\"arr_0\"].shape)"
   ]
  },
  {
   "cell_type": "code",
   "execution_count": 8,
   "metadata": {},
   "outputs": [
    {
     "name": "stderr",
     "output_type": "stream",
     "text": [
      "2022-08-25 12:32:38.252214: I tensorflow/core/platform/cpu_feature_guard.cc:142] This TensorFlow binary is optimized with oneAPI Deep Neural Network Library (oneDNN) to use the following CPU instructions in performance-critical operations:  SSE4.1 SSE4.2 AVX AVX2 AVX512F FMA\n",
      "To enable them in other operations, rebuild TensorFlow with the appropriate compiler flags.\n"
     ]
    },
    {
     "name": "stdout",
     "output_type": "stream",
     "text": [
      "WARNING:tensorflow:No training configuration found in the save file, so the model was *not* compiled. Compile it manually.\n"
     ]
    }
   ],
   "source": [
    "# load feature extractor\n",
    "model = tf.keras.models.load_model(\n",
    "    f\"{projectdir}/vision/models/vgg_feature_extractor.h5\"\n",
    ")"
   ]
  },
  {
   "cell_type": "code",
   "execution_count": 9,
   "metadata": {},
   "outputs": [],
   "source": [
    "class dotdict(dict):\n",
    "    \"\"\"dot.notation access to dictionary attributes\"\"\"\n",
    "\n",
    "    __getattr__ = dict.get\n",
    "    __setattr__ = dict.__setitem__\n",
    "    __delattr__ = dict.__delitem__\n",
    "\n",
    "\n",
    "# define options: all network hyperparameters and dataset spects are defined here.\n",
    "opt = dotdict(\n",
    "    {\n",
    "        \"lstm1_units\": 64,\n",
    "        \"lstm2_units\": 32,\n",
    "        \"dense_units\": 32,\n",
    "        \"dropout\": 0.3,\n",
    "        \"epochs\": 50,\n",
    "        \"train_actors\": [1, 2],\n",
    "        \"val_actors\": [3],\n",
    "        \"train_cams\": [1, 2, 3, 4, 5, 6, 7],\n",
    "        \"val_cams\": [1],\n",
    "        \"seq_len\": 16,\n",
    "        \"split_ratio\": None,\n",
    "        \"drop_offair\": True,\n",
    "        \"undersample\": False,\n",
    "        \"batch_size\": 40,\n",
    "        \"stride\": 8,\n",
    "        \"learning_rate\": 0.001,\n",
    "        \"micro_classes\": False,\n",
    "        \"num_features\": 512,\n",
    "    }\n",
    ")"
   ]
  },
  {
   "cell_type": "markdown",
   "metadata": {},
   "source": [
    "## Load VGG16 pre-trained features"
   ]
  },
  {
   "cell_type": "code",
   "execution_count": 10,
   "metadata": {},
   "outputs": [
    {
     "name": "stdout",
     "output_type": "stream",
     "text": [
      "[STATUS] Load Train Set\n"
     ]
    },
    {
     "data": {
      "application/vnd.jupyter.widget-view+json": {
       "model_id": "89e59d2bbfaf4dde87747b644a1bfc4e",
       "version_major": 2,
       "version_minor": 0
      },
      "text/plain": [
       "  0%|          | 0/35 [00:00<?, ?it/s]"
      ]
     },
     "metadata": {},
     "output_type": "display_data"
    },
    {
     "data": {
      "application/vnd.jupyter.widget-view+json": {
       "model_id": "3d73d328c1094faabc958b9556f08668",
       "version_major": 2,
       "version_minor": 0
      },
      "text/plain": [
       "Loading csv datasets:   0%|          | 0/35 [00:00<?, ?it/s]"
      ]
     },
     "metadata": {},
     "output_type": "display_data"
    },
    {
     "name": "stdout",
     "output_type": "stream",
     "text": [
      "[STATUS] Load Val Set\n"
     ]
    },
    {
     "data": {
      "application/vnd.jupyter.widget-view+json": {
       "model_id": "0f31a2f0cb6d4e08a85f0f197bc4aef5",
       "version_major": 2,
       "version_minor": 0
      },
      "text/plain": [
       "  0%|          | 0/9 [00:00<?, ?it/s]"
      ]
     },
     "metadata": {},
     "output_type": "display_data"
    },
    {
     "data": {
      "application/vnd.jupyter.widget-view+json": {
       "model_id": "e311b98e18114550a8bdf258d6390977",
       "version_major": 2,
       "version_minor": 0
      },
      "text/plain": [
       "Loading csv datasets:   0%|          | 0/9 [00:00<?, ?it/s]"
      ]
     },
     "metadata": {},
     "output_type": "display_data"
    },
    {
     "name": "stdout",
     "output_type": "stream",
     "text": [
      "\n",
      "X_train shape: (267029, 512), len y_train: 267029, X_val shape: (11387, 512), len y_val: 11387\n",
      "\n"
     ]
    }
   ],
   "source": [
    "# load_and_split loads the features and labels of the actors (and respective cameras) specified in the options.\n",
    "X_train, y_train, X_val, y_val, cams_train, cams_val = load_and_split(\n",
    "    features_folder=f\"{projectdir}/vision/vision_dataset/vgg_features\",\n",
    "    dataset_folder=f\"{projectdir}/vision/vision_dataset/ground_truth_new\",\n",
    "    train_actors=opt.train_actors,\n",
    "    val_actors=opt.val_actors,\n",
    "    train_cams=opt.train_cams,\n",
    "    val_cams=opt.val_cams,\n",
    "    split_ratio=opt.split_ratio,\n",
    "    drop_offair=opt.drop_offair,\n",
    "    undersample=opt.undersample,\n",
    "    micro_classes=opt.micro_classes,\n",
    ")\n",
    "print(\n",
    "    f\"\\nX_train shape: {X_train.shape}, len y_train: {len(y_train)}, X_val shape: {X_val.shape}, len y_val: {len(y_val)}\\n\"\n",
    ")"
   ]
  },
  {
   "cell_type": "code",
   "execution_count": 11,
   "metadata": {},
   "outputs": [
    {
     "data": {
      "application/vnd.jupyter.widget-view+json": {
       "model_id": "1bc64e3024154a4d93ee22a4689b8509",
       "version_major": 2,
       "version_minor": 0
      },
      "text/plain": [
       "  0%|          | 0/26700 [00:00<?, ?it/s]"
      ]
     },
     "metadata": {},
     "output_type": "display_data"
    },
    {
     "data": {
      "application/vnd.jupyter.widget-view+json": {
       "model_id": "21f06c350cc64d68b1f1cda0d9e70491",
       "version_major": 2,
       "version_minor": 0
      },
      "text/plain": [
       "  0%|          | 0/1136 [00:00<?, ?it/s]"
      ]
     },
     "metadata": {},
     "output_type": "display_data"
    },
    {
     "name": "stdout",
     "output_type": "stream",
     "text": [
      "\n",
      "X_train_series shape: (26700, 16, 512), len y_train_series: 26700, X_val_series shape: (1136, 16, 512), len y_val_series: 1136\n",
      "\n"
     ]
    }
   ],
   "source": [
    "series_gen = TimeSeriesGenerator(opt)\n",
    "X_train_series, y_train_series = series_gen.get_train_series(\n",
    "    X_train, y_train, cams_train\n",
    ")\n",
    "X_val_series, y_val_series = series_gen.get_val_series(X_val, y_val, cams_val)\n",
    "print(\n",
    "    f\"\\nX_train_series shape: {X_train_series.shape}, len y_train_series: {len(y_train_series)}, X_val_series shape: {X_val_series.shape}, len y_val_series: {len(y_val_series)}\\n\"\n",
    ")"
   ]
  },
  {
   "cell_type": "code",
   "execution_count": 12,
   "metadata": {},
   "outputs": [
    {
     "data": {
      "text/plain": [
       "{'adl': 0, 'falling': 1, 'lying_down': 2}"
      ]
     },
     "execution_count": 12,
     "metadata": {},
     "output_type": "execute_result"
    }
   ],
   "source": [
    "series_gen.mapping"
   ]
  },
  {
   "cell_type": "code",
   "execution_count": 13,
   "metadata": {},
   "outputs": [
    {
     "data": {
      "text/plain": [
       "0    17201\n",
       "1     6674\n",
       "2     2825\n",
       "dtype: int64"
      ]
     },
     "execution_count": 13,
     "metadata": {},
     "output_type": "execute_result"
    }
   ],
   "source": [
    "import pandas as pd\n",
    "\n",
    "pd.Series(y_train_series).value_counts()"
   ]
  },
  {
   "cell_type": "code",
   "execution_count": 14,
   "metadata": {},
   "outputs": [
    {
     "name": "stdout",
     "output_type": "stream",
     "text": [
      "Before resampling - y_train_series shape: Counter({0: 17201, 1: 6674, 2: 2825})\n"
     ]
    }
   ],
   "source": [
    "print(f\"Before resampling - y_train_series shape: {Counter(y_train_series)}\")"
   ]
  },
  {
   "cell_type": "code",
   "execution_count": 15,
   "metadata": {},
   "outputs": [
    {
     "data": {
      "text/plain": [
       "0    841\n",
       "1    234\n",
       "2     61\n",
       "dtype: int64"
      ]
     },
     "execution_count": 15,
     "metadata": {},
     "output_type": "execute_result"
    }
   ],
   "source": [
    "pd.Series(y_val_series).value_counts()"
   ]
  },
  {
   "cell_type": "code",
   "execution_count": 16,
   "metadata": {},
   "outputs": [
    {
     "data": {
      "text/plain": [
       "Counter({0: 17201, 1: 6674, 2: 2825})"
      ]
     },
     "execution_count": 16,
     "metadata": {},
     "output_type": "execute_result"
    }
   ],
   "source": [
    "Counter(y_train_series)"
   ]
  },
  {
   "cell_type": "markdown",
   "metadata": {},
   "source": [
    "## Resample dataset for balancing classes\n"
   ]
  },
  {
   "cell_type": "code",
   "execution_count": 17,
   "metadata": {},
   "outputs": [],
   "source": [
    "from imblearn.under_sampling import RandomUnderSampler\n",
    "from imblearn.pipeline import Pipeline\n",
    "\n",
    "undersampling_strategy = \"not minority\"\n",
    "oversampling_strategy = {0: 23890, 2: 6437, 1: 4000}\n",
    "under = RandomUnderSampler(random_state=2, sampling_strategy=undersampling_strategy)\n",
    "over = RandomOverSampler(random_state=2, sampling_strategy=oversampling_strategy)\n",
    "steps = [(\"u\", under)]\n",
    "pipeline = Pipeline(steps=steps)\n",
    "smt = SMOTETomek(random_state=2)"
   ]
  },
  {
   "cell_type": "code",
   "execution_count": 18,
   "metadata": {},
   "outputs": [],
   "source": [
    "print(f\"Original X_train_series shape: {X_train_series.shape}\")\n",
    "\n",
    "X_train_series = np.reshape(X_train_series, (-1, opt.seq_len * opt.num_features))\n",
    "print(f\"X_train_series reshaped: {X_train_series.shape}\")\n",
    "\n",
    "X_train_series, y_train_series = pipeline.fit_resample(X_train_series, y_train_series)\n",
    "X_train_series = np.reshape(X_train_series, (-1, opt.seq_len, opt.num_features))\n",
    "\n",
    "print(f\"After resampling X_train_series shape: {X_train_series.shape}\")\n",
    "print(f\"After resampling - y_train_series count: {Counter(y_train_series)}\")"
   ]
  },
  {
   "cell_type": "markdown",
   "metadata": {},
   "source": [
    "### Init WANDB project"
   ]
  },
  {
   "cell_type": "code",
   "execution_count": 19,
   "metadata": {},
   "outputs": [
    {
     "name": "stderr",
     "output_type": "stream",
     "text": [
      "Failed to detect the name of this notebook, you can set it manually with the WANDB_NOTEBOOK_NAME environment variable to enable code saving.\n",
      "\u001b[34m\u001b[1mwandb\u001b[0m: Currently logged in as: \u001b[33mandreaapi\u001b[0m. Use \u001b[1m`wandb login --relogin`\u001b[0m to force relogin\n"
     ]
    },
    {
     "data": {
      "text/html": [
       "wandb version 0.13.2 is available!  To upgrade, please run:\n",
       " $ pip install wandb --upgrade"
      ],
      "text/plain": [
       "<IPython.core.display.HTML object>"
      ]
     },
     "metadata": {},
     "output_type": "display_data"
    },
    {
     "data": {
      "text/html": [
       "Tracking run with wandb version 0.13.1"
      ],
      "text/plain": [
       "<IPython.core.display.HTML object>"
      ]
     },
     "metadata": {},
     "output_type": "display_data"
    },
    {
     "data": {
      "text/html": [
       "Run data is saved locally in <code>/home/jovyan/work/MED_Fall/wandb/run-20220825_123249-11qj3tqh</code>"
      ],
      "text/plain": [
       "<IPython.core.display.HTML object>"
      ]
     },
     "metadata": {},
     "output_type": "display_data"
    },
    {
     "data": {
      "text/html": [
       "Syncing run <strong><a href=\"https://wandb.ai/andreaapi/Fall%20detection%20CNN%20%2B%20RNN/runs/11qj3tqh\" target=\"_blank\">woven-night-131</a></strong> to <a href=\"https://wandb.ai/andreaapi/Fall%20detection%20CNN%20%2B%20RNN\" target=\"_blank\">Weights & Biases</a> (<a href=\"https://wandb.me/run\" target=\"_blank\">docs</a>)<br/>"
      ],
      "text/plain": [
       "<IPython.core.display.HTML object>"
      ]
     },
     "metadata": {},
     "output_type": "display_data"
    }
   ],
   "source": [
    "# WANDB project initialization\n",
    "run = wandb.init(\n",
    "    project=\"Fall detection CNN + RNN\",\n",
    "    config={\n",
    "        \"model\": \"LSTM\",\n",
    "        \"epochs\": opt.epochs,\n",
    "        \"seq_len\": opt.seq_len,\n",
    "        \"num_features\": opt.num_features,\n",
    "        \"batch_size\": opt.batch_size,\n",
    "        \"stride\": opt.stride,\n",
    "        \"loss_function\": \"sparse_categorical_crossentropy\",\n",
    "        \"architecture\": \"LSTM\",\n",
    "        \"train_actors\": opt.train_actors,\n",
    "        \"val_actors\": opt.val_actors,\n",
    "        \"train_cams\": opt.train_cams,\n",
    "        \"val_cams\": opt.val_cams,\n",
    "        \"micro_classes\": opt.classes,\n",
    "        \"dropout\": opt.dropout,\n",
    "        \"lstm1_units\": opt.lstm1_units,\n",
    "        \"lstm2_units\": opt.lstm2_units,\n",
    "        \"dense_units\": opt.dense_units,\n",
    "        \"learning_rate\": opt.learning_rate,\n",
    "        \"split_ratio\": opt.split_ratio,\n",
    "        \"drop_offair\": opt.drop_offair,\n",
    "        \"undersample\": opt.undersample,\n",
    "    },\n",
    ")\n",
    "\n",
    "cfg = wandb.config"
   ]
  },
  {
   "cell_type": "markdown",
   "metadata": {},
   "source": [
    "## LSTM Network"
   ]
  },
  {
   "cell_type": "code",
   "execution_count": 20,
   "metadata": {},
   "outputs": [
    {
     "name": "stdout",
     "output_type": "stream",
     "text": [
      "Model: \"sequential\"\n",
      "_________________________________________________________________\n",
      "Layer (type)                 Output Shape              Param #   \n",
      "=================================================================\n",
      "lstm (LSTM)                  (None, 16, 64)            147712    \n",
      "_________________________________________________________________\n",
      "dropout (Dropout)            (None, 16, 64)            0         \n",
      "_________________________________________________________________\n",
      "lstm_1 (LSTM)                (None, 32)                12416     \n",
      "_________________________________________________________________\n",
      "dropout_1 (Dropout)          (None, 32)                0         \n",
      "_________________________________________________________________\n",
      "dense (Dense)                (None, 32)                1056      \n",
      "_________________________________________________________________\n",
      "dropout_2 (Dropout)          (None, 32)                0         \n",
      "_________________________________________________________________\n",
      "dense_1 (Dense)              (None, 3)                 99        \n",
      "=================================================================\n",
      "Total params: 161,283\n",
      "Trainable params: 161,283\n",
      "Non-trainable params: 0\n",
      "_________________________________________________________________\n"
     ]
    }
   ],
   "source": [
    "model = Sequential()\n",
    "model.add(\n",
    "    LSTM(\n",
    "        units=cfg.lstm1_units,\n",
    "        input_shape=(cfg.seq_len, cfg.num_features),\n",
    "        return_sequences=True,\n",
    "    )\n",
    ")\n",
    "model.add(Dropout(cfg.dropout))\n",
    "model.add(\n",
    "    LSTM(\n",
    "        units=cfg.lstm2_units,\n",
    "        input_shape=(cfg.seq_len, cfg.num_features),\n",
    "        return_sequences=False,\n",
    "    )\n",
    ")\n",
    "model.add(Dropout(cfg.dropout))\n",
    "model.add(Dense(units=cfg.dense_units, activation=\"relu\"))\n",
    "model.add(Dropout(cfg.dropout))\n",
    "model.add(Dense(units=np.unique(y_train_series, axis=0).shape[0], activation=\"softmax\"))\n",
    "model.compile(\n",
    "    optimizer=tf.keras.optimizers.Adam(),\n",
    "    loss=cfg.loss_function,\n",
    "    metrics=[\n",
    "        tf.keras.metrics.SparseCategoricalAccuracy()\n",
    "        # tf.keras.metrics.Recall(class_id=0),\n",
    "        # tf.keras.metrics.Recall(class_id=1),\n",
    "        # tf.keras.metrics.Recall(class_id=2),\n",
    "    ],\n",
    ")\n",
    "model.summary()"
   ]
  },
  {
   "cell_type": "markdown",
   "metadata": {},
   "source": [
    "### Callbacks"
   ]
  },
  {
   "cell_type": "code",
   "execution_count": 22,
   "metadata": {},
   "outputs": [
    {
     "name": "stdout",
     "output_type": "stream",
     "text": [
      "WARNING:tensorflow:`period` argument is deprecated. Please use `save_freq` to specify the frequency in number of batches seen.\n"
     ]
    },
    {
     "name": "stderr",
     "output_type": "stream",
     "text": [
      "\u001b[34m\u001b[1mwandb\u001b[0m: \u001b[33mWARNING\u001b[0m The save_model argument by default saves the model in the HDF5 format that cannot save custom objects like subclassed models and custom layers. This behavior will be deprecated in a future release in favor of the SavedModel format. Meanwhile, the HDF5 model is saved as W&B files and the SavedModel as W&B Artifacts.\n"
     ]
    }
   ],
   "source": [
    "dir_path = f\"{projectdir}/vision/model_checkpoints/LSTM\"\n",
    "\n",
    "model_checkpoint = ModelCheckpoint(\n",
    "    filepath=f\"{dir_path}/VGG_LSTM_best_epoch.h5\",\n",
    "    monitor=\"val_loss\",\n",
    "    mode=\"min\",\n",
    "    save_best_only=True,\n",
    "    save_weights_only=False,\n",
    "    initial_value_threshold=0.4,\n",
    "    verbose=1,\n",
    "    period=10,\n",
    ")\n",
    "\n",
    "reduce_lr = ReduceLROnPlateau(\n",
    "    monitor=\"val_loss\",\n",
    "    factor=0.1,\n",
    "    patience=30,\n",
    "    verbose=1,\n",
    "    mode=\"min\",\n",
    "    min_delta=1e-5,\n",
    "    cooldown=1,\n",
    "    min_lr=1e-6,\n",
    ")\n",
    "\n",
    "early_stop = EarlyStopping(\n",
    "    monitor=\"val_loss\",\n",
    "    patience=10,\n",
    "    verbose=1,\n",
    "    mode=\"min\",\n",
    ")\n",
    "\n",
    "callbacks = [WandbCallback(), reduce_lr, early_stop]"
   ]
  },
  {
   "cell_type": "markdown",
   "metadata": {},
   "source": [
    "### Train the model"
   ]
  },
  {
   "cell_type": "code",
   "execution_count": 23,
   "metadata": {
    "pycharm": {
     "is_executing": true
    }
   },
   "outputs": [
    {
     "name": "stdout",
     "output_type": "stream",
     "text": [
      "WARNING:tensorflow:From /opt/conda/lib/python3.9/site-packages/tensorflow/python/profiler/internal/flops_registry.py:142: tensor_shape_from_node_def_name (from tensorflow.python.framework.graph_util_impl) is deprecated and will be removed in a future version.\n",
      "Instructions for updating:\n",
      "Use `tf.compat.v1.graph_util.tensor_shape_from_node_def_name`\n"
     ]
    },
    {
     "name": "stderr",
     "output_type": "stream",
     "text": [
      "2022-08-25 12:32:54.166367: I tensorflow/core/grappler/devices.cc:66] Number of eligible GPUs (core count >= 8, compute capability >= 0.0): 0\n",
      "2022-08-25 12:32:54.166485: I tensorflow/core/grappler/clusters/single_machine.cc:357] Starting new session\n",
      "2022-08-25 12:32:54.179144: I tensorflow/core/grappler/optimizers/meta_optimizer.cc:1137] Optimization results for grappler item: graph_to_optimize\n",
      "  function_optimizer: Graph size after: 452 nodes (370), 621 edges (528), time = 5.705ms.\n",
      "  function_optimizer: function_optimizer did nothing. time = 0.104ms.\n",
      "\n",
      "Incomplete shape.\n",
      "Incomplete shape.\n",
      "Incomplete shape.\n",
      "Incomplete shape.\n",
      "Incomplete shape.\n",
      "Incomplete shape.\n",
      "Incomplete shape.\n",
      "Incomplete shape.\n",
      "Incomplete shape.\n",
      "Incomplete shape.\n",
      "Incomplete shape.\n",
      "Incomplete shape.\n"
     ]
    },
    {
     "name": "stdout",
     "output_type": "stream",
     "text": [
      "Epoch 1/50\n",
      "668/668 [==============================] - 18s 25ms/step - loss: 0.8416 - sparse_categorical_accuracy: 0.6454 - val_loss: 0.6596 - val_sparse_categorical_accuracy: 0.7509\n"
     ]
    },
    {
     "name": "stderr",
     "output_type": "stream",
     "text": [
      "2022-08-25 12:33:14.231858: W tensorflow/python/util/util.cc:348] Sets are not currently considered sequences, but this may change in the future, so consider avoiding using them.\n",
      "WARNING:absl:Found untraced functions such as lstm_cell_layer_call_fn, lstm_cell_layer_call_and_return_conditional_losses, lstm_cell_1_layer_call_fn, lstm_cell_1_layer_call_and_return_conditional_losses, lstm_cell_layer_call_fn while saving (showing 5 of 10). These functions will not be directly callable after loading.\n"
     ]
    },
    {
     "name": "stdout",
     "output_type": "stream",
     "text": [
      "INFO:tensorflow:Assets written to: /home/jovyan/work/MED_Fall/wandb/run-20220825_123249-11qj3tqh/files/model-best/assets\n"
     ]
    },
    {
     "name": "stderr",
     "output_type": "stream",
     "text": [
      "INFO:tensorflow:Assets written to: /home/jovyan/work/MED_Fall/wandb/run-20220825_123249-11qj3tqh/files/model-best/assets\n",
      "\u001b[34m\u001b[1mwandb\u001b[0m: Adding directory to artifact (/home/jovyan/work/MED_Fall/wandb/run-20220825_123249-11qj3tqh/files/model-best)... Done. 0.0s\n"
     ]
    },
    {
     "name": "stdout",
     "output_type": "stream",
     "text": [
      "Epoch 2/50\n",
      "668/668 [==============================] - 16s 24ms/step - loss: 0.8039 - sparse_categorical_accuracy: 0.6613 - val_loss: 0.6228 - val_sparse_categorical_accuracy: 0.7421\n"
     ]
    },
    {
     "name": "stderr",
     "output_type": "stream",
     "text": [
      "WARNING:absl:Found untraced functions such as lstm_cell_layer_call_fn, lstm_cell_layer_call_and_return_conditional_losses, lstm_cell_1_layer_call_fn, lstm_cell_1_layer_call_and_return_conditional_losses, lstm_cell_layer_call_fn while saving (showing 5 of 10). These functions will not be directly callable after loading.\n"
     ]
    },
    {
     "name": "stdout",
     "output_type": "stream",
     "text": [
      "INFO:tensorflow:Assets written to: /home/jovyan/work/MED_Fall/wandb/run-20220825_123249-11qj3tqh/files/model-best/assets\n"
     ]
    },
    {
     "name": "stderr",
     "output_type": "stream",
     "text": [
      "INFO:tensorflow:Assets written to: /home/jovyan/work/MED_Fall/wandb/run-20220825_123249-11qj3tqh/files/model-best/assets\n",
      "\u001b[34m\u001b[1mwandb\u001b[0m: Adding directory to artifact (/home/jovyan/work/MED_Fall/wandb/run-20220825_123249-11qj3tqh/files/model-best)... Done. 0.0s\n"
     ]
    },
    {
     "name": "stdout",
     "output_type": "stream",
     "text": [
      "Epoch 3/50\n",
      "668/668 [==============================] - 16s 24ms/step - loss: 0.7849 - sparse_categorical_accuracy: 0.6727 - val_loss: 0.6559 - val_sparse_categorical_accuracy: 0.7465\n",
      "Epoch 4/50\n",
      "668/668 [==============================] - 16s 24ms/step - loss: 0.7684 - sparse_categorical_accuracy: 0.6806 - val_loss: 0.6333 - val_sparse_categorical_accuracy: 0.7544\n",
      "Epoch 5/50\n",
      "668/668 [==============================] - 16s 24ms/step - loss: 0.7557 - sparse_categorical_accuracy: 0.6848 - val_loss: 0.6421 - val_sparse_categorical_accuracy: 0.7342\n",
      "Epoch 6/50\n",
      "668/668 [==============================] - 16s 24ms/step - loss: 0.7444 - sparse_categorical_accuracy: 0.6922 - val_loss: 0.6396 - val_sparse_categorical_accuracy: 0.7526\n",
      "Epoch 7/50\n",
      "668/668 [==============================] - 16s 24ms/step - loss: 0.7317 - sparse_categorical_accuracy: 0.6984 - val_loss: 0.6698 - val_sparse_categorical_accuracy: 0.7227\n",
      "Epoch 8/50\n",
      "668/668 [==============================] - 16s 24ms/step - loss: 0.7220 - sparse_categorical_accuracy: 0.7008 - val_loss: 0.6363 - val_sparse_categorical_accuracy: 0.7280\n",
      "Epoch 9/50\n",
      "668/668 [==============================] - 16s 24ms/step - loss: 0.7154 - sparse_categorical_accuracy: 0.7058 - val_loss: 0.6500 - val_sparse_categorical_accuracy: 0.7254\n",
      "Epoch 10/50\n",
      "668/668 [==============================] - 16s 24ms/step - loss: 0.7053 - sparse_categorical_accuracy: 0.7089 - val_loss: 0.6620 - val_sparse_categorical_accuracy: 0.7245\n",
      "Epoch 11/50\n",
      "668/668 [==============================] - 16s 24ms/step - loss: 0.6969 - sparse_categorical_accuracy: 0.7151 - val_loss: 0.6215 - val_sparse_categorical_accuracy: 0.7359\n"
     ]
    },
    {
     "name": "stderr",
     "output_type": "stream",
     "text": [
      "WARNING:absl:Found untraced functions such as lstm_cell_layer_call_fn, lstm_cell_layer_call_and_return_conditional_losses, lstm_cell_1_layer_call_fn, lstm_cell_1_layer_call_and_return_conditional_losses, lstm_cell_layer_call_fn while saving (showing 5 of 10). These functions will not be directly callable after loading.\n"
     ]
    },
    {
     "name": "stdout",
     "output_type": "stream",
     "text": [
      "INFO:tensorflow:Assets written to: /home/jovyan/work/MED_Fall/wandb/run-20220825_123249-11qj3tqh/files/model-best/assets\n"
     ]
    },
    {
     "name": "stderr",
     "output_type": "stream",
     "text": [
      "INFO:tensorflow:Assets written to: /home/jovyan/work/MED_Fall/wandb/run-20220825_123249-11qj3tqh/files/model-best/assets\n",
      "\u001b[34m\u001b[1mwandb\u001b[0m: Adding directory to artifact (/home/jovyan/work/MED_Fall/wandb/run-20220825_123249-11qj3tqh/files/model-best)... Done. 0.0s\n"
     ]
    },
    {
     "name": "stdout",
     "output_type": "stream",
     "text": [
      "Epoch 12/50\n",
      "668/668 [==============================] - 16s 24ms/step - loss: 0.6935 - sparse_categorical_accuracy: 0.7151 - val_loss: 0.5998 - val_sparse_categorical_accuracy: 0.7403\n"
     ]
    },
    {
     "name": "stderr",
     "output_type": "stream",
     "text": [
      "WARNING:absl:Found untraced functions such as lstm_cell_layer_call_fn, lstm_cell_layer_call_and_return_conditional_losses, lstm_cell_1_layer_call_fn, lstm_cell_1_layer_call_and_return_conditional_losses, lstm_cell_layer_call_fn while saving (showing 5 of 10). These functions will not be directly callable after loading.\n"
     ]
    },
    {
     "name": "stdout",
     "output_type": "stream",
     "text": [
      "INFO:tensorflow:Assets written to: /home/jovyan/work/MED_Fall/wandb/run-20220825_123249-11qj3tqh/files/model-best/assets\n"
     ]
    },
    {
     "name": "stderr",
     "output_type": "stream",
     "text": [
      "INFO:tensorflow:Assets written to: /home/jovyan/work/MED_Fall/wandb/run-20220825_123249-11qj3tqh/files/model-best/assets\n",
      "\u001b[34m\u001b[1mwandb\u001b[0m: Adding directory to artifact (/home/jovyan/work/MED_Fall/wandb/run-20220825_123249-11qj3tqh/files/model-best)... Done. 0.0s\n"
     ]
    },
    {
     "name": "stdout",
     "output_type": "stream",
     "text": [
      "Epoch 13/50\n",
      "668/668 [==============================] - 16s 24ms/step - loss: 0.6883 - sparse_categorical_accuracy: 0.7167 - val_loss: 0.6211 - val_sparse_categorical_accuracy: 0.7544\n",
      "Epoch 14/50\n",
      "668/668 [==============================] - 16s 24ms/step - loss: 0.6788 - sparse_categorical_accuracy: 0.7213 - val_loss: 0.6304 - val_sparse_categorical_accuracy: 0.7465\n",
      "Epoch 15/50\n",
      "668/668 [==============================] - 16s 24ms/step - loss: 0.6737 - sparse_categorical_accuracy: 0.7259 - val_loss: 0.6213 - val_sparse_categorical_accuracy: 0.7500\n",
      "Epoch 16/50\n",
      "668/668 [==============================] - 16s 24ms/step - loss: 0.6683 - sparse_categorical_accuracy: 0.7286 - val_loss: 0.6425 - val_sparse_categorical_accuracy: 0.7298\n",
      "Epoch 17/50\n",
      "668/668 [==============================] - 16s 24ms/step - loss: 0.6626 - sparse_categorical_accuracy: 0.7319 - val_loss: 0.6698 - val_sparse_categorical_accuracy: 0.7315\n",
      "Epoch 18/50\n",
      "668/668 [==============================] - 16s 24ms/step - loss: 0.6589 - sparse_categorical_accuracy: 0.7354 - val_loss: 0.6280 - val_sparse_categorical_accuracy: 0.7368\n",
      "Epoch 19/50\n",
      "668/668 [==============================] - 16s 24ms/step - loss: 0.6492 - sparse_categorical_accuracy: 0.7376 - val_loss: 0.6416 - val_sparse_categorical_accuracy: 0.7359\n",
      "Epoch 20/50\n",
      "668/668 [==============================] - 16s 24ms/step - loss: 0.6442 - sparse_categorical_accuracy: 0.7397 - val_loss: 0.6490 - val_sparse_categorical_accuracy: 0.7447\n",
      "Epoch 21/50\n",
      "668/668 [==============================] - 16s 24ms/step - loss: 0.6381 - sparse_categorical_accuracy: 0.7448 - val_loss: 0.6476 - val_sparse_categorical_accuracy: 0.7412\n",
      "Epoch 22/50\n",
      "668/668 [==============================] - 16s 24ms/step - loss: 0.6359 - sparse_categorical_accuracy: 0.7450 - val_loss: 0.6717 - val_sparse_categorical_accuracy: 0.7139\n",
      "Epoch 23/50\n",
      "668/668 [==============================] - 16s 24ms/step - loss: 0.6303 - sparse_categorical_accuracy: 0.7484 - val_loss: 0.6318 - val_sparse_categorical_accuracy: 0.7421\n",
      "Epoch 24/50\n",
      "668/668 [==============================] - 16s 24ms/step - loss: 0.6222 - sparse_categorical_accuracy: 0.7533 - val_loss: 0.6340 - val_sparse_categorical_accuracy: 0.7157\n",
      "Epoch 25/50\n",
      "668/668 [==============================] - 16s 24ms/step - loss: 0.6207 - sparse_categorical_accuracy: 0.7545 - val_loss: 0.6704 - val_sparse_categorical_accuracy: 0.7218\n",
      "Epoch 26/50\n",
      "668/668 [==============================] - 16s 24ms/step - loss: 0.6149 - sparse_categorical_accuracy: 0.7533 - val_loss: 0.6707 - val_sparse_categorical_accuracy: 0.7148\n",
      "Epoch 27/50\n",
      "668/668 [==============================] - 16s 24ms/step - loss: 0.6114 - sparse_categorical_accuracy: 0.7562 - val_loss: 0.6281 - val_sparse_categorical_accuracy: 0.7298\n",
      "Epoch 28/50\n",
      "668/668 [==============================] - 16s 24ms/step - loss: 0.6066 - sparse_categorical_accuracy: 0.7571 - val_loss: 0.6016 - val_sparse_categorical_accuracy: 0.7526\n",
      "Epoch 29/50\n",
      "668/668 [==============================] - 16s 24ms/step - loss: 0.6008 - sparse_categorical_accuracy: 0.7600 - val_loss: 0.6435 - val_sparse_categorical_accuracy: 0.7236\n",
      "Epoch 30/50\n",
      "668/668 [==============================] - 16s 24ms/step - loss: 0.5984 - sparse_categorical_accuracy: 0.7609 - val_loss: 0.6548 - val_sparse_categorical_accuracy: 0.7245\n",
      "Epoch 31/50\n",
      "668/668 [==============================] - 16s 24ms/step - loss: 0.5927 - sparse_categorical_accuracy: 0.7644 - val_loss: 0.7279 - val_sparse_categorical_accuracy: 0.6901\n",
      "Epoch 32/50\n",
      "668/668 [==============================] - 16s 24ms/step - loss: 0.5885 - sparse_categorical_accuracy: 0.7649 - val_loss: 0.5752 - val_sparse_categorical_accuracy: 0.7553\n"
     ]
    },
    {
     "name": "stderr",
     "output_type": "stream",
     "text": [
      "WARNING:absl:Found untraced functions such as lstm_cell_layer_call_fn, lstm_cell_layer_call_and_return_conditional_losses, lstm_cell_1_layer_call_fn, lstm_cell_1_layer_call_and_return_conditional_losses, lstm_cell_layer_call_fn while saving (showing 5 of 10). These functions will not be directly callable after loading.\n"
     ]
    },
    {
     "name": "stdout",
     "output_type": "stream",
     "text": [
      "INFO:tensorflow:Assets written to: /home/jovyan/work/MED_Fall/wandb/run-20220825_123249-11qj3tqh/files/model-best/assets\n"
     ]
    },
    {
     "name": "stderr",
     "output_type": "stream",
     "text": [
      "INFO:tensorflow:Assets written to: /home/jovyan/work/MED_Fall/wandb/run-20220825_123249-11qj3tqh/files/model-best/assets\n",
      "\u001b[34m\u001b[1mwandb\u001b[0m: Adding directory to artifact (/home/jovyan/work/MED_Fall/wandb/run-20220825_123249-11qj3tqh/files/model-best)... Done. 0.0s\n"
     ]
    },
    {
     "name": "stdout",
     "output_type": "stream",
     "text": [
      "Epoch 33/50\n",
      "668/668 [==============================] - 16s 24ms/step - loss: 0.5845 - sparse_categorical_accuracy: 0.7690 - val_loss: 0.6114 - val_sparse_categorical_accuracy: 0.7447\n",
      "Epoch 34/50\n",
      "668/668 [==============================] - 16s 24ms/step - loss: 0.5794 - sparse_categorical_accuracy: 0.7728 - val_loss: 0.6506 - val_sparse_categorical_accuracy: 0.7386\n",
      "Epoch 35/50\n",
      "668/668 [==============================] - 16s 24ms/step - loss: 0.5769 - sparse_categorical_accuracy: 0.7735 - val_loss: 0.6502 - val_sparse_categorical_accuracy: 0.7298\n",
      "Epoch 36/50\n",
      "668/668 [==============================] - 16s 24ms/step - loss: 0.5734 - sparse_categorical_accuracy: 0.7752 - val_loss: 0.6072 - val_sparse_categorical_accuracy: 0.7342\n",
      "Epoch 37/50\n",
      "668/668 [==============================] - 16s 24ms/step - loss: 0.5691 - sparse_categorical_accuracy: 0.7748 - val_loss: 0.6079 - val_sparse_categorical_accuracy: 0.7500\n",
      "Epoch 38/50\n",
      "668/668 [==============================] - 16s 24ms/step - loss: 0.5644 - sparse_categorical_accuracy: 0.7793 - val_loss: 0.6060 - val_sparse_categorical_accuracy: 0.7553\n",
      "Epoch 39/50\n",
      "668/668 [==============================] - 16s 24ms/step - loss: 0.5608 - sparse_categorical_accuracy: 0.7769 - val_loss: 0.6318 - val_sparse_categorical_accuracy: 0.7544\n",
      "Epoch 40/50\n",
      "668/668 [==============================] - 16s 24ms/step - loss: 0.5587 - sparse_categorical_accuracy: 0.7777 - val_loss: 0.6242 - val_sparse_categorical_accuracy: 0.7210\n",
      "Epoch 41/50\n",
      "668/668 [==============================] - 16s 24ms/step - loss: 0.5533 - sparse_categorical_accuracy: 0.7839 - val_loss: 0.6080 - val_sparse_categorical_accuracy: 0.7632\n",
      "Epoch 42/50\n",
      "668/668 [==============================] - 16s 24ms/step - loss: 0.5520 - sparse_categorical_accuracy: 0.7835 - val_loss: 0.5981 - val_sparse_categorical_accuracy: 0.7280\n",
      "Epoch 43/50\n",
      "668/668 [==============================] - 16s 24ms/step - loss: 0.5471 - sparse_categorical_accuracy: 0.7846 - val_loss: 0.6535 - val_sparse_categorical_accuracy: 0.7359\n",
      "Epoch 44/50\n",
      "668/668 [==============================] - 16s 24ms/step - loss: 0.5446 - sparse_categorical_accuracy: 0.7862 - val_loss: 0.8025 - val_sparse_categorical_accuracy: 0.6945\n",
      "Epoch 45/50\n",
      "668/668 [==============================] - 16s 24ms/step - loss: 0.5389 - sparse_categorical_accuracy: 0.7899 - val_loss: 0.6449 - val_sparse_categorical_accuracy: 0.7333\n",
      "Epoch 46/50\n",
      "668/668 [==============================] - 16s 24ms/step - loss: 0.5377 - sparse_categorical_accuracy: 0.7887 - val_loss: 0.6601 - val_sparse_categorical_accuracy: 0.7298\n",
      "Epoch 47/50\n",
      "668/668 [==============================] - 16s 24ms/step - loss: 0.5367 - sparse_categorical_accuracy: 0.7901 - val_loss: 0.7209 - val_sparse_categorical_accuracy: 0.6901\n",
      "Epoch 48/50\n",
      "668/668 [==============================] - 16s 24ms/step - loss: 0.5276 - sparse_categorical_accuracy: 0.7940 - val_loss: 0.7081 - val_sparse_categorical_accuracy: 0.7412\n",
      "Epoch 49/50\n",
      "668/668 [==============================] - 16s 24ms/step - loss: 0.5270 - sparse_categorical_accuracy: 0.7938 - val_loss: 0.6545 - val_sparse_categorical_accuracy: 0.7518\n",
      "Epoch 50/50\n",
      "668/668 [==============================] - 16s 24ms/step - loss: 0.5264 - sparse_categorical_accuracy: 0.7970 - val_loss: 0.6683 - val_sparse_categorical_accuracy: 0.7324\n"
     ]
    }
   ],
   "source": [
    "# Train Model\n",
    "history = model.fit(\n",
    "    x=X_train_series,\n",
    "    y=y_train_series,\n",
    "    validation_data=(X_val_series, y_val_series),\n",
    "    epochs=cfg.epochs,\n",
    "    callbacks=callbacks,\n",
    "    batch_size=cfg.batch_size,\n",
    ")"
   ]
  },
  {
   "cell_type": "code",
   "execution_count": 35,
   "metadata": {},
   "outputs": [
    {
     "data": {
      "image/png": "[encoded data removed]",
      "text/plain": [
       "<Figure size 432x288 with 1 Axes>"
      ]
     },
     "metadata": {
      "needs_background": "light"
     },
     "output_type": "display_data"
    }
   ],
   "source": [
    "plt.figure()\n",
    "plt.plot(history.history[\"sparse_categorical_accuracy\"])\n",
    "plt.plot(history.history[\"val_sparse_categorical_accuracy\"])\n",
    "plt.title(\"model accuracy\")\n",
    "plt.ylabel(\"accuracy\")\n",
    "plt.xlabel(\"epoch\")\n",
    "plt.legend([\"train\", \"val\"], loc=\"upper left\")\n",
    "plt.grid()\n",
    "plt.show()"
   ]
  },
  {
   "cell_type": "code",
   "execution_count": 36,
   "metadata": {},
   "outputs": [
    {
     "data": {
      "image/png": "[encoded data removed]",
      "text/plain": [
       "<Figure size 432x288 with 1 Axes>"
      ]
     },
     "metadata": {
      "needs_background": "light"
     },
     "output_type": "display_data"
    },
    {
     "name": "stderr",
     "output_type": "stream",
     "text": [
      "wandb: Waiting for W&B process to finish... (success).\n",
      "wandb: - 19.212 MB of 19.212 MB uploaded (0.017 MB deduped)\r"
     ]
    }
   ],
   "source": [
    "plt.plot(history.history[\"loss\"])\n",
    "plt.plot(history.history[\"val_loss\"])\n",
    "plt.title(\"model loss\")\n",
    "plt.ylabel(\"loss\")\n",
    "plt.xlabel(\"epoch\")\n",
    "plt.legend([\"train\", \"val\"], loc=\"upper left\")\n",
    "plt.grid()\n",
    "plt.show()"
   ]
  },
  {
   "cell_type": "markdown",
   "metadata": {},
   "source": [
    "### Evaluate the model"
   ]
  },
  {
   "cell_type": "code",
   "execution_count": 24,
   "metadata": {},
   "outputs": [
    {
     "name": "stdout",
     "output_type": "stream",
     "text": [
      "29/29 [==============================] - 1s 8ms/step\n"
     ]
    }
   ],
   "source": [
    "val_logits = model.predict(X_val_series, batch_size=40, verbose=1)"
   ]
  },
  {
   "cell_type": "code",
   "execution_count": 25,
   "metadata": {},
   "outputs": [],
   "source": [
    "# free up memory\n",
    "# del X_train_series\n",
    "# del y_train_series\n",
    "# del X_val_series\n",
    "# del y_val_series\n",
    "\n",
    "# gc.collect()"
   ]
  },
  {
   "cell_type": "markdown",
   "metadata": {},
   "source": [
    "### Log metrics to wandb"
   ]
  },
  {
   "cell_type": "code",
   "execution_count": 26,
   "metadata": {},
   "outputs": [],
   "source": [
    "y_pred_val_classes = np.argmax(val_logits, axis=1).tolist()\n",
    "\n",
    "cr = classification_report(\n",
    "    y_val_series, y_pred_val_classes, target_names=[\"adl\", \"fall\", \"lie_down\"]\n",
    ")\n",
    "\n",
    "# wandb.log({\"Classification Report\": cr})\n",
    "\n",
    "# wandb.sklearn.plot_roc(y_val_series, val_logits, classes)\n",
    "# wandb.sklearn.plot_class_proportions(y_train_series, y_val_series, classes)\n",
    "# wandb.sklearn.plot_precision_recall(y_val_series, val_logits, classes)\n",
    "# wandb.sklearn.plot_confusion_matrix(y_val_series, y_pred_val_classes, classes)\n",
    "# wandb.join()"
   ]
  },
  {
   "cell_type": "markdown",
   "metadata": {},
   "source": [
    "### Classification report"
   ]
  },
  {
   "cell_type": "code",
   "execution_count": 27,
   "metadata": {},
   "outputs": [
    {
     "name": "stdout",
     "output_type": "stream",
     "text": [
      "              precision    recall  f1-score   support\n",
      "\n",
      "         adl       0.81      0.86      0.84       841\n",
      "        fall       0.56      0.37      0.44       234\n",
      "    lie_down       0.21      0.31      0.25        61\n",
      "\n",
      "    accuracy                           0.73      1136\n",
      "   macro avg       0.53      0.51      0.51      1136\n",
      "weighted avg       0.73      0.73      0.73      1136\n",
      "\n"
     ]
    }
   ],
   "source": [
    "print(cr)"
   ]
  },
  {
   "cell_type": "code",
   "execution_count": null,
   "metadata": {},
   "outputs": [],
   "source": []
  }
 ],
 "metadata": {
  "interpreter": {
   "hash": "045da2998f02dde6c755b0fa2e74d8766d7d056d6163358ab445ad432d6df67f"
  },
  "kernelspec": {
   "display_name": "Python 3 (ipykernel)",
   "language": "python",
   "name": "python3"
  },
  "language_info": {
   "codemirror_mode": {
    "name": "ipython",
    "version": 3
   },
   "file_extension": ".py",
   "mimetype": "text/x-python",
   "name": "python",
   "nbconvert_exporter": "python",
   "pygments_lexer": "ipython3",
   "version": "3.9.12"
  }
 },
 "nbformat": 4,
 "nbformat_minor": 4
}
