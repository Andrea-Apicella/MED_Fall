{
 "cells": [
  {
   "cell_type": "markdown",
   "id": "8cc03ab9-4832-4382-bf60-29d006b6dbad",
   "metadata": {},
   "source": [
    "### Imports"
   ]
  },
  {
   "cell_type": "code",
   "execution_count": 30,
   "id": "b7b4f8f2-ff9b-4bb1-bfd1-44ba404783b4",
   "metadata": {},
   "outputs": [
    {
     "name": "stdout",
     "output_type": "stream",
     "text": [
      "The autoreload extension is already loaded. To reload it, use:\n",
      "  %reload_ext autoreload\n"
     ]
    }
   ],
   "source": [
    "%load_ext autoreload\n",
    "%autoreload 2"
   ]
  },
  {
   "cell_type": "code",
   "execution_count": 31,
   "id": "0ebfb3fe-f9d6-4748-b584-77ebf2c4f43e",
   "metadata": {},
   "outputs": [],
   "source": [
    "import matplotlib.pyplot as plt\n",
    "import numpy as np\n",
    "import pandas as pd\n",
    "from random import randrange\n",
    "import tensorflow as tf\n",
    "from sklearn.preprocessing import LabelBinarizer\n",
    "from tensorflow.keras import layers\n",
    "from tensorflow.keras.models import Sequential\n",
    "from sklearn.metrics import classification_report\n",
    "\n",
    "from utils.utility_functions import listdir_nohidden_sorted as lsdir\n",
    "from vision.vision_utils.video_seq_generator import VideoSeqGenerator"
   ]
  },
  {
   "cell_type": "markdown",
   "id": "fe48352f-cfc1-4781-bd8a-116b25beb52c",
   "metadata": {},
   "source": [
    "### Paths"
   ]
  },
  {
   "cell_type": "code",
   "execution_count": 32,
   "id": "c182f2b9-653d-461b-b3a4-359388edbbf6",
   "metadata": {},
   "outputs": [],
   "source": [
    "MED_FALL = \"/home/jovyan/work/MED_Fall\"\n",
    "GROUND_TRUTH_PATH = f\"{MED_FALL}/vision/vision_dataset/ground_truth_new\"\n",
    "FRAMES_PATH = f\"{MED_FALL}/vision/vision_dataset/extracted_frames\""
   ]
  },
  {
   "cell_type": "markdown",
   "id": "7103cc27-bd03-4583-95f2-1067078394b3",
   "metadata": {
    "tags": []
   },
   "source": [
    "### Hyperparameters"
   ]
  },
  {
   "cell_type": "code",
   "execution_count": 33,
   "id": "6053081c-e2bf-4788-96b3-09eeb802c9d2",
   "metadata": {},
   "outputs": [],
   "source": [
    "SEQ_LEN: int = 16\n",
    "STRIDE: int = 8\n",
    "BATCH_SIZE: int = 8\n",
    "INPUT_SHAPE: tuple[int, int, int] = (112, 112, 3)"
   ]
  },
  {
   "cell_type": "code",
   "execution_count": 34,
   "id": "6e2c7f99-5383-416b-be89-6f67249279c2",
   "metadata": {},
   "outputs": [],
   "source": [
    "physical_devices = tf.config.list_physical_devices('GPU')\n",
    "try:\n",
    "  tf.config.experimental.set_memory_growth(physical_devices[0], True)\n",
    "except:\n",
    "  # Invalid device or cannot modify virtual devices once initialized.\n",
    "  pass\n"
   ]
  },
  {
   "cell_type": "markdown",
   "id": "14ac1b25-b220-4847-87c3-7355c5f6c332",
   "metadata": {
    "tags": []
   },
   "source": [
    "### Utility Functions"
   ]
  },
  {
   "cell_type": "code",
   "execution_count": 35,
   "id": "cfef0bd3-8400-400d-8e1d-df3a262cd93f",
   "metadata": {},
   "outputs": [],
   "source": [
    "def get_cam(name: str) -> int:\n",
    "    \"\"\"\n",
    "    Extract cam number from each video frame name\n",
    "    ------\n",
    "\n",
    "    arguments:\n",
    "        - name: string containing the frame name. Examle: 'Actor_1_bed_cam_1_0000'\n",
    "\n",
    "    outputs:\n",
    "        - cam_number: integer containg the cam number of the provided frame name.\n",
    "                    Example: if name is 'Actor_1_bed_cam_1_0000', cam_number is: 1.\n",
    "    \"\"\"\n",
    "\n",
    "    start = name.find(\"cam_\")\n",
    "    ind = start + 4\n",
    "    cam_number = name[ind]\n",
    "    return int(cam_number)\n",
    "\n",
    "\n",
    "def show_frames_series(\n",
    "    frames_series: np.array, title: str, figsize: tuple[int, int] = (20, 20), nrows=5\n",
    "):\n",
    "    \"\"\"\n",
    "    plot a series of SEQ_LEN frames with respective labels as titles.\n",
    "    --------\n",
    "\n",
    "    arguments:\n",
    "        - frames_series: np.array containg SEQ_LEN images.\n",
    "        - title: strcontainging the label of the series of frame. The label is calculated as the mode (most frequent label) of the single frames' labels.\n",
    "        - fig_size: Optional. Tuple of two integers containing the figure dimensions for the plot. Default is (20, 20).\n",
    "\n",
    "    \"\"\"\n",
    "    rows = nrows\n",
    "\n",
    "    fig = plt.figure(figsize=figsize)\n",
    "    for n, image in enumerate(frames_series):\n",
    "        a = fig.add_subplot(rows, int(len(frames_series) / float(rows)), n + 1)\n",
    "\n",
    "        plt.imshow(image)\n",
    "        plt.axis(\"off\")\n",
    "    fig.suptitle(title)\n",
    "    plt.show()"
   ]
  },
  {
   "cell_type": "markdown",
   "id": "55e426db-8691-41f4-b73c-b5a00b78862a",
   "metadata": {
    "tags": []
   },
   "source": [
    "## Load Dataset"
   ]
  },
  {
   "cell_type": "code",
   "execution_count": 36,
   "id": "7d6b6094-dc5a-42d6-a534-c35d6c77a9ff",
   "metadata": {},
   "outputs": [
    {
     "data": {
      "text/html": [
       "<div>\n",
       "<style scoped>\n",
       "    .dataframe tbody tr th:only-of-type {\n",
       "        vertical-align: middle;\n",
       "    }\n",
       "\n",
       "    .dataframe tbody tr th {\n",
       "        vertical-align: top;\n",
       "    }\n",
       "\n",
       "    .dataframe thead th {\n",
       "        text-align: right;\n",
       "    }\n",
       "</style>\n",
       "<table border=\"1\" class=\"dataframe\">\n",
       "  <thead>\n",
       "    <tr style=\"text-align: right;\">\n",
       "      <th></th>\n",
       "      <th>micro_labels</th>\n",
       "      <th>macro_labels</th>\n",
       "      <th>ar_labels</th>\n",
       "      <th>frame_name</th>\n",
       "    </tr>\n",
       "  </thead>\n",
       "  <tbody>\n",
       "    <tr>\n",
       "      <th>0</th>\n",
       "      <td>lie_still</td>\n",
       "      <td>lying_down</td>\n",
       "      <td>actor_repositioning</td>\n",
       "      <td>actor_1_bed_cam_1_0000</td>\n",
       "    </tr>\n",
       "    <tr>\n",
       "      <th>1</th>\n",
       "      <td>lie_still</td>\n",
       "      <td>lying_down</td>\n",
       "      <td>actor_repositioning</td>\n",
       "      <td>actor_1_bed_cam_1_0001</td>\n",
       "    </tr>\n",
       "    <tr>\n",
       "      <th>2</th>\n",
       "      <td>lie_still</td>\n",
       "      <td>lying_down</td>\n",
       "      <td>actor_repositioning</td>\n",
       "      <td>actor_1_bed_cam_1_0002</td>\n",
       "    </tr>\n",
       "    <tr>\n",
       "      <th>3</th>\n",
       "      <td>lie_still</td>\n",
       "      <td>lying_down</td>\n",
       "      <td>actor_repositioning</td>\n",
       "      <td>actor_1_bed_cam_1_0003</td>\n",
       "    </tr>\n",
       "    <tr>\n",
       "      <th>4</th>\n",
       "      <td>lie_still</td>\n",
       "      <td>lying_down</td>\n",
       "      <td>actor_repositioning</td>\n",
       "      <td>actor_1_bed_cam_1_0004</td>\n",
       "    </tr>\n",
       "    <tr>\n",
       "      <th>...</th>\n",
       "      <td>...</td>\n",
       "      <td>...</td>\n",
       "      <td>...</td>\n",
       "      <td>...</td>\n",
       "    </tr>\n",
       "    <tr>\n",
       "      <th>1182295</th>\n",
       "      <td>stand_up_from_floor</td>\n",
       "      <td>adl</td>\n",
       "      <td>actor_repositioning</td>\n",
       "      <td>actor_4_chair_full_ph_cam_7_4615</td>\n",
       "    </tr>\n",
       "    <tr>\n",
       "      <th>1182296</th>\n",
       "      <td>stand_up_from_floor</td>\n",
       "      <td>adl</td>\n",
       "      <td>actor_repositioning</td>\n",
       "      <td>actor_4_chair_full_ph_cam_7_4616</td>\n",
       "    </tr>\n",
       "    <tr>\n",
       "      <th>1182297</th>\n",
       "      <td>stand_up_from_floor</td>\n",
       "      <td>adl</td>\n",
       "      <td>actor_repositioning</td>\n",
       "      <td>actor_4_chair_full_ph_cam_7_4617</td>\n",
       "    </tr>\n",
       "    <tr>\n",
       "      <th>1182298</th>\n",
       "      <td>stand_up_from_floor</td>\n",
       "      <td>adl</td>\n",
       "      <td>actor_repositioning</td>\n",
       "      <td>actor_4_chair_full_ph_cam_7_4618</td>\n",
       "    </tr>\n",
       "    <tr>\n",
       "      <th>1182299</th>\n",
       "      <td>stand_up_from_floor</td>\n",
       "      <td>adl</td>\n",
       "      <td>actor_repositioning</td>\n",
       "      <td>actor_4_chair_full_ph_cam_7_4619</td>\n",
       "    </tr>\n",
       "  </tbody>\n",
       "</table>\n",
       "<p>1182300 rows × 4 columns</p>\n",
       "</div>"
      ],
      "text/plain": [
       "                micro_labels macro_labels            ar_labels  \\\n",
       "0                  lie_still   lying_down  actor_repositioning   \n",
       "1                  lie_still   lying_down  actor_repositioning   \n",
       "2                  lie_still   lying_down  actor_repositioning   \n",
       "3                  lie_still   lying_down  actor_repositioning   \n",
       "4                  lie_still   lying_down  actor_repositioning   \n",
       "...                      ...          ...                  ...   \n",
       "1182295  stand_up_from_floor          adl  actor_repositioning   \n",
       "1182296  stand_up_from_floor          adl  actor_repositioning   \n",
       "1182297  stand_up_from_floor          adl  actor_repositioning   \n",
       "1182298  stand_up_from_floor          adl  actor_repositioning   \n",
       "1182299  stand_up_from_floor          adl  actor_repositioning   \n",
       "\n",
       "                               frame_name  \n",
       "0                  actor_1_bed_cam_1_0000  \n",
       "1                  actor_1_bed_cam_1_0001  \n",
       "2                  actor_1_bed_cam_1_0002  \n",
       "3                  actor_1_bed_cam_1_0003  \n",
       "4                  actor_1_bed_cam_1_0004  \n",
       "...                                   ...  \n",
       "1182295  actor_4_chair_full_ph_cam_7_4615  \n",
       "1182296  actor_4_chair_full_ph_cam_7_4616  \n",
       "1182297  actor_4_chair_full_ph_cam_7_4617  \n",
       "1182298  actor_4_chair_full_ph_cam_7_4618  \n",
       "1182299  actor_4_chair_full_ph_cam_7_4619  \n",
       "\n",
       "[1182300 rows x 4 columns]"
      ]
     },
     "execution_count": 36,
     "metadata": {},
     "output_type": "execute_result"
    }
   ],
   "source": [
    "# Load all csv files (one per actor). Each file contains frames names and respective labels.\n",
    "dfs = []\n",
    "for file in lsdir(GROUND_TRUTH_PATH):\n",
    "    df = pd.read_csv(file)\n",
    "    dfs.append(df)\n",
    "# concatenate all csv files in one pandas DF\n",
    "dataset = pd.concat(dfs, ignore_index=True, axis=0)\n",
    "dataset = dataset.iloc[:, 2:]\n",
    "dataset"
   ]
  },
  {
   "cell_type": "code",
   "execution_count": 37,
   "id": "7ea79a72-7500-410a-9f02-5c1bd0105670",
   "metadata": {},
   "outputs": [
    {
     "data": {
      "text/html": [
       "<div>\n",
       "<style scoped>\n",
       "    .dataframe tbody tr th:only-of-type {\n",
       "        vertical-align: middle;\n",
       "    }\n",
       "\n",
       "    .dataframe tbody tr th {\n",
       "        vertical-align: top;\n",
       "    }\n",
       "\n",
       "    .dataframe thead th {\n",
       "        text-align: right;\n",
       "    }\n",
       "</style>\n",
       "<table border=\"1\" class=\"dataframe\">\n",
       "  <thead>\n",
       "    <tr style=\"text-align: right;\">\n",
       "      <th></th>\n",
       "      <th>micro_labels</th>\n",
       "      <th>macro_labels</th>\n",
       "      <th>ar_labels</th>\n",
       "      <th>frame_name</th>\n",
       "    </tr>\n",
       "  </thead>\n",
       "  <tbody>\n",
       "    <tr>\n",
       "      <th>206</th>\n",
       "      <td>sit_up_from_lying</td>\n",
       "      <td>adl</td>\n",
       "      <td>on_air</td>\n",
       "      <td>actor_1_bed_cam_1_0206</td>\n",
       "    </tr>\n",
       "    <tr>\n",
       "      <th>207</th>\n",
       "      <td>sit_up_from_lying</td>\n",
       "      <td>adl</td>\n",
       "      <td>on_air</td>\n",
       "      <td>actor_1_bed_cam_1_0207</td>\n",
       "    </tr>\n",
       "    <tr>\n",
       "      <th>208</th>\n",
       "      <td>sit_up_from_lying</td>\n",
       "      <td>adl</td>\n",
       "      <td>on_air</td>\n",
       "      <td>actor_1_bed_cam_1_0208</td>\n",
       "    </tr>\n",
       "    <tr>\n",
       "      <th>209</th>\n",
       "      <td>sit_up_from_lying</td>\n",
       "      <td>adl</td>\n",
       "      <td>on_air</td>\n",
       "      <td>actor_1_bed_cam_1_0209</td>\n",
       "    </tr>\n",
       "    <tr>\n",
       "      <th>210</th>\n",
       "      <td>sit_up_from_lying</td>\n",
       "      <td>adl</td>\n",
       "      <td>on_air</td>\n",
       "      <td>actor_1_bed_cam_1_0210</td>\n",
       "    </tr>\n",
       "    <tr>\n",
       "      <th>...</th>\n",
       "      <td>...</td>\n",
       "      <td>...</td>\n",
       "      <td>...</td>\n",
       "      <td>...</td>\n",
       "    </tr>\n",
       "    <tr>\n",
       "      <th>1182213</th>\n",
       "      <td>crouched_still</td>\n",
       "      <td>falling</td>\n",
       "      <td>on_air</td>\n",
       "      <td>actor_4_chair_full_ph_cam_7_4533</td>\n",
       "    </tr>\n",
       "    <tr>\n",
       "      <th>1182214</th>\n",
       "      <td>crouched_still</td>\n",
       "      <td>falling</td>\n",
       "      <td>on_air</td>\n",
       "      <td>actor_4_chair_full_ph_cam_7_4534</td>\n",
       "    </tr>\n",
       "    <tr>\n",
       "      <th>1182215</th>\n",
       "      <td>crouched_still</td>\n",
       "      <td>falling</td>\n",
       "      <td>on_air</td>\n",
       "      <td>actor_4_chair_full_ph_cam_7_4535</td>\n",
       "    </tr>\n",
       "    <tr>\n",
       "      <th>1182216</th>\n",
       "      <td>crouched_still</td>\n",
       "      <td>falling</td>\n",
       "      <td>on_air</td>\n",
       "      <td>actor_4_chair_full_ph_cam_7_4536</td>\n",
       "    </tr>\n",
       "    <tr>\n",
       "      <th>1182217</th>\n",
       "      <td>crouched_still</td>\n",
       "      <td>falling</td>\n",
       "      <td>on_air</td>\n",
       "      <td>actor_4_chair_full_ph_cam_7_4537</td>\n",
       "    </tr>\n",
       "  </tbody>\n",
       "</table>\n",
       "<p>386106 rows × 4 columns</p>\n",
       "</div>"
      ],
      "text/plain": [
       "              micro_labels macro_labels ar_labels  \\\n",
       "206      sit_up_from_lying          adl    on_air   \n",
       "207      sit_up_from_lying          adl    on_air   \n",
       "208      sit_up_from_lying          adl    on_air   \n",
       "209      sit_up_from_lying          adl    on_air   \n",
       "210      sit_up_from_lying          adl    on_air   \n",
       "...                    ...          ...       ...   \n",
       "1182213     crouched_still      falling    on_air   \n",
       "1182214     crouched_still      falling    on_air   \n",
       "1182215     crouched_still      falling    on_air   \n",
       "1182216     crouched_still      falling    on_air   \n",
       "1182217     crouched_still      falling    on_air   \n",
       "\n",
       "                               frame_name  \n",
       "206                actor_1_bed_cam_1_0206  \n",
       "207                actor_1_bed_cam_1_0207  \n",
       "208                actor_1_bed_cam_1_0208  \n",
       "209                actor_1_bed_cam_1_0209  \n",
       "210                actor_1_bed_cam_1_0210  \n",
       "...                                   ...  \n",
       "1182213  actor_4_chair_full_ph_cam_7_4533  \n",
       "1182214  actor_4_chair_full_ph_cam_7_4534  \n",
       "1182215  actor_4_chair_full_ph_cam_7_4535  \n",
       "1182216  actor_4_chair_full_ph_cam_7_4536  \n",
       "1182217  actor_4_chair_full_ph_cam_7_4537  \n",
       "\n",
       "[386106 rows x 4 columns]"
      ]
     },
     "execution_count": 37,
     "metadata": {},
     "output_type": "execute_result"
    }
   ],
   "source": [
    "# Select only \"on_air\" frames (where actors are performing sequences)\n",
    "dataset_onair = dataset.loc[dataset[\"ar_labels\"] == \"on_air\"].copy()\n",
    "dataset_onair"
   ]
  },
  {
   "cell_type": "code",
   "execution_count": 38,
   "id": "1b77e37f-05c3-471b-9999-e7dddf7987d5",
   "metadata": {},
   "outputs": [
    {
     "data": {
      "text/plain": [
       "adl           269836\n",
       "falling        88312\n",
       "lying_down     27958\n",
       "Name: macro_labels, dtype: int64"
      ]
     },
     "execution_count": 38,
     "metadata": {},
     "output_type": "execute_result"
    }
   ],
   "source": [
    "# check on_air dataset samples per class\n",
    "dataset_onair[\"macro_labels\"].value_counts()"
   ]
  },
  {
   "cell_type": "code",
   "execution_count": 39,
   "id": "b55f678b-74c3-471e-b2f5-98c73581d0ea",
   "metadata": {},
   "outputs": [
    {
     "data": {
      "text/plain": [
       "{'adl': array([1, 0, 0]),\n",
       " 'falling': array([0, 1, 0]),\n",
       " 'lying_down': array([0, 0, 1])}"
      ]
     },
     "execution_count": 39,
     "metadata": {},
     "output_type": "execute_result"
    }
   ],
   "source": [
    "# instantiate and fit a OneHotEncoder for the macro classes (adl, fall, lie_down)\n",
    "le = LabelBinarizer()\n",
    "le.fit(dataset_onair[\"macro_labels\"])\n",
    "le_name_mapping = dict(zip(le.classes_, le.transform(le.classes_)))\n",
    "le_name_mapping"
   ]
  },
  {
   "cell_type": "markdown",
   "id": "e92e55d9-cf87-41de-9b43-bfb906e6bfe5",
   "metadata": {},
   "source": [
    "## Use actor 4 as test set"
   ]
  },
  {
   "cell_type": "code",
   "execution_count": 40,
   "id": "0fa761da-c221-4e51-b34d-cbaaa1e6bdfc",
   "metadata": {},
   "outputs": [],
   "source": [
    "actor_4 = dataset_onair.loc[dataset_onair[\"frame_name\"].str.contains(\"actor_4\")].copy()"
   ]
  },
  {
   "cell_type": "code",
   "execution_count": 41,
   "id": "54fb5feb-502f-4bc6-a1f8-0bbb5a604808",
   "metadata": {},
   "outputs": [
    {
     "data": {
      "text/html": [
       "<div>\n",
       "<style scoped>\n",
       "    .dataframe tbody tr th:only-of-type {\n",
       "        vertical-align: middle;\n",
       "    }\n",
       "\n",
       "    .dataframe tbody tr th {\n",
       "        vertical-align: top;\n",
       "    }\n",
       "\n",
       "    .dataframe thead th {\n",
       "        text-align: right;\n",
       "    }\n",
       "</style>\n",
       "<table border=\"1\" class=\"dataframe\">\n",
       "  <thead>\n",
       "    <tr style=\"text-align: right;\">\n",
       "      <th></th>\n",
       "      <th>micro_labels</th>\n",
       "      <th>macro_labels</th>\n",
       "      <th>ar_labels</th>\n",
       "      <th>frame_name</th>\n",
       "    </tr>\n",
       "  </thead>\n",
       "  <tbody>\n",
       "    <tr>\n",
       "      <th>206</th>\n",
       "      <td>sit_up_from_lying</td>\n",
       "      <td>adl</td>\n",
       "      <td>on_air</td>\n",
       "      <td>actor_1_bed_cam_1_0206</td>\n",
       "    </tr>\n",
       "    <tr>\n",
       "      <th>207</th>\n",
       "      <td>sit_up_from_lying</td>\n",
       "      <td>adl</td>\n",
       "      <td>on_air</td>\n",
       "      <td>actor_1_bed_cam_1_0207</td>\n",
       "    </tr>\n",
       "    <tr>\n",
       "      <th>208</th>\n",
       "      <td>sit_up_from_lying</td>\n",
       "      <td>adl</td>\n",
       "      <td>on_air</td>\n",
       "      <td>actor_1_bed_cam_1_0208</td>\n",
       "    </tr>\n",
       "    <tr>\n",
       "      <th>209</th>\n",
       "      <td>sit_up_from_lying</td>\n",
       "      <td>adl</td>\n",
       "      <td>on_air</td>\n",
       "      <td>actor_1_bed_cam_1_0209</td>\n",
       "    </tr>\n",
       "    <tr>\n",
       "      <th>210</th>\n",
       "      <td>sit_up_from_lying</td>\n",
       "      <td>adl</td>\n",
       "      <td>on_air</td>\n",
       "      <td>actor_1_bed_cam_1_0210</td>\n",
       "    </tr>\n",
       "    <tr>\n",
       "      <th>...</th>\n",
       "      <td>...</td>\n",
       "      <td>...</td>\n",
       "      <td>...</td>\n",
       "      <td>...</td>\n",
       "    </tr>\n",
       "    <tr>\n",
       "      <th>1013767</th>\n",
       "      <td>lie_down_on_the_floor</td>\n",
       "      <td>lying_down</td>\n",
       "      <td>on_air</td>\n",
       "      <td>actor_3_walk_stick_full_ph_cam_7_5767</td>\n",
       "    </tr>\n",
       "    <tr>\n",
       "      <th>1013768</th>\n",
       "      <td>lie_down_on_the_floor</td>\n",
       "      <td>lying_down</td>\n",
       "      <td>on_air</td>\n",
       "      <td>actor_3_walk_stick_full_ph_cam_7_5768</td>\n",
       "    </tr>\n",
       "    <tr>\n",
       "      <th>1013769</th>\n",
       "      <td>lie_down_on_the_floor</td>\n",
       "      <td>lying_down</td>\n",
       "      <td>on_air</td>\n",
       "      <td>actor_3_walk_stick_full_ph_cam_7_5769</td>\n",
       "    </tr>\n",
       "    <tr>\n",
       "      <th>1013770</th>\n",
       "      <td>lie_down_on_the_floor</td>\n",
       "      <td>lying_down</td>\n",
       "      <td>on_air</td>\n",
       "      <td>actor_3_walk_stick_full_ph_cam_7_5770</td>\n",
       "    </tr>\n",
       "    <tr>\n",
       "      <th>1013771</th>\n",
       "      <td>lie_down_on_the_floor</td>\n",
       "      <td>lying_down</td>\n",
       "      <td>on_air</td>\n",
       "      <td>actor_3_walk_stick_full_ph_cam_7_5771</td>\n",
       "    </tr>\n",
       "  </tbody>\n",
       "</table>\n",
       "<p>346738 rows × 4 columns</p>\n",
       "</div>"
      ],
      "text/plain": [
       "                  micro_labels macro_labels ar_labels  \\\n",
       "206          sit_up_from_lying          adl    on_air   \n",
       "207          sit_up_from_lying          adl    on_air   \n",
       "208          sit_up_from_lying          adl    on_air   \n",
       "209          sit_up_from_lying          adl    on_air   \n",
       "210          sit_up_from_lying          adl    on_air   \n",
       "...                        ...          ...       ...   \n",
       "1013767  lie_down_on_the_floor   lying_down    on_air   \n",
       "1013768  lie_down_on_the_floor   lying_down    on_air   \n",
       "1013769  lie_down_on_the_floor   lying_down    on_air   \n",
       "1013770  lie_down_on_the_floor   lying_down    on_air   \n",
       "1013771  lie_down_on_the_floor   lying_down    on_air   \n",
       "\n",
       "                                    frame_name  \n",
       "206                     actor_1_bed_cam_1_0206  \n",
       "207                     actor_1_bed_cam_1_0207  \n",
       "208                     actor_1_bed_cam_1_0208  \n",
       "209                     actor_1_bed_cam_1_0209  \n",
       "210                     actor_1_bed_cam_1_0210  \n",
       "...                                        ...  \n",
       "1013767  actor_3_walk_stick_full_ph_cam_7_5767  \n",
       "1013768  actor_3_walk_stick_full_ph_cam_7_5768  \n",
       "1013769  actor_3_walk_stick_full_ph_cam_7_5769  \n",
       "1013770  actor_3_walk_stick_full_ph_cam_7_5770  \n",
       "1013771  actor_3_walk_stick_full_ph_cam_7_5771  \n",
       "\n",
       "[346738 rows x 4 columns]"
      ]
     },
     "execution_count": 41,
     "metadata": {},
     "output_type": "execute_result"
    }
   ],
   "source": [
    "actor_123 = dataset_onair.drop(actor_4.index)\n",
    "actor_123"
   ]
  },
  {
   "cell_type": "code",
   "execution_count": 42,
   "id": "c319587f-ddc9-4ca4-860b-f1800b87f7c0",
   "metadata": {},
   "outputs": [],
   "source": [
    "train_set = actor_123"
   ]
  },
  {
   "cell_type": "code",
   "execution_count": 43,
   "id": "9c08bd3f-d82d-41c3-9a0e-c61504827b2e",
   "metadata": {},
   "outputs": [
    {
     "data": {
      "text/plain": [
       "adl           244132\n",
       "falling        75320\n",
       "lying_down     27286\n",
       "Name: macro_labels, dtype: int64"
      ]
     },
     "execution_count": 43,
     "metadata": {},
     "output_type": "execute_result"
    }
   ],
   "source": [
    "train_set[\"macro_labels\"].value_counts()"
   ]
  },
  {
   "cell_type": "code",
   "execution_count": 44,
   "id": "f1b6a2dc-3cf6-4552-aa66-5f4655da48ce",
   "metadata": {},
   "outputs": [
    {
     "data": {
      "text/plain": [
       "adl           25704\n",
       "falling       12992\n",
       "lying_down      672\n",
       "Name: macro_labels, dtype: int64"
      ]
     },
     "execution_count": 44,
     "metadata": {},
     "output_type": "execute_result"
    }
   ],
   "source": [
    "test_set = actor_4\n",
    "test_set[\"macro_labels\"].value_counts()"
   ]
  },
  {
   "cell_type": "markdown",
   "id": "786a45e9-fe4e-4155-9ab1-1b78a6df7f7e",
   "metadata": {
    "tags": []
   },
   "source": [
    "## Balance dataset"
   ]
  },
  {
   "cell_type": "code",
   "execution_count": 45,
   "id": "846dd261-b4ad-484b-98f0-be7913e4d343",
   "metadata": {
    "tags": []
   },
   "outputs": [
    {
     "data": {
      "text/plain": [
       "adl           27286\n",
       "falling       27286\n",
       "lying_down    27286\n",
       "Name: macro_labels, dtype: int64"
      ]
     },
     "execution_count": 45,
     "metadata": {},
     "output_type": "execute_result"
    }
   ],
   "source": [
    "# dataset_balanced = dataset_onair.copy()  # make a copy of on_air dataset\n",
    "\n",
    "counts = train_set[\"macro_labels\"].value_counts()  # count samples per class\n",
    "minority_class_samples = counts[-1]  # store minority class samples\n",
    "\n",
    "# select adl samples\n",
    "adl_samples = train_set.loc[dataset[\"macro_labels\"] == \"adl\"]\n",
    "\n",
    "# select fall samples\n",
    "fall_samples = train_set.loc[dataset[\"macro_labels\"] == \"falling\"]\n",
    "\n",
    "## subsample\n",
    "\n",
    "# count exceeding adl samples wrt minority_class_samples\n",
    "adl_todrop_ind = len(adl_samples) - minority_class_samples\n",
    "# count exceeding fall samples wrt minority_class_samples\n",
    "fall_todrop_ind = len(fall_samples) - minority_class_samples\n",
    "\n",
    "# select indices to drop from adl subset\n",
    "adl_samples_to_drop = adl_samples.iloc[-adl_todrop_ind:]\n",
    "\n",
    "# select indices to drop from fall subset\n",
    "fall_samples_to_drop = fall_samples.iloc[-fall_todrop_ind:]\n",
    "\n",
    "# actually drop exceeding adl samples\n",
    "train_set.drop(adl_samples_to_drop.index, axis=0, inplace=True)\n",
    "\n",
    "# actually drop exceeding fall samples\n",
    "train_set.drop(fall_samples_to_drop.index, axis=0, inplace=True)\n",
    "\n",
    "# count samples per class of the balanced dataset\n",
    "train_set[\"macro_labels\"].value_counts()"
   ]
  },
  {
   "cell_type": "code",
   "execution_count": 46,
   "id": "480cec87-8ad9-4ed0-ade1-6b48fbb1b0b2",
   "metadata": {},
   "outputs": [],
   "source": [
    "train_set.sort_index(inplace=True)"
   ]
  },
  {
   "cell_type": "code",
   "execution_count": 47,
   "id": "89c327bd-540e-486b-ab86-d7f824ea4571",
   "metadata": {},
   "outputs": [
    {
     "data": {
      "text/html": [
       "<div>\n",
       "<style scoped>\n",
       "    .dataframe tbody tr th:only-of-type {\n",
       "        vertical-align: middle;\n",
       "    }\n",
       "\n",
       "    .dataframe tbody tr th {\n",
       "        vertical-align: top;\n",
       "    }\n",
       "\n",
       "    .dataframe thead th {\n",
       "        text-align: right;\n",
       "    }\n",
       "</style>\n",
       "<table border=\"1\" class=\"dataframe\">\n",
       "  <thead>\n",
       "    <tr style=\"text-align: right;\">\n",
       "      <th></th>\n",
       "      <th>micro_labels</th>\n",
       "      <th>macro_labels</th>\n",
       "      <th>ar_labels</th>\n",
       "      <th>frame_name</th>\n",
       "    </tr>\n",
       "  </thead>\n",
       "  <tbody>\n",
       "    <tr>\n",
       "      <th>113022</th>\n",
       "      <td>rolling_bed</td>\n",
       "      <td>adl</td>\n",
       "      <td>on_air</td>\n",
       "      <td>actor_1_bed_rolling_ph2_cam_2_0882</td>\n",
       "    </tr>\n",
       "    <tr>\n",
       "      <th>113023</th>\n",
       "      <td>rolling_bed</td>\n",
       "      <td>adl</td>\n",
       "      <td>on_air</td>\n",
       "      <td>actor_1_bed_rolling_ph2_cam_2_0883</td>\n",
       "    </tr>\n",
       "    <tr>\n",
       "      <th>113024</th>\n",
       "      <td>rolling_bed</td>\n",
       "      <td>adl</td>\n",
       "      <td>on_air</td>\n",
       "      <td>actor_1_bed_rolling_ph2_cam_2_0884</td>\n",
       "    </tr>\n",
       "    <tr>\n",
       "      <th>113025</th>\n",
       "      <td>rolling_bed</td>\n",
       "      <td>adl</td>\n",
       "      <td>on_air</td>\n",
       "      <td>actor_1_bed_rolling_ph2_cam_2_0885</td>\n",
       "    </tr>\n",
       "    <tr>\n",
       "      <th>113026</th>\n",
       "      <td>rolling_bed</td>\n",
       "      <td>adl</td>\n",
       "      <td>on_air</td>\n",
       "      <td>actor_1_bed_rolling_ph2_cam_2_0886</td>\n",
       "    </tr>\n",
       "    <tr>\n",
       "      <th>...</th>\n",
       "      <td>...</td>\n",
       "      <td>...</td>\n",
       "      <td>...</td>\n",
       "      <td>...</td>\n",
       "    </tr>\n",
       "    <tr>\n",
       "      <th>1013767</th>\n",
       "      <td>lie_down_on_the_floor</td>\n",
       "      <td>lying_down</td>\n",
       "      <td>on_air</td>\n",
       "      <td>actor_3_walk_stick_full_ph_cam_7_5767</td>\n",
       "    </tr>\n",
       "    <tr>\n",
       "      <th>1013768</th>\n",
       "      <td>lie_down_on_the_floor</td>\n",
       "      <td>lying_down</td>\n",
       "      <td>on_air</td>\n",
       "      <td>actor_3_walk_stick_full_ph_cam_7_5768</td>\n",
       "    </tr>\n",
       "    <tr>\n",
       "      <th>1013769</th>\n",
       "      <td>lie_down_on_the_floor</td>\n",
       "      <td>lying_down</td>\n",
       "      <td>on_air</td>\n",
       "      <td>actor_3_walk_stick_full_ph_cam_7_5769</td>\n",
       "    </tr>\n",
       "    <tr>\n",
       "      <th>1013770</th>\n",
       "      <td>lie_down_on_the_floor</td>\n",
       "      <td>lying_down</td>\n",
       "      <td>on_air</td>\n",
       "      <td>actor_3_walk_stick_full_ph_cam_7_5770</td>\n",
       "    </tr>\n",
       "    <tr>\n",
       "      <th>1013771</th>\n",
       "      <td>lie_down_on_the_floor</td>\n",
       "      <td>lying_down</td>\n",
       "      <td>on_air</td>\n",
       "      <td>actor_3_walk_stick_full_ph_cam_7_5771</td>\n",
       "    </tr>\n",
       "  </tbody>\n",
       "</table>\n",
       "<p>16374 rows × 4 columns</p>\n",
       "</div>"
      ],
      "text/plain": [
       "                  micro_labels macro_labels ar_labels  \\\n",
       "113022             rolling_bed          adl    on_air   \n",
       "113023             rolling_bed          adl    on_air   \n",
       "113024             rolling_bed          adl    on_air   \n",
       "113025             rolling_bed          adl    on_air   \n",
       "113026             rolling_bed          adl    on_air   \n",
       "...                        ...          ...       ...   \n",
       "1013767  lie_down_on_the_floor   lying_down    on_air   \n",
       "1013768  lie_down_on_the_floor   lying_down    on_air   \n",
       "1013769  lie_down_on_the_floor   lying_down    on_air   \n",
       "1013770  lie_down_on_the_floor   lying_down    on_air   \n",
       "1013771  lie_down_on_the_floor   lying_down    on_air   \n",
       "\n",
       "                                    frame_name  \n",
       "113022      actor_1_bed_rolling_ph2_cam_2_0882  \n",
       "113023      actor_1_bed_rolling_ph2_cam_2_0883  \n",
       "113024      actor_1_bed_rolling_ph2_cam_2_0884  \n",
       "113025      actor_1_bed_rolling_ph2_cam_2_0885  \n",
       "113026      actor_1_bed_rolling_ph2_cam_2_0886  \n",
       "...                                        ...  \n",
       "1013767  actor_3_walk_stick_full_ph_cam_7_5767  \n",
       "1013768  actor_3_walk_stick_full_ph_cam_7_5768  \n",
       "1013769  actor_3_walk_stick_full_ph_cam_7_5769  \n",
       "1013770  actor_3_walk_stick_full_ph_cam_7_5770  \n",
       "1013771  actor_3_walk_stick_full_ph_cam_7_5771  \n",
       "\n",
       "[16374 rows x 4 columns]"
      ]
     },
     "execution_count": 47,
     "metadata": {},
     "output_type": "execute_result"
    }
   ],
   "source": [
    "adl_samples = train_set.loc[dataset[\"macro_labels\"] == \"adl\"]\n",
    "fall_samples = train_set.loc[dataset[\"macro_labels\"] == \"falling\"]\n",
    "lie_down_samples = train_set.loc[dataset[\"macro_labels\"] == \"lying_down\"]\n",
    "\n",
    "split_ratio = 0.8\n",
    "split_adl = int(len(adl_samples) * split_ratio)\n",
    "split_fall = int(len(fall_samples) * split_ratio)\n",
    "split_lie_down = int(len(lie_down_samples) * split_ratio)\n",
    "\n",
    "val_adl = adl_samples.iloc[split_adl:].copy()\n",
    "val_fall = fall_samples.iloc[split_fall:].copy()\n",
    "val_lie_down = lie_down_samples.iloc[split_lie_down:].copy()\n",
    "\n",
    "val_set = pd.concat([val_adl, val_fall, val_lie_down], axis=0)\n",
    "val_set"
   ]
  },
  {
   "cell_type": "code",
   "execution_count": 48,
   "id": "8e4270f0-a718-42e7-95c0-0c59e64fffcf",
   "metadata": {},
   "outputs": [
    {
     "data": {
      "text/html": [
       "<div>\n",
       "<style scoped>\n",
       "    .dataframe tbody tr th:only-of-type {\n",
       "        vertical-align: middle;\n",
       "    }\n",
       "\n",
       "    .dataframe tbody tr th {\n",
       "        vertical-align: top;\n",
       "    }\n",
       "\n",
       "    .dataframe thead th {\n",
       "        text-align: right;\n",
       "    }\n",
       "</style>\n",
       "<table border=\"1\" class=\"dataframe\">\n",
       "  <thead>\n",
       "    <tr style=\"text-align: right;\">\n",
       "      <th></th>\n",
       "      <th>micro_labels</th>\n",
       "      <th>macro_labels</th>\n",
       "      <th>ar_labels</th>\n",
       "      <th>frame_name</th>\n",
       "    </tr>\n",
       "  </thead>\n",
       "  <tbody>\n",
       "    <tr>\n",
       "      <th>206</th>\n",
       "      <td>sit_up_from_lying</td>\n",
       "      <td>adl</td>\n",
       "      <td>on_air</td>\n",
       "      <td>actor_1_bed_cam_1_0206</td>\n",
       "    </tr>\n",
       "    <tr>\n",
       "      <th>207</th>\n",
       "      <td>sit_up_from_lying</td>\n",
       "      <td>adl</td>\n",
       "      <td>on_air</td>\n",
       "      <td>actor_1_bed_cam_1_0207</td>\n",
       "    </tr>\n",
       "    <tr>\n",
       "      <th>208</th>\n",
       "      <td>sit_up_from_lying</td>\n",
       "      <td>adl</td>\n",
       "      <td>on_air</td>\n",
       "      <td>actor_1_bed_cam_1_0208</td>\n",
       "    </tr>\n",
       "    <tr>\n",
       "      <th>209</th>\n",
       "      <td>sit_up_from_lying</td>\n",
       "      <td>adl</td>\n",
       "      <td>on_air</td>\n",
       "      <td>actor_1_bed_cam_1_0209</td>\n",
       "    </tr>\n",
       "    <tr>\n",
       "      <th>210</th>\n",
       "      <td>sit_up_from_lying</td>\n",
       "      <td>adl</td>\n",
       "      <td>on_air</td>\n",
       "      <td>actor_1_bed_cam_1_0210</td>\n",
       "    </tr>\n",
       "    <tr>\n",
       "      <th>...</th>\n",
       "      <td>...</td>\n",
       "      <td>...</td>\n",
       "      <td>...</td>\n",
       "      <td>...</td>\n",
       "    </tr>\n",
       "    <tr>\n",
       "      <th>635802</th>\n",
       "      <td>lie_down_on_the_floor</td>\n",
       "      <td>lying_down</td>\n",
       "      <td>on_air</td>\n",
       "      <td>actor_2_chair_ph_cam_4_1302</td>\n",
       "    </tr>\n",
       "    <tr>\n",
       "      <th>635803</th>\n",
       "      <td>lie_down_on_the_floor</td>\n",
       "      <td>lying_down</td>\n",
       "      <td>on_air</td>\n",
       "      <td>actor_2_chair_ph_cam_4_1303</td>\n",
       "    </tr>\n",
       "    <tr>\n",
       "      <th>635804</th>\n",
       "      <td>lie_down_on_the_floor</td>\n",
       "      <td>lying_down</td>\n",
       "      <td>on_air</td>\n",
       "      <td>actor_2_chair_ph_cam_4_1304</td>\n",
       "    </tr>\n",
       "    <tr>\n",
       "      <th>635805</th>\n",
       "      <td>lie_down_on_the_floor</td>\n",
       "      <td>lying_down</td>\n",
       "      <td>on_air</td>\n",
       "      <td>actor_2_chair_ph_cam_4_1305</td>\n",
       "    </tr>\n",
       "    <tr>\n",
       "      <th>635806</th>\n",
       "      <td>lie_down_on_the_floor</td>\n",
       "      <td>lying_down</td>\n",
       "      <td>on_air</td>\n",
       "      <td>actor_2_chair_ph_cam_4_1306</td>\n",
       "    </tr>\n",
       "  </tbody>\n",
       "</table>\n",
       "<p>65484 rows × 4 columns</p>\n",
       "</div>"
      ],
      "text/plain": [
       "                 micro_labels macro_labels ar_labels  \\\n",
       "206         sit_up_from_lying          adl    on_air   \n",
       "207         sit_up_from_lying          adl    on_air   \n",
       "208         sit_up_from_lying          adl    on_air   \n",
       "209         sit_up_from_lying          adl    on_air   \n",
       "210         sit_up_from_lying          adl    on_air   \n",
       "...                       ...          ...       ...   \n",
       "635802  lie_down_on_the_floor   lying_down    on_air   \n",
       "635803  lie_down_on_the_floor   lying_down    on_air   \n",
       "635804  lie_down_on_the_floor   lying_down    on_air   \n",
       "635805  lie_down_on_the_floor   lying_down    on_air   \n",
       "635806  lie_down_on_the_floor   lying_down    on_air   \n",
       "\n",
       "                         frame_name  \n",
       "206          actor_1_bed_cam_1_0206  \n",
       "207          actor_1_bed_cam_1_0207  \n",
       "208          actor_1_bed_cam_1_0208  \n",
       "209          actor_1_bed_cam_1_0209  \n",
       "210          actor_1_bed_cam_1_0210  \n",
       "...                             ...  \n",
       "635802  actor_2_chair_ph_cam_4_1302  \n",
       "635803  actor_2_chair_ph_cam_4_1303  \n",
       "635804  actor_2_chair_ph_cam_4_1304  \n",
       "635805  actor_2_chair_ph_cam_4_1305  \n",
       "635806  actor_2_chair_ph_cam_4_1306  \n",
       "\n",
       "[65484 rows x 4 columns]"
      ]
     },
     "execution_count": 48,
     "metadata": {},
     "output_type": "execute_result"
    }
   ],
   "source": [
    "train_set.drop(val_set.index, inplace=True)\n",
    "train_set"
   ]
  },
  {
   "cell_type": "code",
   "execution_count": 49,
   "id": "bae65203-da1d-436f-b1f5-27bbda0f31a7",
   "metadata": {},
   "outputs": [
    {
     "data": {
      "text/plain": [
       "adl           21828\n",
       "falling       21828\n",
       "lying_down    21828\n",
       "Name: macro_labels, dtype: int64"
      ]
     },
     "execution_count": 49,
     "metadata": {},
     "output_type": "execute_result"
    }
   ],
   "source": [
    "train_set[\"macro_labels\"].value_counts()"
   ]
  },
  {
   "cell_type": "markdown",
   "id": "7fc708a4-0528-45e2-9af7-f1e404f7e502",
   "metadata": {},
   "source": [
    "## Instantiate train and val generators\n",
    "### VideoSeqGenerator works as follows:\n",
    "- takes a dataframe containing the frame names and the corresponding labels as input\n",
    "- splits the dataframe in time series of length SEQ_LEN\n",
    "- for each series: \n",
    "    - loads a batch made of BATCH_SIZE * SEQ_LEN frames into a tensor called \"X\"\n",
    "    - for each window (time-series) of the batch caluculates the mode of the frames, applies OneHotEncoding and stores the encoded windows' labels in a tensor called \"y\".\n",
    "    - returns X,y. \n",
    "      X has shape (BATCH_SIZE, SEQ_LEN, IMAGE_SIZE), for example (32, 20, 224, 224, 3)\n",
    "      y has shape (BATCH_SIZE, 3),  where 3 derives from the one hot encoding of the 3 classes (adl, fall, lie_down)"
   ]
  },
  {
   "cell_type": "code",
   "execution_count": 50,
   "id": "1c6b6042-71b0-4795-9700-48d41bcd0ba3",
   "metadata": {},
   "outputs": [
    {
     "name": "stdout",
     "output_type": "stream",
     "text": [
      "(112, 112, 3)\n",
      "<class 'tuple'>\n"
     ]
    }
   ],
   "source": [
    "# instantiating train generator. For this test there will be only one generator which takes the whole dataset as input\n",
    "train_gen = VideoSeqGenerator(\n",
    "    frames_path=FRAMES_PATH,\n",
    "    df=train_set,\n",
    "    seq_len=SEQ_LEN,\n",
    "    stride=STRIDE,\n",
    "    batch_size=BATCH_SIZE,\n",
    "    label_encoder=le,\n",
    "    input_shape=INPUT_SHAPE,\n",
    ")"
   ]
  },
  {
   "cell_type": "code",
   "execution_count": 51,
   "id": "4a95c814-914d-4ec3-8bc0-e3dd9d6c6a87",
   "metadata": {},
   "outputs": [
    {
     "name": "stdout",
     "output_type": "stream",
     "text": [
      "(112, 112, 3)\n",
      "<class 'tuple'>\n"
     ]
    }
   ],
   "source": [
    "val_gen = VideoSeqGenerator(\n",
    "    frames_path=FRAMES_PATH,\n",
    "    df=val_set,\n",
    "    seq_len=SEQ_LEN,\n",
    "    batch_size=BATCH_SIZE,\n",
    "    stride=STRIDE,\n",
    "    label_encoder=le,\n",
    "    input_shape=INPUT_SHAPE,\n",
    ")"
   ]
  },
  {
   "cell_type": "code",
   "execution_count": 52,
   "id": "bfc148e3-2830-483e-9361-f18e668a53c3",
   "metadata": {},
   "outputs": [
    {
     "data": {
      "text/plain": [
       "adl           21828\n",
       "falling       21828\n",
       "lying_down    21828\n",
       "Name: macro_labels, dtype: int64"
      ]
     },
     "execution_count": 52,
     "metadata": {},
     "output_type": "execute_result"
    }
   ],
   "source": [
    "train_gen.df[\"macro_labels\"].value_counts()"
   ]
  },
  {
   "cell_type": "markdown",
   "id": "623a07f2-a987-48ad-b59e-04f1aa2b7ea8",
   "metadata": {},
   "source": [
    "### Plot a frames series from first batch\n",
    "    The first two images are black, in fact they are padding frames, because those two frames in the dataframe were part of another sequence. In other words, such frames had a different camera number with respect to the others."
   ]
  },
  {
   "cell_type": "code",
   "execution_count": 24,
   "id": "e03a6638-9e15-4770-b57d-5569860bea5d",
   "metadata": {},
   "outputs": [
    {
     "name": "stdout",
     "output_type": "stream",
     "text": [
      "batch_X.shape: (8, 16, 112, 112, 3) batch_y.shape: (8, 3)\n"
     ]
    },
    {
     "data": {
      "image/png": "[encoded data removed]",
      "text/plain": [
       "<Figure size 1440x720 with 16 Axes>"
      ]
     },
     "metadata": {
      "needs_background": "light"
     },
     "output_type": "display_data"
    }
   ],
   "source": [
    "# get first batch from train generator\n",
    "\n",
    "batch_number = randrange(0, 100)\n",
    "\n",
    "batch_X, batch_y = train_gen.__getitem__(batch_number)\n",
    "print(\"batch_X.shape:\", batch_X.shape, \"batch_y.shape:\", batch_y.shape)\n",
    "\n",
    "window_number = randrange(0, 3)\n",
    "\n",
    "frames = batch_X[window_number]\n",
    "title = np.expand_dims(batch_y[window_number], axis=0)\n",
    "title = le.inverse_transform(title)[0]\n",
    "title\n",
    "\n",
    "show_frames_series(frames, title, figsize=(20, 10), nrows=4)"
   ]
  },
  {
   "cell_type": "markdown",
   "id": "feb9097b-1722-4141-bc45-3bb049f8cbf9",
   "metadata": {},
   "source": [
    "### Metrics"
   ]
  },
  {
   "cell_type": "code",
   "execution_count": 25,
   "id": "6387134d-7f3c-4763-ac13-d6ec0db4458f",
   "metadata": {},
   "outputs": [
    {
     "name": "stderr",
     "output_type": "stream",
     "text": [
      "2022-09-12 20:06:34.212454: I tensorflow/core/platform/cpu_feature_guard.cc:142] This TensorFlow binary is optimized with oneAPI Deep Neural Network Library (oneDNN) to use the following CPU instructions in performance-critical operations:  SSE4.1 SSE4.2 AVX AVX2 AVX512F FMA\n",
      "To enable them in other operations, rebuild TensorFlow with the appropriate compiler flags.\n",
      "2022-09-12 20:06:34.618150: I tensorflow/core/common_runtime/gpu/gpu_device.cc:1510] Created device /job:localhost/replica:0/task:0/device:GPU:0 with 22030 MB memory:  -> device: 0, name: NVIDIA RTX A5000, pci bus id: 0000:65:00.0, compute capability: 8.6\n"
     ]
    }
   ],
   "source": [
    "# we keep track of the recall (sensitivity, or number of correctly predicted true positive).\n",
    "# This metric is especially important for the fall class, where we want to have maximum recall to be sure we don't miss any fall event.\n",
    "metrics = [\n",
    "    tf.keras.metrics.CategoricalAccuracy(),\n",
    "    tf.keras.metrics.Recall(class_id=0, name=\"adl\"),\n",
    "    tf.keras.metrics.Recall(class_id=1, name=\"fall\"),\n",
    "    tf.keras.metrics.Recall(class_id=2, name=\"lying_down\"),\n",
    "]"
   ]
  },
  {
   "cell_type": "markdown",
   "id": "f4202f22-a08d-456a-8d2a-0ad4022b416d",
   "metadata": {},
   "source": [
    "### Callbacks"
   ]
  },
  {
   "cell_type": "code",
   "execution_count": 26,
   "id": "a64c3775-b953-4f24-82fd-90d2961bf676",
   "metadata": {},
   "outputs": [],
   "source": [
    "model_checkpoint = tf.keras.callbacks.ModelCheckpoint(\n",
    "    filepath=f\"{MED_FALL}/vision/models/ConvLSTM2D_actor123.h5\"\n",
    ")\n",
    "\n",
    "callbacks = [model_checkpoint]"
   ]
  },
  {
   "cell_type": "markdown",
   "id": "0a621150-3a46-4c68-998a-b856cfe8239e",
   "metadata": {},
   "source": [
    "## Define ConvLSTM2D model"
   ]
  },
  {
   "cell_type": "code",
   "execution_count": 27,
   "id": "30e0f09a-3938-4e99-845b-a31d2a7c9dca",
   "metadata": {},
   "outputs": [
    {
     "name": "stdout",
     "output_type": "stream",
     "text": [
      "Model: \"sequential\"\n",
      "_________________________________________________________________\n",
      "Layer (type)                 Output Shape              Param #   \n",
      "=================================================================\n",
      "rescaling (Rescaling)        (None, 16, 112, 112, 3)   0         \n",
      "_________________________________________________________________\n",
      "conv_lst_m2d (ConvLSTM2D)    (None, 16, 55, 55, 512)   9494528   \n",
      "_________________________________________________________________\n",
      "max_pooling3d (MaxPooling3D) (None, 8, 27, 27, 512)    0         \n",
      "_________________________________________________________________\n",
      "batch_normalization (BatchNo (None, 8, 27, 27, 512)    2048      \n",
      "_________________________________________________________________\n",
      "dropout (Dropout)            (None, 8, 27, 27, 512)    0         \n",
      "_________________________________________________________________\n",
      "conv_lst_m2d_1 (ConvLSTM2D)  (None, 8, 13, 13, 256)    7078912   \n",
      "_________________________________________________________________\n",
      "max_pooling3d_1 (MaxPooling3 (None, 4, 6, 6, 256)      0         \n",
      "_________________________________________________________________\n",
      "batch_normalization_1 (Batch (None, 4, 6, 6, 256)      1024      \n",
      "_________________________________________________________________\n",
      "dropout_1 (Dropout)          (None, 4, 6, 6, 256)      0         \n",
      "_________________________________________________________________\n",
      "conv_lst_m2d_2 (ConvLSTM2D)  (None, 2, 2, 128)         1769984   \n",
      "_________________________________________________________________\n",
      "batch_normalization_2 (Batch (None, 2, 2, 128)         512       \n",
      "_________________________________________________________________\n",
      "dropout_2 (Dropout)          (None, 2, 2, 128)         0         \n",
      "_________________________________________________________________\n",
      "flatten (Flatten)            (None, 512)               0         \n",
      "_________________________________________________________________\n",
      "dense (Dense)                (None, 3)                 1539      \n",
      "=================================================================\n",
      "Total params: 18,348,547\n",
      "Trainable params: 18,346,755\n",
      "Non-trainable params: 1,792\n",
      "_________________________________________________________________\n"
     ]
    }
   ],
   "source": [
    "model = Sequential()\n",
    "model.add(layers.Input(shape=(SEQ_LEN,) + INPUT_SHAPE))\n",
    "model.add(layers.Rescaling(scale=1.0 / 255))\n",
    "\n",
    "model.add(layers.ConvLSTM2D(512, (3, 3), strides=(2, 2), return_sequences=True))\n",
    "model.add(layers.MaxPooling3D((2, 2, 2), padding=\"valid\"))\n",
    "model.add(layers.BatchNormalization())\n",
    "model.add(layers.Dropout(0.5))\n",
    "\n",
    "model.add(layers.ConvLSTM2D(256, (3, 3), strides=(2, 2), return_sequences=True))\n",
    "model.add(layers.MaxPooling3D((2, 2, 2), padding=\"valid\"))\n",
    "model.add(layers.BatchNormalization())\n",
    "model.add(layers.Dropout(0.5))\n",
    "\n",
    "model.add(layers.ConvLSTM2D(128, (3, 3), strides=(2, 2)))\n",
    "model.add(layers.BatchNormalization())\n",
    "model.add(layers.Dropout(0.5))\n",
    "\n",
    "model.add(layers.Flatten())\n",
    "model.add(layers.Dense(3, \"softmax\"))\n",
    "model.summary()"
   ]
  },
  {
   "cell_type": "markdown",
   "id": "824b4946-7a1a-4a5d-b74e-4436b932d09c",
   "metadata": {},
   "source": [
    "### Compile Model"
   ]
  },
  {
   "cell_type": "code",
   "execution_count": 28,
   "id": "9a2997d2-c97a-47a4-9da3-4cb8ec6eb373",
   "metadata": {},
   "outputs": [],
   "source": [
    "model.compile(optimizer=\"adam\", loss=\"categorical_crossentropy\", metrics=metrics)"
   ]
  },
  {
   "cell_type": "markdown",
   "id": "4e0a98c0-590e-4045-80a7-8b35529208ad",
   "metadata": {},
   "source": [
    "### Fit Model"
   ]
  },
  {
   "cell_type": "code",
   "execution_count": 29,
   "id": "16113ae9-9c1f-4e8c-bf8c-889afcafcf32",
   "metadata": {},
   "outputs": [
    {
     "name": "stderr",
     "output_type": "stream",
     "text": [
      "2022-09-12 20:06:39.776566: I tensorflow/compiler/mlir/mlir_graph_optimization_pass.cc:185] None of the MLIR Optimization Passes are enabled (registered 2)\n"
     ]
    },
    {
     "name": "stdout",
     "output_type": "stream",
     "text": [
      "Epoch 1/10\n"
     ]
    },
    {
     "name": "stderr",
     "output_type": "stream",
     "text": [
      "2022-09-12 20:06:44.087033: I tensorflow/stream_executor/cuda/cuda_dnn.cc:369] Loaded cuDNN version 8201\n",
      "2022-09-12 20:06:46.014083: I tensorflow/stream_executor/cuda/cuda_blas.cc:1760] TensorFloat-32 will be used for the matrix multiplication. This will only be logged once.\n"
     ]
    },
    {
     "name": "stdout",
     "output_type": "stream",
     "text": [
      "511/511 [==============================] - 501s 966ms/step - loss: 1.5401 - categorical_accuracy: 0.3630 - adl: 0.3353 - fall: 0.2320 - lying_down: 0.2473 - val_loss: 1.1010 - val_categorical_accuracy: 0.3642 - val_adl: 0.1657 - val_fall: 0.0000e+00 - val_lying_down: 0.0000e+00\n",
      "Epoch 2/10\n",
      "511/511 [==============================] - 493s 964ms/step - loss: 1.0931 - categorical_accuracy: 0.4330 - adl: 0.3737 - fall: 0.1920 - lying_down: 0.1829 - val_loss: 3.4222 - val_categorical_accuracy: 0.3268 - val_adl: 0.0000e+00 - val_fall: 0.0000e+00 - val_lying_down: 1.0000\n",
      "Epoch 3/10\n",
      "511/511 [==============================] - 492s 964ms/step - loss: 1.0340 - categorical_accuracy: 0.4540 - adl: 0.4143 - fall: 0.0945 - lying_down: 0.2068 - val_loss: 2.3330 - val_categorical_accuracy: 0.3346 - val_adl: 0.0000e+00 - val_fall: 1.0000 - val_lying_down: 0.0000e+00\n",
      "Epoch 4/10\n",
      "511/511 [==============================] - 492s 963ms/step - loss: 1.0379 - categorical_accuracy: 0.4621 - adl: 0.4571 - fall: 0.0938 - lying_down: 0.2198 - val_loss: 1.0911 - val_categorical_accuracy: 0.4114 - val_adl: 0.0988 - val_fall: 0.0088 - val_lying_down: 0.0090\n",
      "Epoch 5/10\n",
      "511/511 [==============================] - 493s 965ms/step - loss: 1.0907 - categorical_accuracy: 0.4281 - adl: 0.3684 - fall: 0.1047 - lying_down: 0.1902 - val_loss: 3.2132 - val_categorical_accuracy: 0.3268 - val_adl: 0.0000e+00 - val_fall: 0.0000e+00 - val_lying_down: 1.0000\n",
      "Epoch 6/10\n",
      "511/511 [==============================] - 493s 965ms/step - loss: 1.1051 - categorical_accuracy: 0.3535 - adl: 0.0203 - fall: 0.0153 - lying_down: 0.0325 - val_loss: 1.1259 - val_categorical_accuracy: 0.3386 - val_adl: 0.1395 - val_fall: 0.0000e+00 - val_lying_down: 0.0000e+00\n",
      "Epoch 7/10\n",
      "511/511 [==============================] - 493s 965ms/step - loss: 1.0914 - categorical_accuracy: 0.3723 - adl: 0.0083 - fall: 0.0000e+00 - lying_down: 0.0022 - val_loss: 1.1168 - val_categorical_accuracy: 0.3386 - val_adl: 0.0000e+00 - val_fall: 0.0000e+00 - val_lying_down: 0.0000e+00\n",
      "Epoch 8/10\n",
      "511/511 [==============================] - 493s 964ms/step - loss: 1.1016 - categorical_accuracy: 0.3192 - adl: 0.0000e+00 - fall: 0.0000e+00 - lying_down: 0.0000e+00 - val_loss: 1.1003 - val_categorical_accuracy: 0.3268 - val_adl: 0.0000e+00 - val_fall: 0.0000e+00 - val_lying_down: 0.0000e+00\n",
      "Epoch 9/10\n",
      "511/511 [==============================] - 493s 964ms/step - loss: 1.1011 - categorical_accuracy: 0.3114 - adl: 0.0000e+00 - fall: 0.0000e+00 - lying_down: 0.0000e+00 - val_loss: 1.0988 - val_categorical_accuracy: 0.3346 - val_adl: 0.0000e+00 - val_fall: 0.0000e+00 - val_lying_down: 0.0000e+00\n",
      "Epoch 10/10\n",
      "511/511 [==============================] - 493s 964ms/step - loss: 1.1000 - categorical_accuracy: 0.3209 - adl: 0.0000e+00 - fall: 0.0000e+00 - lying_down: 0.0000e+00 - val_loss: 1.1015 - val_categorical_accuracy: 0.3346 - val_adl: 0.0000e+00 - val_fall: 0.0000e+00 - val_lying_down: 0.0000e+00\n"
     ]
    }
   ],
   "source": [
    "history = model.fit(train_gen, validation_data=val_gen, epochs=1c\n",
    "                    0, shuffle=True, callbacks=callbacks)"
   ]
  },
  {
   "cell_type": "code",
   "execution_count": 30,
   "id": "e217a7a0-95ce-4cb3-ba91-29652bdc5353",
   "metadata": {},
   "outputs": [],
   "source": [
    "model.save(f\"{MED_FALL}/vision/models/ConvLSTM2D_actors123.h5\")"
   ]
  },
  {
   "cell_type": "code",
   "execution_count": 31,
   "id": "939f43a9-d487-4d81-b2e7-e86d1073c70c",
   "metadata": {},
   "outputs": [
    {
     "data": {
      "image/png": "[encoded data removed]",
      "text/plain": [
       "<Figure size 432x288 with 1 Axes>"
      ]
     },
     "metadata": {
      "needs_background": "light"
     },
     "output_type": "display_data"
    }
   ],
   "source": [
    "# plot the accuracies\n",
    "plt.figure()\n",
    "plt.plot(history.history[\"categorical_accuracy\"])\n",
    "plt.plot(history.history[\"val_categorical_accuracy\"])\n",
    "plt.title(\"model accuracy\")\n",
    "plt.ylabel(\"accuracy\")\n",
    "plt.xlabel(\"epoch\")\n",
    "plt.legend([\"train\", \"val\"], loc=\"upper left\")\n",
    "plt.grid()\n",
    "plt.show()"
   ]
  },
  {
   "cell_type": "code",
   "execution_count": 32,
   "id": "f313de88-e4c1-47fa-ae46-a4da4390dce2",
   "metadata": {},
   "outputs": [
    {
     "data": {
      "image/png": "[encoded data removed]",
      "text/plain": [
       "<Figure size 432x288 with 1 Axes>"
      ]
     },
     "metadata": {
      "needs_background": "light"
     },
     "output_type": "display_data"
    }
   ],
   "source": [
    "# plot the losses\n",
    "plt.plot(history.history[\"loss\"])\n",
    "plt.plot(history.history[\"val_loss\"])\n",
    "plt.title(\"model loss\")\n",
    "plt.ylabel(\"loss\")\n",
    "plt.xlabel(\"epoch\")\n",
    "plt.legend([\"train\", \"val\"], loc=\"upper left\")\n",
    "plt.grid()\n",
    "plt.show()"
   ]
  },
  {
   "cell_type": "code",
   "execution_count": 33,
   "id": "feac773c-a5c8-494e-8a99-2140435d263b",
   "metadata": {},
   "outputs": [
    {
     "name": "stdout",
     "output_type": "stream",
     "text": [
      "(1016, 3)\n"
     ]
    }
   ],
   "source": [
    "y_logits = model.predict(val_gen)\n",
    "print(y_logits.shape)"
   ]
  },
  {
   "cell_type": "code",
   "execution_count": null,
   "id": "bbc54b8c-ef23-4722-a3ca-4791035feded",
   "metadata": {},
   "outputs": [],
   "source": [
    "y_preds_encoded = []\n",
    "for logit in y_logits:\n",
    "    one_hot_labl = [0, 0, 0]\n",
    "    argmax = np.argmax(logit, axis=0)\n",
    "    one_hot_labl[argmax] = 1\n",
    "    y_preds_encoded.append(one_hot_labl)\n",
    "\n",
    "y_preds_encoded"
   ]
  },
  {
   "cell_type": "code",
   "execution_count": 35,
   "id": "5fa5731a-7598-48ce-b682-1f305ead0ecf",
   "metadata": {},
   "outputs": [
    {
     "data": {
      "text/plain": [
       "127"
      ]
     },
     "execution_count": 35,
     "metadata": {},
     "output_type": "execute_result"
    }
   ],
   "source": [
    "len(val_gen.windows_labels)"
   ]
  },
  {
   "cell_type": "code",
   "execution_count": 36,
   "id": "e2d5923b-3835-4987-9bcb-b464a624b15a",
   "metadata": {},
   "outputs": [
    {
     "data": {
      "text/plain": [
       "adl    127\n",
       "dtype: int64"
      ]
     },
     "execution_count": 36,
     "metadata": {},
     "output_type": "execute_result"
    }
   ],
   "source": [
    "y_true = val_gen.windows_labels\n",
    "pd.Series(y_true).value_counts()"
   ]
  },
  {
   "cell_type": "code",
   "execution_count": 37,
   "id": "9796da69-2ce4-4449-87e2-ce539e31b9da",
   "metadata": {},
   "outputs": [],
   "source": [
    "y_true_encoded = le.transform(y_true)"
   ]
  },
  {
   "cell_type": "code",
   "execution_count": null,
   "id": "3d6d086d-ab57-48c1-9078-ce1a30df8df6",
   "metadata": {},
   "outputs": [],
   "source": [
    "print(\n",
    "    classification_report(\n",
    "        y_true=y_true_encoded,\n",
    "        y_pred=y_preds_encoded,\n",
    "        target_names=[\"adl\", \"fall\", \"lie_down\"],\n",
    "    ),\n",
    ")"
   ]
  },
  {
   "cell_type": "code",
   "execution_count": 53,
   "id": "4fe33456-225b-43b3-9774-a58eea6a3772",
   "metadata": {},
   "outputs": [],
   "source": [
    "model=tf.keras.models.load_model(f\"{MED_FALL}/vision/models/ConvLSTM2D_actors123.h5\")"
   ]
  },
  {
   "cell_type": "code",
   "execution_count": null,
   "id": "c9bbfb8f-b541-415e-8d92-45e7762ee9ff",
   "metadata": {},
   "outputs": [
    {
     "name": "stderr",
     "output_type": "stream",
     "text": [
      "2022-09-13 17:37:10.502188: I tensorflow/compiler/mlir/mlir_graph_optimization_pass.cc:185] None of the MLIR Optimization Passes are enabled (registered 2)\n"
     ]
    },
    {
     "name": "stdout",
     "output_type": "stream",
     "text": [
      " 24/511 [>.............................] - ETA: 1:00:42 - loss: 1.1208 - categorical_accuracy: 0.1875 - adl: 0.0000e+00 - fall: 0.0000e+00 - lying_down: 0.0000e+00"
     ]
    }
   ],
   "source": [
    "model.evaluate(train_gen)"
   ]
  },
  {
   "cell_type": "code",
   "execution_count": null,
   "id": "030d4d99-f4ab-40c5-a894-05eb2aad5aa4",
   "metadata": {},
   "outputs": [],
   "source": [
    "model.evaluate(val_gen)"
   ]
  },
  {
   "cell_type": "code",
   "execution_count": null,
   "id": "69b9afeb-5c10-4333-b1ac-e98f2ae2e9b8",
   "metadata": {},
   "outputs": [],
   "source": []
  }
 ],
 "metadata": {
  "kernelspec": {
   "display_name": "Python 3 (ipykernel)",
   "language": "python",
   "name": "python3"
  },
  "language_info": {
   "codemirror_mode": {
    "name": "ipython",
    "version": 3
   },
   "file_extension": ".py",
   "mimetype": "text/x-python",
   "name": "python",
   "nbconvert_exporter": "python",
   "pygments_lexer": "ipython3",
   "version": "3.9.12"
  }
 },
 "nbformat": 4,
 "nbformat_minor": 5
}
