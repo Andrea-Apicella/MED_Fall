{
 "cells": [
  {
   "cell_type": "code",
   "execution_count": 1,
   "id": "b7b4f8f2-ff9b-4bb1-bfd1-44ba404783b4",
   "metadata": {},
   "outputs": [],
   "source": [
    "%load_ext autoreload\n",
    "%autoreload 2"
   ]
  },
  {
   "cell_type": "code",
   "execution_count": 2,
   "id": "0ebfb3fe-f9d6-4748-b584-77ebf2c4f43e",
   "metadata": {},
   "outputs": [],
   "source": [
    "import tensorflow as tf\n",
    "from tensorflow.keras.models import Sequential\n",
    "from tensorflow.keras import layers\n",
    "from tensorflow.keras.initializers import Constant\n",
    "from test_scripts.load_images import get_video_seq\n",
    "from utils.utility_functions import listdir_nohidden_sorted as lsdir\n",
    "import pandas as pd\n",
    "import numpy as np\n",
    "from random import randrange"
   ]
  },
  {
   "cell_type": "code",
   "execution_count": 3,
   "id": "7d6b6094-dc5a-42d6-a534-c35d6c77a9ff",
   "metadata": {},
   "outputs": [],
   "source": [
    "ground_truth_path = '/home/jovyan/work/MED_Fall/vision/vision_dataset/ground_truth_new'\n",
    "dfs = []\n",
    "for file in lsdir(ground_truth_path):\n",
    "    df = pd.read_csv(file)\n",
    "    dfs.append(df)\n",
    "dataset = pd.concat(dfs, ignore_index=True)"
   ]
  },
  {
   "cell_type": "code",
   "execution_count": 4,
   "id": "23e47f24-823b-45e4-8472-67d04fb3d74b",
   "metadata": {},
   "outputs": [
    {
     "data": {
      "text/html": [
       "<div>\n",
       "<style scoped>\n",
       "    .dataframe tbody tr th:only-of-type {\n",
       "        vertical-align: middle;\n",
       "    }\n",
       "\n",
       "    .dataframe tbody tr th {\n",
       "        vertical-align: top;\n",
       "    }\n",
       "\n",
       "    .dataframe thead th {\n",
       "        text-align: right;\n",
       "    }\n",
       "</style>\n",
       "<table border=\"1\" class=\"dataframe\">\n",
       "  <thead>\n",
       "    <tr style=\"text-align: right;\">\n",
       "      <th></th>\n",
       "      <th>Unnamed: 0.1</th>\n",
       "      <th>Unnamed: 0</th>\n",
       "      <th>micro_labels</th>\n",
       "      <th>macro_labels</th>\n",
       "      <th>ar_labels</th>\n",
       "      <th>frame_name</th>\n",
       "    </tr>\n",
       "  </thead>\n",
       "  <tbody>\n",
       "    <tr>\n",
       "      <th>0</th>\n",
       "      <td>0</td>\n",
       "      <td>0</td>\n",
       "      <td>lie_still</td>\n",
       "      <td>lying_down</td>\n",
       "      <td>actor_repositioning</td>\n",
       "      <td>actor_1_bed_cam_1_0000</td>\n",
       "    </tr>\n",
       "    <tr>\n",
       "      <th>1</th>\n",
       "      <td>1</td>\n",
       "      <td>1</td>\n",
       "      <td>lie_still</td>\n",
       "      <td>lying_down</td>\n",
       "      <td>actor_repositioning</td>\n",
       "      <td>actor_1_bed_cam_1_0001</td>\n",
       "    </tr>\n",
       "    <tr>\n",
       "      <th>2</th>\n",
       "      <td>2</td>\n",
       "      <td>2</td>\n",
       "      <td>lie_still</td>\n",
       "      <td>lying_down</td>\n",
       "      <td>actor_repositioning</td>\n",
       "      <td>actor_1_bed_cam_1_0002</td>\n",
       "    </tr>\n",
       "    <tr>\n",
       "      <th>3</th>\n",
       "      <td>3</td>\n",
       "      <td>3</td>\n",
       "      <td>lie_still</td>\n",
       "      <td>lying_down</td>\n",
       "      <td>actor_repositioning</td>\n",
       "      <td>actor_1_bed_cam_1_0003</td>\n",
       "    </tr>\n",
       "    <tr>\n",
       "      <th>4</th>\n",
       "      <td>4</td>\n",
       "      <td>4</td>\n",
       "      <td>lie_still</td>\n",
       "      <td>lying_down</td>\n",
       "      <td>actor_repositioning</td>\n",
       "      <td>actor_1_bed_cam_1_0004</td>\n",
       "    </tr>\n",
       "    <tr>\n",
       "      <th>...</th>\n",
       "      <td>...</td>\n",
       "      <td>...</td>\n",
       "      <td>...</td>\n",
       "      <td>...</td>\n",
       "      <td>...</td>\n",
       "      <td>...</td>\n",
       "    </tr>\n",
       "    <tr>\n",
       "      <th>1182295</th>\n",
       "      <td>32335</td>\n",
       "      <td>32335</td>\n",
       "      <td>stand_up_from_floor</td>\n",
       "      <td>adl</td>\n",
       "      <td>actor_repositioning</td>\n",
       "      <td>actor_4_chair_full_ph_cam_7_4615</td>\n",
       "    </tr>\n",
       "    <tr>\n",
       "      <th>1182296</th>\n",
       "      <td>32336</td>\n",
       "      <td>32336</td>\n",
       "      <td>stand_up_from_floor</td>\n",
       "      <td>adl</td>\n",
       "      <td>actor_repositioning</td>\n",
       "      <td>actor_4_chair_full_ph_cam_7_4616</td>\n",
       "    </tr>\n",
       "    <tr>\n",
       "      <th>1182297</th>\n",
       "      <td>32337</td>\n",
       "      <td>32337</td>\n",
       "      <td>stand_up_from_floor</td>\n",
       "      <td>adl</td>\n",
       "      <td>actor_repositioning</td>\n",
       "      <td>actor_4_chair_full_ph_cam_7_4617</td>\n",
       "    </tr>\n",
       "    <tr>\n",
       "      <th>1182298</th>\n",
       "      <td>32338</td>\n",
       "      <td>32338</td>\n",
       "      <td>stand_up_from_floor</td>\n",
       "      <td>adl</td>\n",
       "      <td>actor_repositioning</td>\n",
       "      <td>actor_4_chair_full_ph_cam_7_4618</td>\n",
       "    </tr>\n",
       "    <tr>\n",
       "      <th>1182299</th>\n",
       "      <td>32339</td>\n",
       "      <td>32339</td>\n",
       "      <td>stand_up_from_floor</td>\n",
       "      <td>adl</td>\n",
       "      <td>actor_repositioning</td>\n",
       "      <td>actor_4_chair_full_ph_cam_7_4619</td>\n",
       "    </tr>\n",
       "  </tbody>\n",
       "</table>\n",
       "<p>1182300 rows × 6 columns</p>\n",
       "</div>"
      ],
      "text/plain": [
       "         Unnamed: 0.1  Unnamed: 0         micro_labels macro_labels  \\\n",
       "0                   0           0            lie_still   lying_down   \n",
       "1                   1           1            lie_still   lying_down   \n",
       "2                   2           2            lie_still   lying_down   \n",
       "3                   3           3            lie_still   lying_down   \n",
       "4                   4           4            lie_still   lying_down   \n",
       "...               ...         ...                  ...          ...   \n",
       "1182295         32335       32335  stand_up_from_floor          adl   \n",
       "1182296         32336       32336  stand_up_from_floor          adl   \n",
       "1182297         32337       32337  stand_up_from_floor          adl   \n",
       "1182298         32338       32338  stand_up_from_floor          adl   \n",
       "1182299         32339       32339  stand_up_from_floor          adl   \n",
       "\n",
       "                   ar_labels                        frame_name  \n",
       "0        actor_repositioning            actor_1_bed_cam_1_0000  \n",
       "1        actor_repositioning            actor_1_bed_cam_1_0001  \n",
       "2        actor_repositioning            actor_1_bed_cam_1_0002  \n",
       "3        actor_repositioning            actor_1_bed_cam_1_0003  \n",
       "4        actor_repositioning            actor_1_bed_cam_1_0004  \n",
       "...                      ...                               ...  \n",
       "1182295  actor_repositioning  actor_4_chair_full_ph_cam_7_4615  \n",
       "1182296  actor_repositioning  actor_4_chair_full_ph_cam_7_4616  \n",
       "1182297  actor_repositioning  actor_4_chair_full_ph_cam_7_4617  \n",
       "1182298  actor_repositioning  actor_4_chair_full_ph_cam_7_4618  \n",
       "1182299  actor_repositioning  actor_4_chair_full_ph_cam_7_4619  \n",
       "\n",
       "[1182300 rows x 6 columns]"
      ]
     },
     "execution_count": 4,
     "metadata": {},
     "output_type": "execute_result"
    }
   ],
   "source": [
    "dataset"
   ]
  },
  {
   "cell_type": "code",
   "execution_count": 5,
   "id": "71dd1a20-50c1-4197-8a18-60f796006a3e",
   "metadata": {},
   "outputs": [
    {
     "name": "stdout",
     "output_type": "stream",
     "text": [
      "(20, 224, 224, 3)\n"
     ]
    }
   ],
   "source": [
    "tensor = get_video_seq(dataset[\"frame_name\"][:20])\n",
    "input_shape = tensor.shape"
   ]
  },
  {
   "cell_type": "code",
   "execution_count": 6,
   "id": "aa08961c-9754-4ca3-a653-244e65f14db7",
   "metadata": {},
   "outputs": [
    {
     "data": {
      "text/plain": [
       "(100, 20, 224, 224, 3)"
      ]
     },
     "execution_count": 6,
     "metadata": {},
     "output_type": "execute_result"
    }
   ],
   "source": [
    "X = np.ones((100,) + tensor.shape)\n",
    "X.shape"
   ]
  },
  {
   "cell_type": "code",
   "execution_count": 7,
   "id": "0a05ebcf-a996-4fae-a346-7db7105d587e",
   "metadata": {},
   "outputs": [
    {
     "data": {
      "text/plain": [
       "(100,)"
      ]
     },
     "execution_count": 7,
     "metadata": {},
     "output_type": "execute_result"
    }
   ],
   "source": [
    "y = np.random.randint(3, size=100)\n",
    "y.shape"
   ]
  },
  {
   "cell_type": "code",
   "execution_count": 8,
   "id": "44279024-0c94-40c7-abcd-a5350dd96b8c",
   "metadata": {},
   "outputs": [
    {
     "name": "stdout",
     "output_type": "stream",
     "text": [
      "Model: \"sequential\"\n",
      "_________________________________________________________________\n",
      "Layer (type)                 Output Shape              Param #   \n",
      "=================================================================\n",
      "conv3d (Conv3D)              (None, 18, 222, 222, 32)  2624      \n",
      "_________________________________________________________________\n",
      "conv3d_1 (Conv3D)            (None, 16, 220, 220, 32)  27680     \n",
      "_________________________________________________________________\n",
      "max_pooling3d (MaxPooling3D) (None, 8, 110, 110, 32)   0         \n",
      "_________________________________________________________________\n",
      "conv3d_2 (Conv3D)            (None, 6, 108, 108, 64)   55360     \n",
      "_________________________________________________________________\n",
      "conv3d_3 (Conv3D)            (None, 5, 107, 107, 64)   32832     \n",
      "_________________________________________________________________\n",
      "max_pooling3d_1 (MaxPooling3 (None, 2, 53, 53, 64)     0         \n",
      "_________________________________________________________________\n",
      "dropout (Dropout)            (None, 2, 53, 53, 64)     0         \n",
      "_________________________________________________________________\n",
      "flatten (Flatten)            (None, 359552)            0         \n",
      "_________________________________________________________________\n",
      "dense (Dense)                (None, 256)               92045568  \n",
      "_________________________________________________________________\n",
      "dropout_1 (Dropout)          (None, 256)               0         \n",
      "_________________________________________________________________\n",
      "dense_1 (Dense)              (None, 128)               32896     \n",
      "_________________________________________________________________\n",
      "dropout_2 (Dropout)          (None, 128)               0         \n",
      "_________________________________________________________________\n",
      "dense_2 (Dense)              (None, 3)                 387       \n",
      "=================================================================\n",
      "Total params: 92,197,347\n",
      "Trainable params: 92,197,347\n",
      "Non-trainable params: 0\n",
      "_________________________________________________________________\n"
     ]
    },
    {
     "name": "stderr",
     "output_type": "stream",
     "text": [
      "2022-08-20 09:36:40.501489: I tensorflow/core/platform/cpu_feature_guard.cc:142] This TensorFlow binary is optimized with oneAPI Deep Neural Network Library (oneDNN) to use the following CPU instructions in performance-critical operations:  SSE4.1 SSE4.2 AVX AVX2 AVX512F FMA\n",
      "To enable them in other operations, rebuild TensorFlow with the appropriate compiler flags.\n",
      "2022-08-20 09:36:40.931193: I tensorflow/core/common_runtime/gpu/gpu_device.cc:1510] Created device /job:localhost/replica:0/task:0/device:GPU:0 with 21353 MB memory:  -> device: 0, name: NVIDIA RTX A5000, pci bus id: 0000:65:00.0, compute capability: 8.6\n"
     ]
    }
   ],
   "source": [
    "model = Sequential()\n",
    "model.add(layers.Conv3D(32,(3,3,3),activation='relu',input_shape=input_shape, bias_initializer=Constant(0.01)))\n",
    "model.add(layers.Conv3D(32,(3,3,3),activation='relu',bias_initializer=Constant(0.01)))\n",
    "model.add(layers.MaxPooling3D((2,2,2)))\n",
    "model.add(layers.Conv3D(64,(3,3,3),activation='relu'))\n",
    "model.add(layers.Conv3D(64,(2,2,2),activation='relu'))\n",
    "model.add(layers.MaxPooling3D((2,2,2)))\n",
    "model.add(layers.Dropout(0.6))\n",
    "model.add(layers.Flatten())\n",
    "model.add(layers.Dense(256,'relu'))\n",
    "model.add(layers.Dropout(0.7))\n",
    "model.add(layers.Dense(128,'relu'))\n",
    "model.add(layers.Dropout(0.5))\n",
    "model.add(layers.Dense(3,'softmax'))\n",
    "model.summary()"
   ]
  },
  {
   "cell_type": "code",
   "execution_count": 9,
   "id": "9a2997d2-c97a-47a4-9da3-4cb8ec6eb373",
   "metadata": {},
   "outputs": [],
   "source": [
    "model.compile(optimizer='adam', loss='sparse_categorical_crossentropy', metrics='accuracy')"
   ]
  },
  {
   "cell_type": "code",
   "execution_count": 11,
   "id": "16113ae9-9c1f-4e8c-bf8c-889afcafcf32",
   "metadata": {},
   "outputs": [
    {
     "name": "stdout",
     "output_type": "stream",
     "text": [
      "Epoch 1/20\n",
      "7/7 [==============================] - 3s 402ms/step - loss: 1.1595 - accuracy: 0.3200\n",
      "Epoch 2/20\n",
      "7/7 [==============================] - 3s 403ms/step - loss: 1.1068 - accuracy: 0.3600\n",
      "Epoch 3/20\n",
      "7/7 [==============================] - 3s 400ms/step - loss: 1.1059 - accuracy: 0.3200\n",
      "Epoch 4/20\n",
      "7/7 [==============================] - 3s 405ms/step - loss: 1.1015 - accuracy: 0.2800\n",
      "Epoch 5/20\n",
      "7/7 [==============================] - 3s 405ms/step - loss: 1.0926 - accuracy: 0.4100\n",
      "Epoch 6/20\n",
      "7/7 [==============================] - 3s 406ms/step - loss: 1.0987 - accuracy: 0.3300\n",
      "Epoch 7/20\n",
      "7/7 [==============================] - 3s 408ms/step - loss: 1.1026 - accuracy: 0.3000\n",
      "Epoch 8/20\n",
      "7/7 [==============================] - 3s 405ms/step - loss: 1.0975 - accuracy: 0.3800\n",
      "Epoch 9/20\n",
      "7/7 [==============================] - 3s 410ms/step - loss: 1.0972 - accuracy: 0.3100\n",
      "Epoch 10/20\n",
      "7/7 [==============================] - 3s 409ms/step - loss: 1.0986 - accuracy: 0.3500\n",
      "Epoch 11/20\n",
      "7/7 [==============================] - 3s 404ms/step - loss: 1.0988 - accuracy: 0.3500\n",
      "Epoch 12/20\n",
      "7/7 [==============================] - 3s 408ms/step - loss: 1.0973 - accuracy: 0.3700\n",
      "Epoch 13/20\n",
      "7/7 [==============================] - 3s 407ms/step - loss: 1.0990 - accuracy: 0.3100\n",
      "Epoch 14/20\n",
      "7/7 [==============================] - 3s 411ms/step - loss: 1.0983 - accuracy: 0.3400\n",
      "Epoch 15/20\n",
      "7/7 [==============================] - 3s 406ms/step - loss: 1.0971 - accuracy: 0.3300\n",
      "Epoch 16/20\n",
      "7/7 [==============================] - 3s 409ms/step - loss: 1.0979 - accuracy: 0.3200\n",
      "Epoch 17/20\n",
      "7/7 [==============================] - 3s 409ms/step - loss: 1.0997 - accuracy: 0.3100\n",
      "Epoch 18/20\n",
      "7/7 [==============================] - 3s 406ms/step - loss: 1.0983 - accuracy: 0.3400\n",
      "Epoch 19/20\n",
      "7/7 [==============================] - 3s 412ms/step - loss: 1.0990 - accuracy: 0.3700\n",
      "Epoch 20/20\n",
      "7/7 [==============================] - 3s 405ms/step - loss: 1.0967 - accuracy: 0.3100\n"
     ]
    },
    {
     "data": {
      "text/plain": [
       "<keras.callbacks.History at 0x7fd2c16b0b20>"
      ]
     },
     "execution_count": 11,
     "metadata": {},
     "output_type": "execute_result"
    }
   ],
   "source": [
    "model.fit(X, y, batch_size=16, epochs=20)"
   ]
  },
  {
   "cell_type": "code",
   "execution_count": null,
   "id": "213c2514-9cbe-4eb8-89d7-a10312500e5d",
   "metadata": {},
   "outputs": [],
   "source": []
  }
 ],
 "metadata": {
  "kernelspec": {
   "display_name": "Python 3 (ipykernel)",
   "language": "python",
   "name": "python3"
  },
  "language_info": {
   "codemirror_mode": {
    "name": "ipython",
    "version": 3
   },
   "file_extension": ".py",
   "mimetype": "text/x-python",
   "name": "python",
   "nbconvert_exporter": "python",
   "pygments_lexer": "ipython3",
   "version": "3.9.12"
  }
 },
 "nbformat": 4,
 "nbformat_minor": 5
}
