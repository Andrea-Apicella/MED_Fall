{
 "cells": [
  {
   "cell_type": "markdown",
   "id": "8cc03ab9-4832-4382-bf60-29d006b6dbad",
   "metadata": {},
   "source": [
    "### Imports"
   ]
  },
  {
   "cell_type": "code",
   "execution_count": 5,
   "id": "b7b4f8f2-ff9b-4bb1-bfd1-44ba404783b4",
   "metadata": {},
   "outputs": [
    {
     "name": "stdout",
     "output_type": "stream",
     "text": [
      "The autoreload extension is already loaded. To reload it, use:\n",
      "  %reload_ext autoreload\n"
     ]
    }
   ],
   "source": [
    "%load_ext autoreload\n",
    "%autoreload 2\n",
    "%load_ext lab_black"
   ]
  },
  {
   "cell_type": "code",
   "execution_count": 6,
   "id": "0ebfb3fe-f9d6-4748-b584-77ebf2c4f43e",
   "metadata": {},
   "outputs": [],
   "source": [
    "import tensorflow as tf\n",
    "from tensorflow.keras.models import Sequential\n",
    "from tensorflow.keras import layers\n",
    "from tensorflow.keras.initializers import Constant\n",
    "from test_scripts.load_images import get_video_seq\n",
    "from utils.utility_functions import listdir_nohidden_sorted as lsdir\n",
    "from vision.vision_utils.video_seq_generator import VideoSeqGenerator\n",
    "import pandas as pd\n",
    "import numpy as np\n",
    "import cv2\n",
    "import matplotlib.pyplot as plt\n",
    "from random import randrange\n",
    "from sklearn.preprocessing import LabelBinarizer"
   ]
  },
  {
   "cell_type": "markdown",
   "id": "fe48352f-cfc1-4781-bd8a-116b25beb52c",
   "metadata": {},
   "source": [
    "### Paths"
   ]
  },
  {
   "cell_type": "code",
   "execution_count": 7,
   "id": "c182f2b9-653d-461b-b3a4-359388edbbf6",
   "metadata": {},
   "outputs": [],
   "source": [
    "MED_FALL = \"/home/jovyan/work/MED_Fall\"\n",
    "GROUND_TRUTH_PATH = f\"{MED_FALL}/vision/vision_dataset/ground_truth_new\"\n",
    "FRAMES_PATH = f\"{MED_FALL}/vision/vision_dataset/extracted_frames\""
   ]
  },
  {
   "cell_type": "markdown",
   "id": "14ac1b25-b220-4847-87c3-7355c5f6c332",
   "metadata": {
    "tags": []
   },
   "source": [
    "### Utility Functions"
   ]
  },
  {
   "cell_type": "code",
   "execution_count": 8,
   "id": "cfef0bd3-8400-400d-8e1d-df3a262cd93f",
   "metadata": {},
   "outputs": [],
   "source": [
    "def get_cam(name: str) -> int:\n",
    "    \"\"\"\n",
    "    Extract cam number from each video frame name\n",
    "    ------\n",
    "\n",
    "    arguments:\n",
    "        - name: string containing the frame name. Examle: 'Actor_1_bed_cam_1_0000'\n",
    "\n",
    "    outputs:\n",
    "        - cam_number: integer containg the cam number of the provided frame name.\n",
    "                    Example: if name is 'Actor_1_bed_cam_1_0000', cam_number is: 1.\n",
    "    \"\"\"\n",
    "\n",
    "    start = name.find(\"cam_\")\n",
    "    ind = start + 4\n",
    "    cam_number = name[ind]\n",
    "    return int(cam_number)\n",
    "\n",
    "\n",
    "def show_frames_series(\n",
    "    frames_series: np.array, title: str, figsize: tuple[int, int] = (20, 20)\n",
    "):\n",
    "    \"\"\"\n",
    "    plot a series of SEQ_LEN frames with respective labels as titles.\n",
    "    --------\n",
    "\n",
    "    arguments:\n",
    "        - frames_series: np.array containg SEQ_LEN images.\n",
    "        - title: strcontainging the label of the series of frame. The label is calculated as the mode (most frequent label) of the single frames' labels.\n",
    "        - fig_size: Optional. Tuple of two integers containing the figure dimensions for the plot. Default is (20, 20).\n",
    "\n",
    "    \"\"\"\n",
    "    rows = 5\n",
    "\n",
    "    fig = plt.figure(figsize=figsize)\n",
    "    for n, image in enumerate(frames_series):\n",
    "        a = fig.add_subplot(rows, int(len(frames_series) / float(rows)), n + 1)\n",
    "\n",
    "        plt.imshow(image)\n",
    "        plt.axis(\"off\")\n",
    "    fig.suptitle(title)\n",
    "    plt.show()"
   ]
  },
  {
   "cell_type": "markdown",
   "id": "7103cc27-bd03-4583-95f2-1067078394b3",
   "metadata": {},
   "source": [
    "### Hyperparameters"
   ]
  },
  {
   "cell_type": "code",
   "execution_count": 9,
   "id": "6053081c-e2bf-4788-96b3-09eeb802c9d2",
   "metadata": {},
   "outputs": [],
   "source": [
    "SEQ_LEN: int = 20\n",
    "BATCH_SIZE: int = 32\n",
    "INPUT_SHAPE: tuple[int, int, int] = (112, 112, 3)"
   ]
  },
  {
   "cell_type": "markdown",
   "id": "55e426db-8691-41f4-b73c-b5a00b78862a",
   "metadata": {
    "tags": []
   },
   "source": [
    "## Load Dataset"
   ]
  },
  {
   "cell_type": "code",
   "execution_count": 10,
   "id": "7d6b6094-dc5a-42d6-a534-c35d6c77a9ff",
   "metadata": {},
   "outputs": [
    {
     "data": {
      "text/html": [
       "<div>\n",
       "<style scoped>\n",
       "    .dataframe tbody tr th:only-of-type {\n",
       "        vertical-align: middle;\n",
       "    }\n",
       "\n",
       "    .dataframe tbody tr th {\n",
       "        vertical-align: top;\n",
       "    }\n",
       "\n",
       "    .dataframe thead th {\n",
       "        text-align: right;\n",
       "    }\n",
       "</style>\n",
       "<table border=\"1\" class=\"dataframe\">\n",
       "  <thead>\n",
       "    <tr style=\"text-align: right;\">\n",
       "      <th></th>\n",
       "      <th>micro_labels</th>\n",
       "      <th>macro_labels</th>\n",
       "      <th>ar_labels</th>\n",
       "      <th>frame_name</th>\n",
       "    </tr>\n",
       "  </thead>\n",
       "  <tbody>\n",
       "    <tr>\n",
       "      <th>0</th>\n",
       "      <td>lie_still</td>\n",
       "      <td>lying_down</td>\n",
       "      <td>actor_repositioning</td>\n",
       "      <td>actor_1_bed_cam_1_0000</td>\n",
       "    </tr>\n",
       "    <tr>\n",
       "      <th>1</th>\n",
       "      <td>lie_still</td>\n",
       "      <td>lying_down</td>\n",
       "      <td>actor_repositioning</td>\n",
       "      <td>actor_1_bed_cam_1_0001</td>\n",
       "    </tr>\n",
       "    <tr>\n",
       "      <th>2</th>\n",
       "      <td>lie_still</td>\n",
       "      <td>lying_down</td>\n",
       "      <td>actor_repositioning</td>\n",
       "      <td>actor_1_bed_cam_1_0002</td>\n",
       "    </tr>\n",
       "    <tr>\n",
       "      <th>3</th>\n",
       "      <td>lie_still</td>\n",
       "      <td>lying_down</td>\n",
       "      <td>actor_repositioning</td>\n",
       "      <td>actor_1_bed_cam_1_0003</td>\n",
       "    </tr>\n",
       "    <tr>\n",
       "      <th>4</th>\n",
       "      <td>lie_still</td>\n",
       "      <td>lying_down</td>\n",
       "      <td>actor_repositioning</td>\n",
       "      <td>actor_1_bed_cam_1_0004</td>\n",
       "    </tr>\n",
       "    <tr>\n",
       "      <th>...</th>\n",
       "      <td>...</td>\n",
       "      <td>...</td>\n",
       "      <td>...</td>\n",
       "      <td>...</td>\n",
       "    </tr>\n",
       "    <tr>\n",
       "      <th>1182295</th>\n",
       "      <td>stand_up_from_floor</td>\n",
       "      <td>adl</td>\n",
       "      <td>actor_repositioning</td>\n",
       "      <td>actor_4_chair_full_ph_cam_7_4615</td>\n",
       "    </tr>\n",
       "    <tr>\n",
       "      <th>1182296</th>\n",
       "      <td>stand_up_from_floor</td>\n",
       "      <td>adl</td>\n",
       "      <td>actor_repositioning</td>\n",
       "      <td>actor_4_chair_full_ph_cam_7_4616</td>\n",
       "    </tr>\n",
       "    <tr>\n",
       "      <th>1182297</th>\n",
       "      <td>stand_up_from_floor</td>\n",
       "      <td>adl</td>\n",
       "      <td>actor_repositioning</td>\n",
       "      <td>actor_4_chair_full_ph_cam_7_4617</td>\n",
       "    </tr>\n",
       "    <tr>\n",
       "      <th>1182298</th>\n",
       "      <td>stand_up_from_floor</td>\n",
       "      <td>adl</td>\n",
       "      <td>actor_repositioning</td>\n",
       "      <td>actor_4_chair_full_ph_cam_7_4618</td>\n",
       "    </tr>\n",
       "    <tr>\n",
       "      <th>1182299</th>\n",
       "      <td>stand_up_from_floor</td>\n",
       "      <td>adl</td>\n",
       "      <td>actor_repositioning</td>\n",
       "      <td>actor_4_chair_full_ph_cam_7_4619</td>\n",
       "    </tr>\n",
       "  </tbody>\n",
       "</table>\n",
       "<p>1182300 rows × 4 columns</p>\n",
       "</div>"
      ],
      "text/plain": [
       "                micro_labels macro_labels            ar_labels  \\\n",
       "0                  lie_still   lying_down  actor_repositioning   \n",
       "1                  lie_still   lying_down  actor_repositioning   \n",
       "2                  lie_still   lying_down  actor_repositioning   \n",
       "3                  lie_still   lying_down  actor_repositioning   \n",
       "4                  lie_still   lying_down  actor_repositioning   \n",
       "...                      ...          ...                  ...   \n",
       "1182295  stand_up_from_floor          adl  actor_repositioning   \n",
       "1182296  stand_up_from_floor          adl  actor_repositioning   \n",
       "1182297  stand_up_from_floor          adl  actor_repositioning   \n",
       "1182298  stand_up_from_floor          adl  actor_repositioning   \n",
       "1182299  stand_up_from_floor          adl  actor_repositioning   \n",
       "\n",
       "                               frame_name  \n",
       "0                  actor_1_bed_cam_1_0000  \n",
       "1                  actor_1_bed_cam_1_0001  \n",
       "2                  actor_1_bed_cam_1_0002  \n",
       "3                  actor_1_bed_cam_1_0003  \n",
       "4                  actor_1_bed_cam_1_0004  \n",
       "...                                   ...  \n",
       "1182295  actor_4_chair_full_ph_cam_7_4615  \n",
       "1182296  actor_4_chair_full_ph_cam_7_4616  \n",
       "1182297  actor_4_chair_full_ph_cam_7_4617  \n",
       "1182298  actor_4_chair_full_ph_cam_7_4618  \n",
       "1182299  actor_4_chair_full_ph_cam_7_4619  \n",
       "\n",
       "[1182300 rows x 4 columns]"
      ]
     },
     "execution_count": 10,
     "metadata": {},
     "output_type": "execute_result"
    }
   ],
   "source": [
    "# Load all csv files (one per actor). Each file contains frames names and respective labels.\n",
    "dfs = []\n",
    "for file in lsdir(GROUND_TRUTH_PATH):\n",
    "    df = pd.read_csv(file)\n",
    "    dfs.append(df)\n",
    "# concatenate all csv files in one pandas DF\n",
    "dataset = pd.concat(dfs, ignore_index=True, axis=0)\n",
    "dataset = dataset.iloc[:, 2:]\n",
    "dataset"
   ]
  },
  {
   "cell_type": "code",
   "execution_count": 11,
   "id": "7ea79a72-7500-410a-9f02-5c1bd0105670",
   "metadata": {},
   "outputs": [
    {
     "data": {
      "text/html": [
       "<div>\n",
       "<style scoped>\n",
       "    .dataframe tbody tr th:only-of-type {\n",
       "        vertical-align: middle;\n",
       "    }\n",
       "\n",
       "    .dataframe tbody tr th {\n",
       "        vertical-align: top;\n",
       "    }\n",
       "\n",
       "    .dataframe thead th {\n",
       "        text-align: right;\n",
       "    }\n",
       "</style>\n",
       "<table border=\"1\" class=\"dataframe\">\n",
       "  <thead>\n",
       "    <tr style=\"text-align: right;\">\n",
       "      <th></th>\n",
       "      <th>micro_labels</th>\n",
       "      <th>macro_labels</th>\n",
       "      <th>ar_labels</th>\n",
       "      <th>frame_name</th>\n",
       "    </tr>\n",
       "  </thead>\n",
       "  <tbody>\n",
       "    <tr>\n",
       "      <th>206</th>\n",
       "      <td>sit_up_from_lying</td>\n",
       "      <td>adl</td>\n",
       "      <td>on_air</td>\n",
       "      <td>actor_1_bed_cam_1_0206</td>\n",
       "    </tr>\n",
       "    <tr>\n",
       "      <th>207</th>\n",
       "      <td>sit_up_from_lying</td>\n",
       "      <td>adl</td>\n",
       "      <td>on_air</td>\n",
       "      <td>actor_1_bed_cam_1_0207</td>\n",
       "    </tr>\n",
       "    <tr>\n",
       "      <th>208</th>\n",
       "      <td>sit_up_from_lying</td>\n",
       "      <td>adl</td>\n",
       "      <td>on_air</td>\n",
       "      <td>actor_1_bed_cam_1_0208</td>\n",
       "    </tr>\n",
       "    <tr>\n",
       "      <th>209</th>\n",
       "      <td>sit_up_from_lying</td>\n",
       "      <td>adl</td>\n",
       "      <td>on_air</td>\n",
       "      <td>actor_1_bed_cam_1_0209</td>\n",
       "    </tr>\n",
       "    <tr>\n",
       "      <th>210</th>\n",
       "      <td>sit_up_from_lying</td>\n",
       "      <td>adl</td>\n",
       "      <td>on_air</td>\n",
       "      <td>actor_1_bed_cam_1_0210</td>\n",
       "    </tr>\n",
       "    <tr>\n",
       "      <th>...</th>\n",
       "      <td>...</td>\n",
       "      <td>...</td>\n",
       "      <td>...</td>\n",
       "      <td>...</td>\n",
       "    </tr>\n",
       "    <tr>\n",
       "      <th>1182213</th>\n",
       "      <td>crouched_still</td>\n",
       "      <td>falling</td>\n",
       "      <td>on_air</td>\n",
       "      <td>actor_4_chair_full_ph_cam_7_4533</td>\n",
       "    </tr>\n",
       "    <tr>\n",
       "      <th>1182214</th>\n",
       "      <td>crouched_still</td>\n",
       "      <td>falling</td>\n",
       "      <td>on_air</td>\n",
       "      <td>actor_4_chair_full_ph_cam_7_4534</td>\n",
       "    </tr>\n",
       "    <tr>\n",
       "      <th>1182215</th>\n",
       "      <td>crouched_still</td>\n",
       "      <td>falling</td>\n",
       "      <td>on_air</td>\n",
       "      <td>actor_4_chair_full_ph_cam_7_4535</td>\n",
       "    </tr>\n",
       "    <tr>\n",
       "      <th>1182216</th>\n",
       "      <td>crouched_still</td>\n",
       "      <td>falling</td>\n",
       "      <td>on_air</td>\n",
       "      <td>actor_4_chair_full_ph_cam_7_4536</td>\n",
       "    </tr>\n",
       "    <tr>\n",
       "      <th>1182217</th>\n",
       "      <td>crouched_still</td>\n",
       "      <td>falling</td>\n",
       "      <td>on_air</td>\n",
       "      <td>actor_4_chair_full_ph_cam_7_4537</td>\n",
       "    </tr>\n",
       "  </tbody>\n",
       "</table>\n",
       "<p>386106 rows × 4 columns</p>\n",
       "</div>"
      ],
      "text/plain": [
       "              micro_labels macro_labels ar_labels  \\\n",
       "206      sit_up_from_lying          adl    on_air   \n",
       "207      sit_up_from_lying          adl    on_air   \n",
       "208      sit_up_from_lying          adl    on_air   \n",
       "209      sit_up_from_lying          adl    on_air   \n",
       "210      sit_up_from_lying          adl    on_air   \n",
       "...                    ...          ...       ...   \n",
       "1182213     crouched_still      falling    on_air   \n",
       "1182214     crouched_still      falling    on_air   \n",
       "1182215     crouched_still      falling    on_air   \n",
       "1182216     crouched_still      falling    on_air   \n",
       "1182217     crouched_still      falling    on_air   \n",
       "\n",
       "                               frame_name  \n",
       "206                actor_1_bed_cam_1_0206  \n",
       "207                actor_1_bed_cam_1_0207  \n",
       "208                actor_1_bed_cam_1_0208  \n",
       "209                actor_1_bed_cam_1_0209  \n",
       "210                actor_1_bed_cam_1_0210  \n",
       "...                                   ...  \n",
       "1182213  actor_4_chair_full_ph_cam_7_4533  \n",
       "1182214  actor_4_chair_full_ph_cam_7_4534  \n",
       "1182215  actor_4_chair_full_ph_cam_7_4535  \n",
       "1182216  actor_4_chair_full_ph_cam_7_4536  \n",
       "1182217  actor_4_chair_full_ph_cam_7_4537  \n",
       "\n",
       "[386106 rows x 4 columns]"
      ]
     },
     "execution_count": 11,
     "metadata": {},
     "output_type": "execute_result"
    }
   ],
   "source": [
    "# Select only \"on_air\" frames (where actors are performing sequences)\n",
    "dataset_onair = dataset.loc[dataset[\"ar_labels\"] == \"on_air\"].copy()\n",
    "dataset_onair"
   ]
  },
  {
   "cell_type": "code",
   "execution_count": 12,
   "id": "1b77e37f-05c3-471b-9999-e7dddf7987d5",
   "metadata": {},
   "outputs": [
    {
     "data": {
      "text/plain": [
       "adl           269836\n",
       "falling        88312\n",
       "lying_down     27958\n",
       "Name: macro_labels, dtype: int64"
      ]
     },
     "execution_count": 12,
     "metadata": {},
     "output_type": "execute_result"
    }
   ],
   "source": [
    "# check on_air dataset samples per class\n",
    "dataset_onair[\"macro_labels\"].value_counts()"
   ]
  },
  {
   "cell_type": "code",
   "execution_count": 13,
   "id": "b55f678b-74c3-471e-b2f5-98c73581d0ea",
   "metadata": {},
   "outputs": [
    {
     "data": {
      "text/plain": [
       "{'adl': array([1, 0, 0]),\n",
       " 'falling': array([0, 1, 0]),\n",
       " 'lying_down': array([0, 0, 1])}"
      ]
     },
     "execution_count": 13,
     "metadata": {},
     "output_type": "execute_result"
    }
   ],
   "source": [
    "# instantiate and fit a OneHotEncoder for the macro classes (adl, fall, lie_down)\n",
    "le = LabelBinarizer()\n",
    "le.fit(dataset_onair[\"macro_labels\"])\n",
    "le_name_mapping = dict(zip(le.classes_, le.transform(le.classes_)))\n",
    "le_name_mapping"
   ]
  },
  {
   "cell_type": "markdown",
   "id": "786a45e9-fe4e-4155-9ab1-1b78a6df7f7e",
   "metadata": {},
   "source": [
    "## Balance dataset"
   ]
  },
  {
   "cell_type": "code",
   "execution_count": 26,
   "id": "846dd261-b4ad-484b-98f0-be7913e4d343",
   "metadata": {},
   "outputs": [
    {
     "data": {
      "text/plain": [
       "adl           27958\n",
       "falling       27958\n",
       "lying_down    27958\n",
       "Name: macro_labels, dtype: int64"
      ]
     },
     "execution_count": 26,
     "metadata": {},
     "output_type": "execute_result"
    }
   ],
   "source": [
    "dataset_balanced = dataset_onair.copy()  # make a copy of on_air dataset\n",
    "\n",
    "counts = dataset_balanced[\"macro_labels\"].value_counts()  # count samples per class\n",
    "minority_class_samples = counts[-1]  # store minority class samples\n",
    "\n",
    "# select adl samples\n",
    "adl_samples = dataset_onair.loc[dataset[\"macro_labels\"] == \"adl\"]\n",
    "\n",
    "# select fall samples\n",
    "fall_samples = dataset_onair.loc[dataset[\"macro_labels\"] == \"falling\"]\n",
    "\n",
    "## subsample\n",
    "\n",
    "# count exceeding adl samples wrt minority_class_samples\n",
    "adl_todrop_ind = len(adl_samples) - minority_class_samples\n",
    "# count exceeding fall samples wrt minority_class_samples\n",
    "fall_todrop_ind = len(fall_samples) - minority_class_samples\n",
    "\n",
    "# select indices to drop from adl subset\n",
    "adl_samples_to_drop = adl_samples.iloc[-adl_todrop_ind:]\n",
    "\n",
    "# select indices to drop from fall subset\n",
    "fall_samples_to_drop = fall_samples.iloc[-fall_todrop_ind:]\n",
    "\n",
    "# actually drop exceeding adl samples\n",
    "dataset_balanced.drop(adl_samples_to_drop.index, axis=0, inplace=True)\n",
    "\n",
    "# actually drop exceeding fall samples\n",
    "dataset_balanced.drop(fall_samples_to_drop.index, axis=0, inplace=True)\n",
    "\n",
    "# count samples per class of the balanced dataset\n",
    "dataset_balanced[\"macro_labels\"].value_counts()"
   ]
  },
  {
   "cell_type": "markdown",
   "id": "74de4cd8-3b01-4829-8ed6-565124960b2a",
   "metadata": {},
   "source": [
    "## Train test split"
   ]
  },
  {
   "cell_type": "code",
   "execution_count": 27,
   "id": "23e47f24-823b-45e4-8472-67d04fb3d74b",
   "metadata": {},
   "outputs": [],
   "source": [
    "# Take first 90% of the balanced dataset as train data and remaining 10% as val data.\n",
    "# NB: no shuffling is applied as frames must be consecutive to later split them in time-series.\n",
    "split_ratio = 0.7\n",
    "split = int(len(dataset_balanced) * split_ratio)\n",
    "train_set = dataset_balanced.iloc[:split, :].copy()\n",
    "val_set = dataset_balanced.iloc[split:, :].copy()"
   ]
  },
  {
   "cell_type": "code",
   "execution_count": 28,
   "id": "1aaab703-7ba3-42cd-bb3e-3d1c1c99efee",
   "metadata": {},
   "outputs": [
    {
     "data": {
      "text/html": [
       "<div>\n",
       "<style scoped>\n",
       "    .dataframe tbody tr th:only-of-type {\n",
       "        vertical-align: middle;\n",
       "    }\n",
       "\n",
       "    .dataframe tbody tr th {\n",
       "        vertical-align: top;\n",
       "    }\n",
       "\n",
       "    .dataframe thead th {\n",
       "        text-align: right;\n",
       "    }\n",
       "</style>\n",
       "<table border=\"1\" class=\"dataframe\">\n",
       "  <thead>\n",
       "    <tr style=\"text-align: right;\">\n",
       "      <th></th>\n",
       "      <th>micro_labels</th>\n",
       "      <th>macro_labels</th>\n",
       "      <th>ar_labels</th>\n",
       "      <th>frame_name</th>\n",
       "    </tr>\n",
       "  </thead>\n",
       "  <tbody>\n",
       "    <tr>\n",
       "      <th>206</th>\n",
       "      <td>sit_up_from_lying</td>\n",
       "      <td>adl</td>\n",
       "      <td>on_air</td>\n",
       "      <td>actor_1_bed_cam_1_0206</td>\n",
       "    </tr>\n",
       "    <tr>\n",
       "      <th>207</th>\n",
       "      <td>sit_up_from_lying</td>\n",
       "      <td>adl</td>\n",
       "      <td>on_air</td>\n",
       "      <td>actor_1_bed_cam_1_0207</td>\n",
       "    </tr>\n",
       "    <tr>\n",
       "      <th>208</th>\n",
       "      <td>sit_up_from_lying</td>\n",
       "      <td>adl</td>\n",
       "      <td>on_air</td>\n",
       "      <td>actor_1_bed_cam_1_0208</td>\n",
       "    </tr>\n",
       "    <tr>\n",
       "      <th>209</th>\n",
       "      <td>sit_up_from_lying</td>\n",
       "      <td>adl</td>\n",
       "      <td>on_air</td>\n",
       "      <td>actor_1_bed_cam_1_0209</td>\n",
       "    </tr>\n",
       "    <tr>\n",
       "      <th>210</th>\n",
       "      <td>sit_up_from_lying</td>\n",
       "      <td>adl</td>\n",
       "      <td>on_air</td>\n",
       "      <td>actor_1_bed_cam_1_0210</td>\n",
       "    </tr>\n",
       "    <tr>\n",
       "      <th>...</th>\n",
       "      <td>...</td>\n",
       "      <td>...</td>\n",
       "      <td>...</td>\n",
       "      <td>...</td>\n",
       "    </tr>\n",
       "    <tr>\n",
       "      <th>274431</th>\n",
       "      <td>lie_down_on_the_floor</td>\n",
       "      <td>lying_down</td>\n",
       "      <td>on_air</td>\n",
       "      <td>actor_1_walk_cam_2_1971</td>\n",
       "    </tr>\n",
       "    <tr>\n",
       "      <th>274432</th>\n",
       "      <td>lie_down_on_the_floor</td>\n",
       "      <td>lying_down</td>\n",
       "      <td>on_air</td>\n",
       "      <td>actor_1_walk_cam_2_1972</td>\n",
       "    </tr>\n",
       "    <tr>\n",
       "      <th>274433</th>\n",
       "      <td>lie_down_on_the_floor</td>\n",
       "      <td>lying_down</td>\n",
       "      <td>on_air</td>\n",
       "      <td>actor_1_walk_cam_2_1973</td>\n",
       "    </tr>\n",
       "    <tr>\n",
       "      <th>274434</th>\n",
       "      <td>lie_down_on_the_floor</td>\n",
       "      <td>lying_down</td>\n",
       "      <td>on_air</td>\n",
       "      <td>actor_1_walk_cam_2_1974</td>\n",
       "    </tr>\n",
       "    <tr>\n",
       "      <th>274435</th>\n",
       "      <td>lie_down_on_the_floor</td>\n",
       "      <td>lying_down</td>\n",
       "      <td>on_air</td>\n",
       "      <td>actor_1_walk_cam_2_1975</td>\n",
       "    </tr>\n",
       "  </tbody>\n",
       "</table>\n",
       "<p>58711 rows × 4 columns</p>\n",
       "</div>"
      ],
      "text/plain": [
       "                 micro_labels macro_labels ar_labels               frame_name\n",
       "206         sit_up_from_lying          adl    on_air   actor_1_bed_cam_1_0206\n",
       "207         sit_up_from_lying          adl    on_air   actor_1_bed_cam_1_0207\n",
       "208         sit_up_from_lying          adl    on_air   actor_1_bed_cam_1_0208\n",
       "209         sit_up_from_lying          adl    on_air   actor_1_bed_cam_1_0209\n",
       "210         sit_up_from_lying          adl    on_air   actor_1_bed_cam_1_0210\n",
       "...                       ...          ...       ...                      ...\n",
       "274431  lie_down_on_the_floor   lying_down    on_air  actor_1_walk_cam_2_1971\n",
       "274432  lie_down_on_the_floor   lying_down    on_air  actor_1_walk_cam_2_1972\n",
       "274433  lie_down_on_the_floor   lying_down    on_air  actor_1_walk_cam_2_1973\n",
       "274434  lie_down_on_the_floor   lying_down    on_air  actor_1_walk_cam_2_1974\n",
       "274435  lie_down_on_the_floor   lying_down    on_air  actor_1_walk_cam_2_1975\n",
       "\n",
       "[58711 rows x 4 columns]"
      ]
     },
     "execution_count": 28,
     "metadata": {},
     "output_type": "execute_result"
    }
   ],
   "source": [
    "# show train set\n",
    "train_set"
   ]
  },
  {
   "cell_type": "code",
   "execution_count": 29,
   "id": "ee9f2f24-6e67-47a2-8f98-930e606908cf",
   "metadata": {},
   "outputs": [
    {
     "data": {
      "text/html": [
       "<div>\n",
       "<style scoped>\n",
       "    .dataframe tbody tr th:only-of-type {\n",
       "        vertical-align: middle;\n",
       "    }\n",
       "\n",
       "    .dataframe tbody tr th {\n",
       "        vertical-align: top;\n",
       "    }\n",
       "\n",
       "    .dataframe thead th {\n",
       "        text-align: right;\n",
       "    }\n",
       "</style>\n",
       "<table border=\"1\" class=\"dataframe\">\n",
       "  <thead>\n",
       "    <tr style=\"text-align: right;\">\n",
       "      <th></th>\n",
       "      <th>micro_labels</th>\n",
       "      <th>macro_labels</th>\n",
       "      <th>ar_labels</th>\n",
       "      <th>frame_name</th>\n",
       "    </tr>\n",
       "  </thead>\n",
       "  <tbody>\n",
       "    <tr>\n",
       "      <th>274436</th>\n",
       "      <td>lie_down_on_the_floor</td>\n",
       "      <td>lying_down</td>\n",
       "      <td>on_air</td>\n",
       "      <td>actor_1_walk_cam_2_1976</td>\n",
       "    </tr>\n",
       "    <tr>\n",
       "      <th>274437</th>\n",
       "      <td>lie_down_on_the_floor</td>\n",
       "      <td>lying_down</td>\n",
       "      <td>on_air</td>\n",
       "      <td>actor_1_walk_cam_2_1977</td>\n",
       "    </tr>\n",
       "    <tr>\n",
       "      <th>274438</th>\n",
       "      <td>lie_down_on_the_floor</td>\n",
       "      <td>lying_down</td>\n",
       "      <td>on_air</td>\n",
       "      <td>actor_1_walk_cam_2_1978</td>\n",
       "    </tr>\n",
       "    <tr>\n",
       "      <th>274439</th>\n",
       "      <td>lie_down_on_the_floor</td>\n",
       "      <td>lying_down</td>\n",
       "      <td>on_air</td>\n",
       "      <td>actor_1_walk_cam_2_1979</td>\n",
       "    </tr>\n",
       "    <tr>\n",
       "      <th>274440</th>\n",
       "      <td>lie_down_on_the_floor</td>\n",
       "      <td>lying_down</td>\n",
       "      <td>on_air</td>\n",
       "      <td>actor_1_walk_cam_2_1980</td>\n",
       "    </tr>\n",
       "    <tr>\n",
       "      <th>...</th>\n",
       "      <td>...</td>\n",
       "      <td>...</td>\n",
       "      <td>...</td>\n",
       "      <td>...</td>\n",
       "    </tr>\n",
       "    <tr>\n",
       "      <th>1179952</th>\n",
       "      <td>lie_down_on_the_floor</td>\n",
       "      <td>lying_down</td>\n",
       "      <td>on_air</td>\n",
       "      <td>actor_4_chair_full_ph_cam_7_2272</td>\n",
       "    </tr>\n",
       "    <tr>\n",
       "      <th>1179953</th>\n",
       "      <td>lie_down_on_the_floor</td>\n",
       "      <td>lying_down</td>\n",
       "      <td>on_air</td>\n",
       "      <td>actor_4_chair_full_ph_cam_7_2273</td>\n",
       "    </tr>\n",
       "    <tr>\n",
       "      <th>1179954</th>\n",
       "      <td>lie_down_on_the_floor</td>\n",
       "      <td>lying_down</td>\n",
       "      <td>on_air</td>\n",
       "      <td>actor_4_chair_full_ph_cam_7_2274</td>\n",
       "    </tr>\n",
       "    <tr>\n",
       "      <th>1179955</th>\n",
       "      <td>lie_down_on_the_floor</td>\n",
       "      <td>lying_down</td>\n",
       "      <td>on_air</td>\n",
       "      <td>actor_4_chair_full_ph_cam_7_2275</td>\n",
       "    </tr>\n",
       "    <tr>\n",
       "      <th>1179956</th>\n",
       "      <td>lie_down_on_the_floor</td>\n",
       "      <td>lying_down</td>\n",
       "      <td>on_air</td>\n",
       "      <td>actor_4_chair_full_ph_cam_7_2276</td>\n",
       "    </tr>\n",
       "  </tbody>\n",
       "</table>\n",
       "<p>25163 rows × 4 columns</p>\n",
       "</div>"
      ],
      "text/plain": [
       "                  micro_labels macro_labels ar_labels  \\\n",
       "274436   lie_down_on_the_floor   lying_down    on_air   \n",
       "274437   lie_down_on_the_floor   lying_down    on_air   \n",
       "274438   lie_down_on_the_floor   lying_down    on_air   \n",
       "274439   lie_down_on_the_floor   lying_down    on_air   \n",
       "274440   lie_down_on_the_floor   lying_down    on_air   \n",
       "...                        ...          ...       ...   \n",
       "1179952  lie_down_on_the_floor   lying_down    on_air   \n",
       "1179953  lie_down_on_the_floor   lying_down    on_air   \n",
       "1179954  lie_down_on_the_floor   lying_down    on_air   \n",
       "1179955  lie_down_on_the_floor   lying_down    on_air   \n",
       "1179956  lie_down_on_the_floor   lying_down    on_air   \n",
       "\n",
       "                               frame_name  \n",
       "274436            actor_1_walk_cam_2_1976  \n",
       "274437            actor_1_walk_cam_2_1977  \n",
       "274438            actor_1_walk_cam_2_1978  \n",
       "274439            actor_1_walk_cam_2_1979  \n",
       "274440            actor_1_walk_cam_2_1980  \n",
       "...                                   ...  \n",
       "1179952  actor_4_chair_full_ph_cam_7_2272  \n",
       "1179953  actor_4_chair_full_ph_cam_7_2273  \n",
       "1179954  actor_4_chair_full_ph_cam_7_2274  \n",
       "1179955  actor_4_chair_full_ph_cam_7_2275  \n",
       "1179956  actor_4_chair_full_ph_cam_7_2276  \n",
       "\n",
       "[25163 rows x 4 columns]"
      ]
     },
     "execution_count": 29,
     "metadata": {},
     "output_type": "execute_result"
    }
   ],
   "source": [
    "# show val set\n",
    "val_set"
   ]
  },
  {
   "cell_type": "code",
   "execution_count": 30,
   "id": "93de2c25-14fb-4927-ab0c-2337aa06d714",
   "metadata": {},
   "outputs": [
    {
     "name": "stdout",
     "output_type": "stream",
     "text": [
      "adl           27958\n",
      "falling       20358\n",
      "lying_down    10395\n",
      "Name: macro_labels, dtype: int64\n",
      "lying_down    17563\n",
      "falling        7600\n",
      "Name: macro_labels, dtype: int64\n"
     ]
    }
   ],
   "source": [
    "# show samples per class in each set\n",
    "print(train_set[\"macro_labels\"].value_counts())\n",
    "print(val_set[\"macro_labels\"].value_counts())"
   ]
  },
  {
   "cell_type": "markdown",
   "id": "7fc708a4-0528-45e2-9af7-f1e404f7e502",
   "metadata": {},
   "source": [
    "## Instantiate train and val generators"
   ]
  },
  {
   "cell_type": "code",
   "execution_count": 66,
   "id": "1c6b6042-71b0-4795-9700-48d41bcd0ba3",
   "metadata": {},
   "outputs": [],
   "source": [
    "\n",
    "train_gen = VideoSeqGenerator(frames_path=FRAMES_PATH,\n",
    "                        df = dataset_copy,\n",
    "                        seq_len = SEQ_LEN,\n",
    "                        batch_size = BATCH_SIZE,\n",
    "                        label_encoder = le,\n",
    "                        input_shape = INPUT_SHAPE,\n",
    "                       )\n",
    "\n"
   ]
  },
  {
   "cell_type": "code",
   "execution_count": null,
   "id": "cfc19b12-98e8-4b3b-9865-8cc17000b5af",
   "metadata": {},
   "outputs": [],
   "source": [
    "val_gen = VideoSeqGenerator(frames_path=FRAMES_PATH,\n",
    "                        df = val_set,\n",
    "                        seq_len = SEQ_LEN,\n",
    "                        batch_size = BATCH_SIZE,\n",
    "                        label_encoder = le,\n",
    "                        input_shape = INPUT_SHAPE,\n",
    "                       )"
   ]
  },
  {
   "cell_type": "markdown",
   "id": "623a07f2-a987-48ad-b59e-04f1aa2b7ea8",
   "metadata": {},
   "source": [
    "### Plot a frames series from first batch"
   ]
  },
  {
   "cell_type": "code",
   "execution_count": 1,
   "id": "e03a6638-9e15-4770-b57d-5569860bea5d",
   "metadata": {},
   "outputs": [
    {
     "ename": "NameError",
     "evalue": "name 'train_gen' is not defined",
     "output_type": "error",
     "traceback": [
      "\u001b[0;31m---------------------------------------------------------------------------\u001b[0m",
      "\u001b[0;31mNameError\u001b[0m                                 Traceback (most recent call last)",
      "Input \u001b[0;32mIn [1]\u001b[0m, in \u001b[0;36m<cell line: 2>\u001b[0;34m()\u001b[0m\n\u001b[1;32m      1\u001b[0m \u001b[38;5;66;03m#get first batch from train generator\u001b[39;00m\n\u001b[0;32m----> 2\u001b[0m batch_X, batch_y \u001b[38;5;241m=\u001b[39m \u001b[43mtrain_gen\u001b[49m\u001b[38;5;241m.\u001b[39m\u001b[38;5;21m__getitem__\u001b[39m(\u001b[38;5;241m101\u001b[39m)\n\u001b[1;32m      3\u001b[0m \u001b[38;5;28mprint\u001b[39m(\u001b[38;5;124m\"\u001b[39m\u001b[38;5;124mbatch_X.shape:\u001b[39m\u001b[38;5;124m\"\u001b[39m, batch_X\u001b[38;5;241m.\u001b[39mshape, \u001b[38;5;124m\"\u001b[39m\u001b[38;5;124mbatch_y.shape:\u001b[39m\u001b[38;5;124m\"\u001b[39m, batch_y\u001b[38;5;241m.\u001b[39mshape)\n\u001b[1;32m      5\u001b[0m b \u001b[38;5;241m=\u001b[39m \u001b[38;5;241m3\u001b[39m\n",
      "\u001b[0;31mNameError\u001b[0m: name 'train_gen' is not defined"
     ]
    }
   ],
   "source": [
    "#get first batch from train generator\n",
    "batch_X, batch_y = train_gen.__getitem__(101)\n",
    "print(\"batch_X.shape:\", batch_X.shape, \"batch_y.shape:\", batch_y.shape)\n",
    "\n",
    "b = 3\n",
    "frames = batch_X[b]\n",
    "title = np.expand_dims(batch_y[b],axis=0)\n",
    "title = le.inverse_transform(title)[0]\n",
    "title\n",
    "\n",
    "show_frames_series(frames, title, figsize=(10,10))"
   ]
  },
  {
   "cell_type": "code",
   "execution_count": null,
   "id": "f553d7f0-04b8-4148-95cf-1dccab655e09",
   "metadata": {},
   "outputs": [],
   "source": [
    "# problema: nel batch, in ciascuna delle 32 serie, le 20 immagini sono uguali. Controllare.\n",
    "\n",
    "first_image_batch_0 = batch_X[0][0]\n",
    "first_image_batch_31 = batch_X[1][0]\n",
    "#print(first_serie.shape, last_serie.shape)"
   ]
  },
  {
   "cell_type": "code",
   "execution_count": null,
   "id": "ad31e101-46c9-411a-b00f-df5b4769385d",
   "metadata": {},
   "outputs": [],
   "source": [
    "plt.imshow(first_image_batch_0)"
   ]
  },
  {
   "cell_type": "code",
   "execution_count": null,
   "id": "c143873b-dcb9-4110-afe8-55906316cd9e",
   "metadata": {},
   "outputs": [],
   "source": [
    "plt.imshow(first_image_batch_31)"
   ]
  },
  {
   "cell_type": "code",
   "execution_count": null,
   "id": "83cc8b1f-9b80-4a79-a76d-21f047bfab27",
   "metadata": {},
   "outputs": [],
   "source": [
    "(first_serie[0] == last_serie[0]).sum()"
   ]
  },
  {
   "cell_type": "code",
   "execution_count": null,
   "id": "a81ae946-1c3b-4474-be86-294370695d9a",
   "metadata": {},
   "outputs": [],
   "source": [
    "(first_serie[0] != last_serie[0]).sum()"
   ]
  },
  {
   "cell_type": "code",
   "execution_count": null,
   "id": "25132e41-70d9-4452-899a-f70d235ebf26",
   "metadata": {},
   "outputs": [],
   "source": [
    "b = 2\n",
    "frames_seq = batch_X[b]\n",
    "title = np.expand_dims(np.array(batch_y[b]), axis=0)\n",
    "title = le.inverse_transform(title)[0]\n",
    "\n",
    "frames_seq.shape[0]\n",
    "#show_frames_series(frames_series=frames_seq, title=title)"
   ]
  },
  {
   "cell_type": "code",
   "execution_count": null,
   "id": "b8d9b4a3-121b-4d06-a68d-57a20c7bfb36",
   "metadata": {},
   "outputs": [],
   "source": [
    "batch_X[b][0].shape"
   ]
  },
  {
   "cell_type": "code",
   "execution_count": null,
   "id": "4c16446c-93ad-4655-a235-5f2aed4783a7",
   "metadata": {},
   "outputs": [],
   "source": [
    "pd.Series(train_gen.classes_).value_counts()"
   ]
  },
  {
   "cell_type": "code",
   "execution_count": null,
   "id": "b15780f5-e722-4a84-9791-4ac533c8b21a",
   "metadata": {},
   "outputs": [],
   "source": [
    "pd.Series(val_gen.classes_).value_counts()"
   ]
  },
  {
   "cell_type": "code",
   "execution_count": 76,
   "id": "9af9061d-dc4d-4047-b46d-e4b84f150f4d",
   "metadata": {},
   "outputs": [
    {
     "data": {
      "text/html": [
       "<div>\n",
       "<style scoped>\n",
       "    .dataframe tbody tr th:only-of-type {\n",
       "        vertical-align: middle;\n",
       "    }\n",
       "\n",
       "    .dataframe tbody tr th {\n",
       "        vertical-align: top;\n",
       "    }\n",
       "\n",
       "    .dataframe thead th {\n",
       "        text-align: right;\n",
       "    }\n",
       "</style>\n",
       "<table border=\"1\" class=\"dataframe\">\n",
       "  <thead>\n",
       "    <tr style=\"text-align: right;\">\n",
       "      <th></th>\n",
       "      <th>micro_labels</th>\n",
       "      <th>macro_labels</th>\n",
       "      <th>ar_labels</th>\n",
       "      <th>frame_name</th>\n",
       "      <th>cam</th>\n",
       "      <th>actor_seq</th>\n",
       "    </tr>\n",
       "  </thead>\n",
       "  <tbody>\n",
       "    <tr>\n",
       "      <th>206</th>\n",
       "      <td>sit_up_from_lying</td>\n",
       "      <td>adl</td>\n",
       "      <td>on_air</td>\n",
       "      <td>actor_1_bed_cam_1_0206</td>\n",
       "      <td>1</td>\n",
       "      <td>1_bed</td>\n",
       "    </tr>\n",
       "    <tr>\n",
       "      <th>207</th>\n",
       "      <td>sit_up_from_lying</td>\n",
       "      <td>adl</td>\n",
       "      <td>on_air</td>\n",
       "      <td>actor_1_bed_cam_1_0207</td>\n",
       "      <td>1</td>\n",
       "      <td>1_bed</td>\n",
       "    </tr>\n",
       "    <tr>\n",
       "      <th>208</th>\n",
       "      <td>sit_up_from_lying</td>\n",
       "      <td>adl</td>\n",
       "      <td>on_air</td>\n",
       "      <td>actor_1_bed_cam_1_0208</td>\n",
       "      <td>1</td>\n",
       "      <td>1_bed</td>\n",
       "    </tr>\n",
       "    <tr>\n",
       "      <th>209</th>\n",
       "      <td>sit_up_from_lying</td>\n",
       "      <td>adl</td>\n",
       "      <td>on_air</td>\n",
       "      <td>actor_1_bed_cam_1_0209</td>\n",
       "      <td>1</td>\n",
       "      <td>1_bed</td>\n",
       "    </tr>\n",
       "    <tr>\n",
       "      <th>210</th>\n",
       "      <td>sit_up_from_lying</td>\n",
       "      <td>adl</td>\n",
       "      <td>on_air</td>\n",
       "      <td>actor_1_bed_cam_1_0210</td>\n",
       "      <td>1</td>\n",
       "      <td>1_bed</td>\n",
       "    </tr>\n",
       "    <tr>\n",
       "      <th>...</th>\n",
       "      <td>...</td>\n",
       "      <td>...</td>\n",
       "      <td>...</td>\n",
       "      <td>...</td>\n",
       "      <td>...</td>\n",
       "      <td>...</td>\n",
       "    </tr>\n",
       "    <tr>\n",
       "      <th>1179952</th>\n",
       "      <td>lie_down_on_the_floor</td>\n",
       "      <td>lying_down</td>\n",
       "      <td>on_air</td>\n",
       "      <td>actor_4_chair_full_ph_cam_7_2272</td>\n",
       "      <td>7</td>\n",
       "      <td>4_chair_full_ph</td>\n",
       "    </tr>\n",
       "    <tr>\n",
       "      <th>1179953</th>\n",
       "      <td>lie_down_on_the_floor</td>\n",
       "      <td>lying_down</td>\n",
       "      <td>on_air</td>\n",
       "      <td>actor_4_chair_full_ph_cam_7_2273</td>\n",
       "      <td>7</td>\n",
       "      <td>4_chair_full_ph</td>\n",
       "    </tr>\n",
       "    <tr>\n",
       "      <th>1179954</th>\n",
       "      <td>lie_down_on_the_floor</td>\n",
       "      <td>lying_down</td>\n",
       "      <td>on_air</td>\n",
       "      <td>actor_4_chair_full_ph_cam_7_2274</td>\n",
       "      <td>7</td>\n",
       "      <td>4_chair_full_ph</td>\n",
       "    </tr>\n",
       "    <tr>\n",
       "      <th>1179955</th>\n",
       "      <td>lie_down_on_the_floor</td>\n",
       "      <td>lying_down</td>\n",
       "      <td>on_air</td>\n",
       "      <td>actor_4_chair_full_ph_cam_7_2275</td>\n",
       "      <td>7</td>\n",
       "      <td>4_chair_full_ph</td>\n",
       "    </tr>\n",
       "    <tr>\n",
       "      <th>1179956</th>\n",
       "      <td>lie_down_on_the_floor</td>\n",
       "      <td>lying_down</td>\n",
       "      <td>on_air</td>\n",
       "      <td>actor_4_chair_full_ph_cam_7_2276</td>\n",
       "      <td>7</td>\n",
       "      <td>4_chair_full_ph</td>\n",
       "    </tr>\n",
       "  </tbody>\n",
       "</table>\n",
       "<p>83874 rows × 6 columns</p>\n",
       "</div>"
      ],
      "text/plain": [
       "                  micro_labels macro_labels ar_labels  \\\n",
       "206          sit_up_from_lying          adl    on_air   \n",
       "207          sit_up_from_lying          adl    on_air   \n",
       "208          sit_up_from_lying          adl    on_air   \n",
       "209          sit_up_from_lying          adl    on_air   \n",
       "210          sit_up_from_lying          adl    on_air   \n",
       "...                        ...          ...       ...   \n",
       "1179952  lie_down_on_the_floor   lying_down    on_air   \n",
       "1179953  lie_down_on_the_floor   lying_down    on_air   \n",
       "1179954  lie_down_on_the_floor   lying_down    on_air   \n",
       "1179955  lie_down_on_the_floor   lying_down    on_air   \n",
       "1179956  lie_down_on_the_floor   lying_down    on_air   \n",
       "\n",
       "                               frame_name  cam        actor_seq  \n",
       "206                actor_1_bed_cam_1_0206    1            1_bed  \n",
       "207                actor_1_bed_cam_1_0207    1            1_bed  \n",
       "208                actor_1_bed_cam_1_0208    1            1_bed  \n",
       "209                actor_1_bed_cam_1_0209    1            1_bed  \n",
       "210                actor_1_bed_cam_1_0210    1            1_bed  \n",
       "...                                   ...  ...              ...  \n",
       "1179952  actor_4_chair_full_ph_cam_7_2272    7  4_chair_full_ph  \n",
       "1179953  actor_4_chair_full_ph_cam_7_2273    7  4_chair_full_ph  \n",
       "1179954  actor_4_chair_full_ph_cam_7_2274    7  4_chair_full_ph  \n",
       "1179955  actor_4_chair_full_ph_cam_7_2275    7  4_chair_full_ph  \n",
       "1179956  actor_4_chair_full_ph_cam_7_2276    7  4_chair_full_ph  \n",
       "\n",
       "[83874 rows x 6 columns]"
      ]
     },
     "execution_count": 76,
     "metadata": {},
     "output_type": "execute_result"
    }
   ],
   "source": [
    "train_gen.df"
   ]
  },
  {
   "cell_type": "code",
   "execution_count": null,
   "id": "94269068-7e8e-418c-8829-436860d92b5d",
   "metadata": {},
   "outputs": [],
   "source": [
    "val_gen.df"
   ]
  },
  {
   "cell_type": "markdown",
   "id": "feb9097b-1722-4141-bc45-3bb049f8cbf9",
   "metadata": {},
   "source": [
    "### Metrics"
   ]
  },
  {
   "cell_type": "code",
   "execution_count": 77,
   "id": "6387134d-7f3c-4763-ac13-d6ec0db4458f",
   "metadata": {},
   "outputs": [
    {
     "name": "stderr",
     "output_type": "stream",
     "text": [
      "2022-08-22 12:43:13.197121: I tensorflow/core/platform/cpu_feature_guard.cc:142] This TensorFlow binary is optimized with oneAPI Deep Neural Network Library (oneDNN) to use the following CPU instructions in performance-critical operations:  SSE4.1 SSE4.2 AVX AVX2 AVX512F FMA\n",
      "To enable them in other operations, rebuild TensorFlow with the appropriate compiler flags.\n",
      "2022-08-22 12:43:13.605724: I tensorflow/core/common_runtime/gpu/gpu_device.cc:1510] Created device /job:localhost/replica:0/task:0/device:GPU:0 with 21353 MB memory:  -> device: 0, name: NVIDIA RTX A5000, pci bus id: 0000:65:00.0, compute capability: 8.6\n"
     ]
    }
   ],
   "source": [
    "    metrics=[\n",
    "        tf.keras.metrics.CategoricalAccuracy(),\n",
    "        tf.keras.metrics.Recall(class_id=0, name=\"adl\"),\n",
    "        tf.keras.metrics.Recall(class_id=1, name=\"fall\"),\n",
    "        tf.keras.metrics.Recall(class_id=2, name=\"lying_down\"),\n",
    "    ]"
   ]
  },
  {
   "cell_type": "markdown",
   "id": "0a621150-3a46-4c68-998a-b856cfe8239e",
   "metadata": {},
   "source": [
    "## Define 3D CNN Model"
   ]
  },
  {
   "cell_type": "code",
   "execution_count": 78,
   "id": "44279024-0c94-40c7-abcd-a5350dd96b8c",
   "metadata": {},
   "outputs": [
    {
     "name": "stdout",
     "output_type": "stream",
     "text": [
      "Model: \"sequential\"\n",
      "_________________________________________________________________\n",
      "Layer (type)                 Output Shape              Param #   \n",
      "=================================================================\n",
      "rescaling (Rescaling)        (None, 20, 112, 112, 3)   0         \n",
      "_________________________________________________________________\n",
      "conv3d (Conv3D)              (None, 20, 112, 112, 64)  5248      \n",
      "_________________________________________________________________\n",
      "max_pooling3d (MaxPooling3D) (None, 20, 56, 56, 64)    0         \n",
      "_________________________________________________________________\n",
      "conv3d_1 (Conv3D)            (None, 20, 56, 56, 128)   221312    \n",
      "_________________________________________________________________\n",
      "max_pooling3d_1 (MaxPooling3 (None, 10, 28, 28, 128)   0         \n",
      "_________________________________________________________________\n",
      "conv3d_2 (Conv3D)            (None, 10, 28, 28, 256)   884992    \n",
      "_________________________________________________________________\n",
      "conv3d_3 (Conv3D)            (None, 10, 28, 28, 256)   524544    \n",
      "_________________________________________________________________\n",
      "max_pooling3d_2 (MaxPooling3 (None, 5, 14, 14, 256)    0         \n",
      "_________________________________________________________________\n",
      "conv3d_4 (Conv3D)            (None, 5, 14, 14, 512)    3539456   \n",
      "_________________________________________________________________\n",
      "conv3d_5 (Conv3D)            (None, 5, 14, 14, 512)    2097664   \n",
      "_________________________________________________________________\n",
      "max_pooling3d_3 (MaxPooling3 (None, 3, 7, 7, 512)      0         \n",
      "_________________________________________________________________\n",
      "conv3d_6 (Conv3D)            (None, 3, 7, 7, 512)      7078400   \n",
      "_________________________________________________________________\n",
      "conv3d_7 (Conv3D)            (None, 3, 7, 7, 512)      2097664   \n",
      "_________________________________________________________________\n",
      "max_pooling3d_4 (MaxPooling3 (None, 2, 4, 4, 512)      0         \n",
      "_________________________________________________________________\n",
      "flatten (Flatten)            (None, 16384)             0         \n",
      "_________________________________________________________________\n",
      "dense (Dense)                (None, 4096)              67112960  \n",
      "_________________________________________________________________\n",
      "dense_1 (Dense)              (None, 4096)              16781312  \n",
      "_________________________________________________________________\n",
      "dense_2 (Dense)              (None, 3)                 12291     \n",
      "=================================================================\n",
      "Total params: 100,355,843\n",
      "Trainable params: 100,355,843\n",
      "Non-trainable params: 0\n",
      "_________________________________________________________________\n"
     ]
    }
   ],
   "source": [
    "model = Sequential()\n",
    "model.add(layers.Input(shape=(SEQ_LEN,) + INPUT_SHAPE))\n",
    "model.add(layers.Rescaling(scale=1./255))\n",
    "model.add(layers.Conv3D(64,(3,3,3),activation='relu', padding='same'))\n",
    "model.add(layers.MaxPooling3D((1,2,2), strides=(1,2,2), padding='same'))\n",
    "model.add(layers.Conv3D(128,(3,3,3),activation='relu', padding='same'))\n",
    "model.add(layers.MaxPooling3D((2,2,2), padding='same'))\n",
    "model.add(layers.Conv3D(256,(3,3,3),activation='relu', padding='same'))\n",
    "model.add(layers.Conv3D(256,(2,2,2),activation='relu', padding='same'))\n",
    "model.add(layers.MaxPooling3D((2,2,2), padding='same'))\n",
    "model.add(layers.Conv3D(512,(3,3,3),activation='relu', padding='same'))\n",
    "model.add(layers.Conv3D(512,(2,2,2),activation='relu', padding='same'))\n",
    "model.add(layers.MaxPooling3D((2,2,2), padding='same'))\n",
    "model.add(layers.Conv3D(512,(3,3,3),activation='relu', padding='same'))\n",
    "model.add(layers.Conv3D(512,(2,2,2),activation='relu', padding='same'))\n",
    "model.add(layers.MaxPooling3D((2,2,2), padding='same'))\n",
    "model.add(layers.Flatten())\n",
    "model.add(layers.Dense(4096,'relu'))\n",
    "model.add(layers.Dense(4096,'relu'))\n",
    "model.add(layers.Dense(3,'softmax'))\n",
    "model.summary()"
   ]
  },
  {
   "cell_type": "markdown",
   "id": "824b4946-7a1a-4a5d-b74e-4436b932d09c",
   "metadata": {},
   "source": [
    "### Compile Model"
   ]
  },
  {
   "cell_type": "code",
   "execution_count": 79,
   "id": "9a2997d2-c97a-47a4-9da3-4cb8ec6eb373",
   "metadata": {},
   "outputs": [],
   "source": [
    "model.compile(optimizer='adam', loss='categorical_crossentropy', metrics=metrics)"
   ]
  },
  {
   "cell_type": "markdown",
   "id": "4e0a98c0-590e-4045-80a7-8b35529208ad",
   "metadata": {},
   "source": [
    "### Fit Model"
   ]
  },
  {
   "cell_type": "code",
   "execution_count": null,
   "id": "16113ae9-9c1f-4e8c-bf8c-889afcafcf32",
   "metadata": {},
   "outputs": [
    {
     "name": "stderr",
     "output_type": "stream",
     "text": [
      "2022-08-22 12:43:39.129947: I tensorflow/compiler/mlir/mlir_graph_optimization_pass.cc:185] None of the MLIR Optimization Passes are enabled (registered 2)\n"
     ]
    },
    {
     "name": "stdout",
     "output_type": "stream",
     "text": [
      "Epoch 1/20\n"
     ]
    },
    {
     "name": "stderr",
     "output_type": "stream",
     "text": [
      "2022-08-22 12:43:40.759279: I tensorflow/stream_executor/cuda/cuda_dnn.cc:369] Loaded cuDNN version 8201\n",
      "2022-08-22 12:43:45.550699: I tensorflow/stream_executor/cuda/cuda_blas.cc:1760] TensorFloat-32 will be used for the matrix multiplication. This will only be logged once.\n"
     ]
    },
    {
     "name": "stdout",
     "output_type": "stream",
     "text": [
      "131/131 [==============================] - 68s 388ms/step - loss: 1.2410 - categorical_accuracy: 0.3106 - adl: 0.0093 - fall: 0.0000e+00 - lying_down: 0.0000e+00\n",
      "Epoch 2/20\n",
      "131/131 [==============================] - 52s 394ms/step - loss: 1.0999 - categorical_accuracy: 0.3211 - adl: 0.0000e+00 - fall: 0.0000e+00 - lying_down: 0.0000e+00\n",
      "Epoch 3/20\n",
      "131/131 [==============================] - 52s 392ms/step - loss: 1.0994 - categorical_accuracy: 0.3049 - adl: 0.0000e+00 - fall: 0.0000e+00 - lying_down: 0.0000e+00\n",
      "Epoch 4/20\n",
      "131/131 [==============================] - 52s 390ms/step - loss: 1.0994 - categorical_accuracy: 0.2994 - adl: 0.0000e+00 - fall: 0.0000e+00 - lying_down: 0.0000e+00\n",
      "Epoch 5/20\n",
      "131/131 [==============================] - 52s 391ms/step - loss: 1.0989 - categorical_accuracy: 0.3099 - adl: 0.0000e+00 - fall: 0.0000e+00 - lying_down: 0.0000e+00\n",
      "Epoch 6/20\n",
      "131/131 [==============================] - 52s 392ms/step - loss: 1.0993 - categorical_accuracy: 0.2963 - adl: 0.0000e+00 - fall: 0.0000e+00 - lying_down: 0.0000e+00\n",
      "Epoch 7/20\n",
      "131/131 [==============================] - 52s 392ms/step - loss: 1.0990 - categorical_accuracy: 0.3161 - adl: 0.0000e+00 - fall: 0.0000e+00 - lying_down: 0.0000e+00\n",
      "Epoch 8/20\n",
      "131/131 [==============================] - 52s 392ms/step - loss: 1.0988 - categorical_accuracy: 0.3261 - adl: 0.0000e+00 - fall: 0.0000e+00 - lying_down: 0.0000e+00\n",
      "Epoch 9/20\n",
      "131/131 [==============================] - 52s 393ms/step - loss: 1.0988 - categorical_accuracy: 0.3359 - adl: 0.0000e+00 - fall: 0.0000e+00 - lying_down: 0.0000e+00\n",
      "Epoch 10/20\n",
      "131/131 [==============================] - 52s 391ms/step - loss: 1.0990 - categorical_accuracy: 0.2958 - adl: 0.0000e+00 - fall: 0.0000e+00 - lying_down: 0.0000e+00\n",
      "Epoch 11/20\n",
      "131/131 [==============================] - 52s 393ms/step - loss: 1.0990 - categorical_accuracy: 0.3359 - adl: 0.0000e+00 - fall: 0.0000e+00 - lying_down: 0.0000e+00\n",
      "Epoch 12/20\n",
      "131/131 [==============================] - 52s 392ms/step - loss: 1.0989 - categorical_accuracy: 0.3359 - adl: 0.0000e+00 - fall: 0.0000e+00 - lying_down: 0.0000e+00\n",
      "Epoch 13/20\n",
      "  5/131 [>.............................] - ETA: 50s - loss: 1.0984 - categorical_accuracy: 0.3938 - adl: 0.0000e+00 - fall: 0.0000e+00 - lying_down: 0.0000e+00"
     ]
    }
   ],
   "source": [
    "history = model.fit(train_gen, epochs=20)"
   ]
  },
  {
   "cell_type": "code",
   "execution_count": null,
   "id": "3d6d086d-ab57-48c1-9078-ce1a30df8df6",
   "metadata": {},
   "outputs": [],
   "source": [
    "print(\n",
    "    classification_report(\n",
    "        y_true=train_datagen.classes,\n",
    "        y_pred=y_preds,\n",
    "        target_names=list(val_datagen.class_indices.keys()),\n",
    "    )\n",
    ")"
   ]
  }
 ],
 "metadata": {
  "kernelspec": {
   "display_name": "Python 3 (ipykernel)",
   "language": "python",
   "name": "python3"
  },
  "language_info": {
   "codemirror_mode": {
    "name": "ipython",
    "version": 3
   },
   "file_extension": ".py",
   "mimetype": "text/x-python",
   "name": "python",
   "nbconvert_exporter": "python",
   "pygments_lexer": "ipython3",
   "version": "3.9.12"
  }
 },
 "nbformat": 4,
 "nbformat_minor": 5
}
