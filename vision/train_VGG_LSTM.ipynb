{
 "cells": [
  {
   "cell_type": "markdown",
   "metadata": {},
   "source": [
    "# VGG + LSTM Fall Detection on Videos"
   ]
  },
  {
   "cell_type": "code",
   "execution_count": 36,
   "metadata": {},
   "outputs": [
    {
     "name": "stdout",
     "output_type": "stream",
     "text": [
      "The autoreload extension is already loaded. To reload it, use:\n",
      "  %reload_ext autoreload\n",
      "The lab_black extension is already loaded. To reload it, use:\n",
      "  %reload_ext lab_black\n"
     ]
    }
   ],
   "source": [
    "%load_ext autoreload\n",
    "%autoreload 2\n",
    "%load_ext lab_black"
   ]
  },
  {
   "cell_type": "code",
   "execution_count": 37,
   "metadata": {},
   "outputs": [
    {
     "name": "stdout",
     "output_type": "stream",
     "text": [
      "/home/jovyan/work/MED_Fall\n"
     ]
    }
   ],
   "source": [
    "%cd '/home/jovyan/work/MED_Fall'"
   ]
  },
  {
   "cell_type": "code",
   "execution_count": 38,
   "metadata": {},
   "outputs": [],
   "source": [
    "projectdir = \"/home/jovyan/work/MED_Fall\""
   ]
  },
  {
   "cell_type": "code",
   "execution_count": 39,
   "metadata": {},
   "outputs": [],
   "source": [
    "import absl.logging\n",
    "\n",
    "absl.logging.set_verbosity(absl.logging.ERROR)"
   ]
  },
  {
   "cell_type": "markdown",
   "metadata": {},
   "source": [
    "## Imports"
   ]
  },
  {
   "cell_type": "code",
   "execution_count": 40,
   "metadata": {},
   "outputs": [],
   "source": [
    "# Evaluating CNN+RNN models on the dataset\n",
    "\n",
    "# Imports\n",
    "import os\n",
    "import random\n",
    "from collections import Counter\n",
    "from datetime import datetime\n",
    "\n",
    "import numpy as np\n",
    "import tensorflow as tf\n",
    "import wandb\n",
    "from sklearn.metrics import classification_report\n",
    "from tensorflow.keras.callbacks import ModelCheckpoint, EarlyStopping, ReduceLROnPlateau\n",
    "from tensorflow.keras.layers import LSTM, Dense, Dropout\n",
    "from tensorflow.keras.models import Sequential\n",
    "from wandb.keras import WandbCallback\n",
    "\n",
    "from utils.utility_functions import listdir_nohidden_sorted, safe_mkdir\n",
    "from vision.vision_utils.cnn_rnn_utils import load_and_split\n",
    "from vision.vision_utils.dataset import TimeSeriesGenerator"
   ]
  },
  {
   "cell_type": "code",
   "execution_count": 41,
   "metadata": {},
   "outputs": [
    {
     "name": "stdout",
     "output_type": "stream",
     "text": [
      "(27720, 512)\n"
     ]
    }
   ],
   "source": [
    "with np.load(\n",
    "    f\"{projectdir}/vision/vision_dataset/vgg_features/Actor_1_Bed_PH.npz\"\n",
    ") as features:\n",
    "    print(features[\"arr_0\"].shape)"
   ]
  },
  {
   "cell_type": "code",
   "execution_count": 42,
   "metadata": {},
   "outputs": [
    {
     "data": {
      "text/plain": [
       "True"
      ]
     },
     "execution_count": 42,
     "metadata": {},
     "output_type": "execute_result"
    }
   ],
   "source": [
    "os.path.isfile(f\"{projectdir}/vision/models/vgg_feature_extractor.h5\")"
   ]
  },
  {
   "cell_type": "code",
   "execution_count": 43,
   "metadata": {},
   "outputs": [
    {
     "name": "stdout",
     "output_type": "stream",
     "text": [
      "WARNING:tensorflow:No training configuration found in the save file, so the model was *not* compiled. Compile it manually.\n"
     ]
    }
   ],
   "source": [
    "model = tf.keras.models.load_model(\n",
    "    f\"{projectdir}/vision/models/vgg_feature_extractor.h5\"\n",
    ")"
   ]
  },
  {
   "cell_type": "code",
   "execution_count": null,
   "metadata": {},
   "outputs": [],
   "source": []
  },
  {
   "cell_type": "code",
   "execution_count": 44,
   "metadata": {},
   "outputs": [],
   "source": [
    "# os.environ[\"TF_CUDNN_DETERMINISTIC\"] = \"1\"\n",
    "# random.seed(hash(\"setting random seeds\") % 2**32 - 1)\n",
    "# np.random.seed(hash(\"improves reproducibility\") % 2**32 - 1)\n",
    "# tf.random.set_seed(hash(\"by removing stochasticity\") % 2**32 - 1)"
   ]
  },
  {
   "cell_type": "code",
   "execution_count": 45,
   "metadata": {},
   "outputs": [],
   "source": [
    "class dotdict(dict):\n",
    "    \"\"\"dot.notation access to dictionary attributes\"\"\"\n",
    "\n",
    "    __getattr__ = dict.get\n",
    "    __setattr__ = dict.__setitem__\n",
    "    __delattr__ = dict.__delitem__\n",
    "\n",
    "\n",
    "opt = dotdict(\n",
    "    {\n",
    "        \"lstm1_units\": 64,\n",
    "        \"lstm2_units\": 32,\n",
    "        \"dense_units\": 32,\n",
    "        \"dropout\": 0.4,\n",
    "        \"epochs\": 1000,\n",
    "        \"train_actors\": [4],\n",
    "        \"val_actors\": [1],\n",
    "        \"train_cams\": [1, 2, 3, 4, 5, 6, 7],\n",
    "        \"val_cams\": [1],\n",
    "        \"seq_len\": 40,\n",
    "        \"split_ratio\": None,\n",
    "        \"drop_offair\": True,\n",
    "        \"undersample\": False,\n",
    "        \"batch_size\": 40,\n",
    "        \"stride\": 1,\n",
    "        \"learning_rate\": 1e-4,\n",
    "        \"micro_classes\": False,\n",
    "        \"num_features\": 512,\n",
    "    }\n",
    ")"
   ]
  },
  {
   "cell_type": "markdown",
   "metadata": {},
   "source": [
    "## Load VGG16 pre-trained features"
   ]
  },
  {
   "cell_type": "code",
   "execution_count": 46,
   "metadata": {},
   "outputs": [
    {
     "name": "stdout",
     "output_type": "stream",
     "text": [
      "[STATUS] Load Train Set\n"
     ]
    },
    {
     "data": {
      "application/vnd.jupyter.widget-view+json": {
       "model_id": "7ea8aadde2ec40c69cb04e9e2d1b562b",
       "version_major": 2,
       "version_minor": 0
      },
      "text/plain": [
       "  0%|          | 0/6 [00:00<?, ?it/s]"
      ]
     },
     "metadata": {},
     "output_type": "display_data"
    },
    {
     "data": {
      "application/vnd.jupyter.widget-view+json": {
       "model_id": "f5be2addeb7944728c24782e699e5517",
       "version_major": 2,
       "version_minor": 0
      },
      "text/plain": [
       "Loading csv datasets:   0%|          | 0/6 [00:00<?, ?it/s]"
      ]
     },
     "metadata": {},
     "output_type": "display_data"
    },
    {
     "name": "stdout",
     "output_type": "stream",
     "text": [
      "[STATUS] Load Val Set\n"
     ]
    },
    {
     "data": {
      "application/vnd.jupyter.widget-view+json": {
       "model_id": "adef71e4c31d4cbc8afb6bb92109f64d",
       "version_major": 2,
       "version_minor": 0
      },
      "text/plain": [
       "  0%|          | 0/16 [00:00<?, ?it/s]"
      ]
     },
     "metadata": {},
     "output_type": "display_data"
    },
    {
     "data": {
      "application/vnd.jupyter.widget-view+json": {
       "model_id": "64a46e7afb67432d94ed5b2024f6f1d4",
       "version_major": 2,
       "version_minor": 0
      },
      "text/plain": [
       "Loading csv datasets:   0%|          | 0/16 [00:00<?, ?it/s]"
      ]
     },
     "metadata": {},
     "output_type": "display_data"
    },
    {
     "name": "stdout",
     "output_type": "stream",
     "text": [
      "\n",
      "X_train shape: (39368, 512), len y_train: 39368, X_val shape: (18860, 512), len y_val: 18860\n",
      "\n"
     ]
    }
   ],
   "source": [
    "X_train, y_train, X_val, y_val, cams_train, cams_val = load_and_split(\n",
    "    features_folder=f\"{projectdir}/vision/vision_dataset/vgg_features\",\n",
    "    dataset_folder=f\"{projectdir}/vision/vision_dataset/ground_truth_new\",\n",
    "    train_actors=opt.train_actors,\n",
    "    val_actors=opt.val_actors,\n",
    "    train_cams=opt.train_cams,\n",
    "    val_cams=opt.val_cams,\n",
    "    split_ratio=opt.split_ratio,\n",
    "    drop_offair=opt.drop_offair,\n",
    "    undersample=opt.undersample,\n",
    "    micro_classes=opt.micro_classes,\n",
    ")\n",
    "print(\n",
    "    f\"\\nX_train shape: {X_train.shape}, len y_train: {len(y_train)}, X_val shape: {X_val.shape}, len y_val: {len(y_val)}\\n\"\n",
    ")"
   ]
  },
  {
   "cell_type": "code",
   "execution_count": 47,
   "metadata": {},
   "outputs": [
    {
     "name": "stderr",
     "output_type": "stream",
     "text": [
      "100%|██████████| 984/984 [00:00<00:00, 76039.49it/s]\n",
      "100%|██████████| 471/471 [00:00<00:00, 76292.47it/s]"
     ]
    },
    {
     "name": "stdout",
     "output_type": "stream",
     "text": [
      "\n",
      "X_train_series shape: (984, 40, 512), len y_train_series: 984, X_val_series shape: (471, 40, 512), len y_val_series: 471\n",
      "\n"
     ]
    },
    {
     "name": "stderr",
     "output_type": "stream",
     "text": [
      "\n"
     ]
    }
   ],
   "source": [
    "series_gen = TimeSeriesGenerator(opt)\n",
    "X_train_series, y_train_series, classes = series_gen.get_train_series(\n",
    "    X_train, y_train, cams_train\n",
    ")\n",
    "X_val_series, y_val_series = series_gen.get_val_series(X_val, y_val, cams_val)\n",
    "print(\n",
    "    f\"\\nX_train_series shape: {X_train_series.shape}, len y_train_series: {len(y_train_series)}, X_val_series shape: {X_val_series.shape}, len y_val_series: {len(y_val_series)}\\n\"\n",
    ")"
   ]
  },
  {
   "cell_type": "code",
   "execution_count": 48,
   "metadata": {},
   "outputs": [
    {
     "data": {
      "text/plain": [
       "0    752\n",
       "1    203\n",
       "2     29\n",
       "dtype: int64"
      ]
     },
     "execution_count": 48,
     "metadata": {},
     "output_type": "execute_result"
    }
   ],
   "source": [
    "import pandas as pd\n",
    "\n",
    "pd.Series(y_train_series).value_counts()"
   ]
  },
  {
   "cell_type": "code",
   "execution_count": 49,
   "metadata": {},
   "outputs": [
    {
     "name": "stdout",
     "output_type": "stream",
     "text": [
      "Before resampling - y_train_series shape: Counter({0: 752, 1: 203, 2: 29})\n"
     ]
    }
   ],
   "source": [
    "print(f\"Before resampling - y_train_series shape: {Counter(y_train_series)}\")"
   ]
  },
  {
   "cell_type": "markdown",
   "metadata": {},
   "source": [
    "## Resample dataset for balancing classes\n"
   ]
  },
  {
   "cell_type": "markdown",
   "metadata": {},
   "source": [
    "from imblearn.under_sampling import RandomUnderSampler\n",
    "from imblearn.over_sampling import RandomOverSampler\n",
    "from imblearn.pipeline import Pipeline\n",
    "\n",
    "undersampling_strategy = \"not minority\"\n",
    "# oversampling_strategy = {0: 23890, 2: 6437, 1: 4000}\n",
    "under = RandomUnderSampler(random_state=2, sampling_strategy=undersampling_strategy)\n",
    "# over = RandomOverSampler(random_state=2, sampling_strategy=oversampling_strategy)\n",
    "steps = [(\"u\", under)]\n",
    "pipeline = Pipeline(steps=steps)\n",
    "# smt = SMOTETomek(random_state=2)"
   ]
  },
  {
   "cell_type": "markdown",
   "metadata": {},
   "source": [
    "print(f\"Original X_train_series shape: {X_train_series.shape}\")\n",
    "\n",
    "X_train_series = np.reshape(X_train_series, (-1, 20 * opt.num_features))\n",
    "print(f\"X_train_series reshaped: {X_train_series.shape}\")\n",
    "\n",
    "X_train_series, y_train_series = pipeline.fit_resample(X_train_series, y_train_series)\n",
    "\n",
    "X_train_series = np.reshape(X_train_series, (-1, 20, opt.num_features))\n",
    "\n",
    "print(f\"After resampling X_train_series shape: {X_train_series.shape}\")\n",
    "print(f\"After resampling - y_train_series count: {Counter(y_train_series)}\")"
   ]
  },
  {
   "cell_type": "markdown",
   "metadata": {},
   "source": [
    "### Init WANDB project"
   ]
  },
  {
   "cell_type": "code",
   "execution_count": 57,
   "metadata": {},
   "outputs": [
    {
     "data": {
      "text/html": [
       "Finishing last run (ID:kdwba5ep) before initializing another..."
      ],
      "text/plain": [
       "<IPython.core.display.HTML object>"
      ]
     },
     "metadata": {},
     "output_type": "display_data"
    },
    {
     "data": {
      "text/html": [
       "Waiting for W&B process to finish... <strong style=\"color:green\">(success).</strong>"
      ],
      "text/plain": [
       "<IPython.core.display.HTML object>"
      ]
     },
     "metadata": {},
     "output_type": "display_data"
    },
    {
     "data": {
      "application/vnd.jupyter.widget-view+json": {
       "model_id": "",
       "version_major": 2,
       "version_minor": 0
      },
      "text/plain": [
       "VBox(children=(Label(value='0.000 MB of 0.000 MB uploaded (0.000 MB deduped)\\r'), FloatProgress(value=1.0, max…"
      ]
     },
     "metadata": {},
     "output_type": "display_data"
    },
    {
     "name": "stderr",
     "output_type": "stream",
     "text": [
      "\u001b[34m\u001b[1mwandb\u001b[0m: \u001b[32m\u001b[41mERROR\u001b[0m Control-C detected -- Run data was not synced\n"
     ]
    },
    {
     "data": {
      "text/html": [
       "Successfully finished last run (ID:kdwba5ep). Initializing new run:<br/>"
      ],
      "text/plain": [
       "<IPython.core.display.HTML object>"
      ]
     },
     "metadata": {},
     "output_type": "display_data"
    },
    {
     "name": "stdout",
     "output_type": "stream",
     "text": [
      "Problem at: /tmp/ipykernel_191424/2258791502.py 2 <cell line: 2>\n"
     ]
    },
    {
     "ename": "KeyboardInterrupt",
     "evalue": "",
     "output_type": "error",
     "traceback": [
      "\u001b[0;31m---------------------------------------------------------------------------\u001b[0m",
      "\u001b[0;31mKeyboardInterrupt\u001b[0m                         Traceback (most recent call last)",
      "Input \u001b[0;32mIn [57]\u001b[0m, in \u001b[0;36m<cell line: 2>\u001b[0;34m()\u001b[0m\n\u001b[1;32m      1\u001b[0m \u001b[38;5;66;03m# WANDB project initialization\u001b[39;00m\n\u001b[0;32m----> 2\u001b[0m run \u001b[38;5;241m=\u001b[39m \u001b[43mwandb\u001b[49m\u001b[38;5;241;43m.\u001b[39;49m\u001b[43minit\u001b[49m\u001b[43m(\u001b[49m\n\u001b[1;32m      3\u001b[0m \u001b[43m    \u001b[49m\u001b[43mproject\u001b[49m\u001b[38;5;241;43m=\u001b[39;49m\u001b[38;5;124;43m\"\u001b[39;49m\u001b[38;5;124;43mFall detection CNN + RNN\u001b[39;49m\u001b[38;5;124;43m\"\u001b[39;49m\u001b[43m,\u001b[49m\n\u001b[1;32m      4\u001b[0m \u001b[43m    \u001b[49m\u001b[43mconfig\u001b[49m\u001b[38;5;241;43m=\u001b[39;49m\u001b[43m{\u001b[49m\n\u001b[1;32m      5\u001b[0m \u001b[43m        \u001b[49m\u001b[38;5;124;43m\"\u001b[39;49m\u001b[38;5;124;43mmodel\u001b[39;49m\u001b[38;5;124;43m\"\u001b[39;49m\u001b[43m:\u001b[49m\u001b[43m \u001b[49m\u001b[38;5;124;43m\"\u001b[39;49m\u001b[38;5;124;43mLSTM\u001b[39;49m\u001b[38;5;124;43m\"\u001b[39;49m\u001b[43m,\u001b[49m\n\u001b[1;32m      6\u001b[0m \u001b[43m        \u001b[49m\u001b[38;5;124;43m\"\u001b[39;49m\u001b[38;5;124;43mepochs\u001b[39;49m\u001b[38;5;124;43m\"\u001b[39;49m\u001b[43m:\u001b[49m\u001b[43m \u001b[49m\u001b[43mopt\u001b[49m\u001b[38;5;241;43m.\u001b[39;49m\u001b[43mepochs\u001b[49m\u001b[43m,\u001b[49m\n\u001b[1;32m      7\u001b[0m \u001b[43m        \u001b[49m\u001b[38;5;124;43m\"\u001b[39;49m\u001b[38;5;124;43mseq_len\u001b[39;49m\u001b[38;5;124;43m\"\u001b[39;49m\u001b[43m:\u001b[49m\u001b[43m \u001b[49m\u001b[43mopt\u001b[49m\u001b[38;5;241;43m.\u001b[39;49m\u001b[43mseq_len\u001b[49m\u001b[43m,\u001b[49m\n\u001b[1;32m      8\u001b[0m \u001b[43m        \u001b[49m\u001b[38;5;124;43m\"\u001b[39;49m\u001b[38;5;124;43mnum_features\u001b[39;49m\u001b[38;5;124;43m\"\u001b[39;49m\u001b[43m:\u001b[49m\u001b[43m \u001b[49m\u001b[43mopt\u001b[49m\u001b[38;5;241;43m.\u001b[39;49m\u001b[43mnum_features\u001b[49m\u001b[43m,\u001b[49m\n\u001b[1;32m      9\u001b[0m \u001b[43m        \u001b[49m\u001b[38;5;124;43m\"\u001b[39;49m\u001b[38;5;124;43mbatch_size\u001b[39;49m\u001b[38;5;124;43m\"\u001b[39;49m\u001b[43m:\u001b[49m\u001b[43m \u001b[49m\u001b[43mopt\u001b[49m\u001b[38;5;241;43m.\u001b[39;49m\u001b[43mbatch_size\u001b[49m\u001b[43m,\u001b[49m\n\u001b[1;32m     10\u001b[0m \u001b[43m        \u001b[49m\u001b[38;5;124;43m\"\u001b[39;49m\u001b[38;5;124;43mstride\u001b[39;49m\u001b[38;5;124;43m\"\u001b[39;49m\u001b[43m:\u001b[49m\u001b[43m \u001b[49m\u001b[43mopt\u001b[49m\u001b[38;5;241;43m.\u001b[39;49m\u001b[43mstride\u001b[49m\u001b[43m,\u001b[49m\n\u001b[1;32m     11\u001b[0m \u001b[43m        \u001b[49m\u001b[38;5;124;43m\"\u001b[39;49m\u001b[38;5;124;43mloss_function\u001b[39;49m\u001b[38;5;124;43m\"\u001b[39;49m\u001b[43m:\u001b[49m\u001b[43m \u001b[49m\u001b[38;5;124;43m\"\u001b[39;49m\u001b[38;5;124;43msparse_categorical_crossentropy\u001b[39;49m\u001b[38;5;124;43m\"\u001b[39;49m\u001b[43m,\u001b[49m\n\u001b[1;32m     12\u001b[0m \u001b[43m        \u001b[49m\u001b[38;5;124;43m\"\u001b[39;49m\u001b[38;5;124;43marchitecture\u001b[39;49m\u001b[38;5;124;43m\"\u001b[39;49m\u001b[43m:\u001b[49m\u001b[43m \u001b[49m\u001b[38;5;124;43m\"\u001b[39;49m\u001b[38;5;124;43mLSTM\u001b[39;49m\u001b[38;5;124;43m\"\u001b[39;49m\u001b[43m,\u001b[49m\n\u001b[1;32m     13\u001b[0m \u001b[43m        \u001b[49m\u001b[38;5;124;43m\"\u001b[39;49m\u001b[38;5;124;43mtrain_actors\u001b[39;49m\u001b[38;5;124;43m\"\u001b[39;49m\u001b[43m:\u001b[49m\u001b[43m \u001b[49m\u001b[43mopt\u001b[49m\u001b[38;5;241;43m.\u001b[39;49m\u001b[43mtrain_actors\u001b[49m\u001b[43m,\u001b[49m\n\u001b[1;32m     14\u001b[0m \u001b[43m        \u001b[49m\u001b[38;5;124;43m\"\u001b[39;49m\u001b[38;5;124;43mval_actors\u001b[39;49m\u001b[38;5;124;43m\"\u001b[39;49m\u001b[43m:\u001b[49m\u001b[43m \u001b[49m\u001b[43mopt\u001b[49m\u001b[38;5;241;43m.\u001b[39;49m\u001b[43mval_actors\u001b[49m\u001b[43m,\u001b[49m\n\u001b[1;32m     15\u001b[0m \u001b[43m        \u001b[49m\u001b[38;5;124;43m\"\u001b[39;49m\u001b[38;5;124;43mtrain_cams\u001b[39;49m\u001b[38;5;124;43m\"\u001b[39;49m\u001b[43m:\u001b[49m\u001b[43m \u001b[49m\u001b[43mopt\u001b[49m\u001b[38;5;241;43m.\u001b[39;49m\u001b[43mtrain_cams\u001b[49m\u001b[43m,\u001b[49m\n\u001b[1;32m     16\u001b[0m \u001b[43m        \u001b[49m\u001b[38;5;124;43m\"\u001b[39;49m\u001b[38;5;124;43mval_cams\u001b[39;49m\u001b[38;5;124;43m\"\u001b[39;49m\u001b[43m:\u001b[49m\u001b[43m \u001b[49m\u001b[43mopt\u001b[49m\u001b[38;5;241;43m.\u001b[39;49m\u001b[43mval_cams\u001b[49m\u001b[43m,\u001b[49m\n\u001b[1;32m     17\u001b[0m \u001b[43m        \u001b[49m\u001b[38;5;124;43m\"\u001b[39;49m\u001b[38;5;124;43mmicro_classes\u001b[39;49m\u001b[38;5;124;43m\"\u001b[39;49m\u001b[43m:\u001b[49m\u001b[43m \u001b[49m\u001b[43mopt\u001b[49m\u001b[38;5;241;43m.\u001b[39;49m\u001b[43mclasses\u001b[49m\u001b[43m,\u001b[49m\n\u001b[1;32m     18\u001b[0m \u001b[43m        \u001b[49m\u001b[38;5;124;43m\"\u001b[39;49m\u001b[38;5;124;43mdropout\u001b[39;49m\u001b[38;5;124;43m\"\u001b[39;49m\u001b[43m:\u001b[49m\u001b[43m \u001b[49m\u001b[43mopt\u001b[49m\u001b[38;5;241;43m.\u001b[39;49m\u001b[43mdropout\u001b[49m\u001b[43m,\u001b[49m\n\u001b[1;32m     19\u001b[0m \u001b[43m        \u001b[49m\u001b[38;5;124;43m\"\u001b[39;49m\u001b[38;5;124;43mlstm1_units\u001b[39;49m\u001b[38;5;124;43m\"\u001b[39;49m\u001b[43m:\u001b[49m\u001b[43m \u001b[49m\u001b[43mopt\u001b[49m\u001b[38;5;241;43m.\u001b[39;49m\u001b[43mlstm1_units\u001b[49m\u001b[43m,\u001b[49m\n\u001b[1;32m     20\u001b[0m \u001b[43m        \u001b[49m\u001b[38;5;124;43m\"\u001b[39;49m\u001b[38;5;124;43mlstm2_units\u001b[39;49m\u001b[38;5;124;43m\"\u001b[39;49m\u001b[43m:\u001b[49m\u001b[43m \u001b[49m\u001b[43mopt\u001b[49m\u001b[38;5;241;43m.\u001b[39;49m\u001b[43mlstm2_units\u001b[49m\u001b[43m,\u001b[49m\n\u001b[1;32m     21\u001b[0m \u001b[43m        \u001b[49m\u001b[38;5;124;43m\"\u001b[39;49m\u001b[38;5;124;43mdense_units\u001b[39;49m\u001b[38;5;124;43m\"\u001b[39;49m\u001b[43m:\u001b[49m\u001b[43m \u001b[49m\u001b[43mopt\u001b[49m\u001b[38;5;241;43m.\u001b[39;49m\u001b[43mdense_units\u001b[49m\u001b[43m,\u001b[49m\n\u001b[1;32m     22\u001b[0m \u001b[43m        \u001b[49m\u001b[38;5;124;43m\"\u001b[39;49m\u001b[38;5;124;43mlearning_rate\u001b[39;49m\u001b[38;5;124;43m\"\u001b[39;49m\u001b[43m:\u001b[49m\u001b[43m \u001b[49m\u001b[43mopt\u001b[49m\u001b[38;5;241;43m.\u001b[39;49m\u001b[43mlearning_rate\u001b[49m\u001b[43m,\u001b[49m\n\u001b[1;32m     23\u001b[0m \u001b[43m        \u001b[49m\u001b[38;5;124;43m\"\u001b[39;49m\u001b[38;5;124;43msplit_ratio\u001b[39;49m\u001b[38;5;124;43m\"\u001b[39;49m\u001b[43m:\u001b[49m\u001b[43m \u001b[49m\u001b[43mopt\u001b[49m\u001b[38;5;241;43m.\u001b[39;49m\u001b[43msplit_ratio\u001b[49m\u001b[43m,\u001b[49m\n\u001b[1;32m     24\u001b[0m \u001b[43m        \u001b[49m\u001b[38;5;124;43m\"\u001b[39;49m\u001b[38;5;124;43mdrop_offair\u001b[39;49m\u001b[38;5;124;43m\"\u001b[39;49m\u001b[43m:\u001b[49m\u001b[43m \u001b[49m\u001b[43mopt\u001b[49m\u001b[38;5;241;43m.\u001b[39;49m\u001b[43mdrop_offair\u001b[49m\u001b[43m,\u001b[49m\n\u001b[1;32m     25\u001b[0m \u001b[43m        \u001b[49m\u001b[38;5;124;43m\"\u001b[39;49m\u001b[38;5;124;43mundersample\u001b[39;49m\u001b[38;5;124;43m\"\u001b[39;49m\u001b[43m:\u001b[49m\u001b[43m \u001b[49m\u001b[43mopt\u001b[49m\u001b[38;5;241;43m.\u001b[39;49m\u001b[43mundersample\u001b[49m\u001b[43m,\u001b[49m\n\u001b[1;32m     26\u001b[0m \u001b[43m    \u001b[49m\u001b[43m}\u001b[49m\u001b[43m,\u001b[49m\n\u001b[1;32m     27\u001b[0m \u001b[43m)\u001b[49m\n\u001b[1;32m     29\u001b[0m cfg \u001b[38;5;241m=\u001b[39m wandb\u001b[38;5;241m.\u001b[39mconfig\n",
      "File \u001b[0;32m/opt/conda/lib/python3.9/site-packages/wandb/sdk/wandb_init.py:1065\u001b[0m, in \u001b[0;36minit\u001b[0;34m(job_type, dir, config, project, entity, reinit, tags, group, name, notes, magic, config_exclude_keys, config_include_keys, anonymous, mode, allow_val_change, resume, force, tensorboard, sync_tensorboard, monitor_gym, save_code, id, settings)\u001b[0m\n\u001b[1;32m   1063\u001b[0m     \u001b[38;5;28;01massert\u001b[39;00m logger\n\u001b[1;32m   1064\u001b[0m     logger\u001b[38;5;241m.\u001b[39mwarning(\u001b[38;5;124m\"\u001b[39m\u001b[38;5;124minterrupted\u001b[39m\u001b[38;5;124m\"\u001b[39m, exc_info\u001b[38;5;241m=\u001b[39me)\n\u001b[0;32m-> 1065\u001b[0m     \u001b[38;5;28;01mraise\u001b[39;00m e\n\u001b[1;32m   1066\u001b[0m \u001b[38;5;28;01mexcept\u001b[39;00m \u001b[38;5;167;01mException\u001b[39;00m \u001b[38;5;28;01mas\u001b[39;00m e:\n\u001b[1;32m   1067\u001b[0m     error_seen \u001b[38;5;241m=\u001b[39m e\n",
      "File \u001b[0;32m/opt/conda/lib/python3.9/site-packages/wandb/sdk/wandb_init.py:1043\u001b[0m, in \u001b[0;36minit\u001b[0;34m(job_type, dir, config, project, entity, reinit, tags, group, name, notes, magic, config_exclude_keys, config_include_keys, anonymous, mode, allow_val_change, resume, force, tensorboard, sync_tensorboard, monitor_gym, save_code, id, settings)\u001b[0m\n\u001b[1;32m   1041\u001b[0m except_exit \u001b[38;5;241m=\u001b[39m wi\u001b[38;5;241m.\u001b[39msettings\u001b[38;5;241m.\u001b[39m_except_exit\n\u001b[1;32m   1042\u001b[0m \u001b[38;5;28;01mtry\u001b[39;00m:\n\u001b[0;32m-> 1043\u001b[0m     run \u001b[38;5;241m=\u001b[39m \u001b[43mwi\u001b[49m\u001b[38;5;241;43m.\u001b[39;49m\u001b[43minit\u001b[49m\u001b[43m(\u001b[49m\u001b[43m)\u001b[49m\n\u001b[1;32m   1044\u001b[0m     except_exit \u001b[38;5;241m=\u001b[39m wi\u001b[38;5;241m.\u001b[39msettings\u001b[38;5;241m.\u001b[39m_except_exit\n\u001b[1;32m   1045\u001b[0m \u001b[38;5;28;01mexcept\u001b[39;00m (\u001b[38;5;167;01mKeyboardInterrupt\u001b[39;00m, \u001b[38;5;167;01mException\u001b[39;00m) \u001b[38;5;28;01mas\u001b[39;00m e:\n",
      "File \u001b[0;32m/opt/conda/lib/python3.9/site-packages/wandb/sdk/wandb_init.py:711\u001b[0m, in \u001b[0;36m_WandbInit.init\u001b[0;34m(self)\u001b[0m\n\u001b[1;32m    709\u001b[0m \u001b[38;5;28;01massert\u001b[39;00m backend\u001b[38;5;241m.\u001b[39minterface\n\u001b[1;32m    710\u001b[0m \u001b[38;5;28;01massert\u001b[39;00m run_obj\n\u001b[0;32m--> 711\u001b[0m _ \u001b[38;5;241m=\u001b[39m \u001b[43mbackend\u001b[49m\u001b[38;5;241;43m.\u001b[39;49m\u001b[43minterface\u001b[49m\u001b[38;5;241;43m.\u001b[39;49m\u001b[43mcommunicate_run_start\u001b[49m\u001b[43m(\u001b[49m\u001b[43mrun_obj\u001b[49m\u001b[43m)\u001b[49m\n\u001b[1;32m    713\u001b[0m \u001b[38;5;28mself\u001b[39m\u001b[38;5;241m.\u001b[39m_wl\u001b[38;5;241m.\u001b[39m_global_run_stack\u001b[38;5;241m.\u001b[39mappend(run)\n\u001b[1;32m    714\u001b[0m \u001b[38;5;28mself\u001b[39m\u001b[38;5;241m.\u001b[39mrun \u001b[38;5;241m=\u001b[39m run\n",
      "File \u001b[0;32m/opt/conda/lib/python3.9/site-packages/wandb/sdk/interface/interface.py:234\u001b[0m, in \u001b[0;36mInterfaceBase.communicate_run_start\u001b[0;34m(self, run_pb)\u001b[0m\n\u001b[1;32m    232\u001b[0m run_start \u001b[38;5;241m=\u001b[39m pb\u001b[38;5;241m.\u001b[39mRunStartRequest()\n\u001b[1;32m    233\u001b[0m run_start\u001b[38;5;241m.\u001b[39mrun\u001b[38;5;241m.\u001b[39mCopyFrom(run_pb)\n\u001b[0;32m--> 234\u001b[0m result \u001b[38;5;241m=\u001b[39m \u001b[38;5;28;43mself\u001b[39;49m\u001b[38;5;241;43m.\u001b[39;49m\u001b[43m_communicate_run_start\u001b[49m\u001b[43m(\u001b[49m\u001b[43mrun_start\u001b[49m\u001b[43m)\u001b[49m\n\u001b[1;32m    235\u001b[0m \u001b[38;5;28;01mreturn\u001b[39;00m result \u001b[38;5;129;01mis\u001b[39;00m \u001b[38;5;129;01mnot\u001b[39;00m \u001b[38;5;28;01mNone\u001b[39;00m\n",
      "File \u001b[0;32m/opt/conda/lib/python3.9/site-packages/wandb/sdk/interface/interface_shared.py:445\u001b[0m, in \u001b[0;36mInterfaceShared._communicate_run_start\u001b[0;34m(self, run_start)\u001b[0m\n\u001b[1;32m    441\u001b[0m \u001b[38;5;28;01mdef\u001b[39;00m \u001b[38;5;21m_communicate_run_start\u001b[39m(\n\u001b[1;32m    442\u001b[0m     \u001b[38;5;28mself\u001b[39m, run_start: pb\u001b[38;5;241m.\u001b[39mRunStartRequest\n\u001b[1;32m    443\u001b[0m ) \u001b[38;5;241m-\u001b[39m\u001b[38;5;241m>\u001b[39m Optional[pb\u001b[38;5;241m.\u001b[39mRunStartResponse]:\n\u001b[1;32m    444\u001b[0m     rec \u001b[38;5;241m=\u001b[39m \u001b[38;5;28mself\u001b[39m\u001b[38;5;241m.\u001b[39m_make_request(run_start\u001b[38;5;241m=\u001b[39mrun_start)\n\u001b[0;32m--> 445\u001b[0m     result \u001b[38;5;241m=\u001b[39m \u001b[38;5;28;43mself\u001b[39;49m\u001b[38;5;241;43m.\u001b[39;49m\u001b[43m_communicate\u001b[49m\u001b[43m(\u001b[49m\u001b[43mrec\u001b[49m\u001b[43m)\u001b[49m\n\u001b[1;32m    446\u001b[0m     \u001b[38;5;28;01mif\u001b[39;00m result \u001b[38;5;129;01mis\u001b[39;00m \u001b[38;5;28;01mNone\u001b[39;00m:\n\u001b[1;32m    447\u001b[0m         \u001b[38;5;28;01mreturn\u001b[39;00m \u001b[38;5;28;01mNone\u001b[39;00m\n",
      "File \u001b[0;32m/opt/conda/lib/python3.9/site-packages/wandb/sdk/interface/interface_shared.py:231\u001b[0m, in \u001b[0;36mInterfaceShared._communicate\u001b[0;34m(self, rec, timeout, local)\u001b[0m\n\u001b[1;32m    228\u001b[0m \u001b[38;5;28;01mdef\u001b[39;00m \u001b[38;5;21m_communicate\u001b[39m(\n\u001b[1;32m    229\u001b[0m     \u001b[38;5;28mself\u001b[39m, rec: pb\u001b[38;5;241m.\u001b[39mRecord, timeout: Optional[\u001b[38;5;28mint\u001b[39m] \u001b[38;5;241m=\u001b[39m \u001b[38;5;241m5\u001b[39m, local: \u001b[38;5;28mbool\u001b[39m \u001b[38;5;241m=\u001b[39m \u001b[38;5;28;01mNone\u001b[39;00m\n\u001b[1;32m    230\u001b[0m ) \u001b[38;5;241m-\u001b[39m\u001b[38;5;241m>\u001b[39m Optional[pb\u001b[38;5;241m.\u001b[39mResult]:\n\u001b[0;32m--> 231\u001b[0m     \u001b[38;5;28;01mreturn\u001b[39;00m \u001b[38;5;28;43mself\u001b[39;49m\u001b[38;5;241;43m.\u001b[39;49m\u001b[43m_communicate_async\u001b[49m\u001b[43m(\u001b[49m\u001b[43mrec\u001b[49m\u001b[43m,\u001b[49m\u001b[43m \u001b[49m\u001b[43mlocal\u001b[49m\u001b[38;5;241;43m=\u001b[39;49m\u001b[43mlocal\u001b[49m\u001b[43m)\u001b[49m\u001b[38;5;241;43m.\u001b[39;49m\u001b[43mget\u001b[49m\u001b[43m(\u001b[49m\u001b[43mtimeout\u001b[49m\u001b[38;5;241;43m=\u001b[39;49m\u001b[43mtimeout\u001b[49m\u001b[43m)\u001b[49m\n",
      "File \u001b[0;32m/opt/conda/lib/python3.9/site-packages/wandb/sdk/interface/router.py:37\u001b[0m, in \u001b[0;36mMessageFutureObject.get\u001b[0;34m(self, timeout)\u001b[0m\n\u001b[1;32m     36\u001b[0m \u001b[38;5;28;01mdef\u001b[39;00m \u001b[38;5;21mget\u001b[39m(\u001b[38;5;28mself\u001b[39m, timeout: \u001b[38;5;28mint\u001b[39m \u001b[38;5;241m=\u001b[39m \u001b[38;5;28;01mNone\u001b[39;00m) \u001b[38;5;241m-\u001b[39m\u001b[38;5;241m>\u001b[39m Optional[\u001b[38;5;124m\"\u001b[39m\u001b[38;5;124mpb.Result\u001b[39m\u001b[38;5;124m\"\u001b[39m]:\n\u001b[0;32m---> 37\u001b[0m     is_set \u001b[38;5;241m=\u001b[39m \u001b[38;5;28;43mself\u001b[39;49m\u001b[38;5;241;43m.\u001b[39;49m\u001b[43m_object_ready\u001b[49m\u001b[38;5;241;43m.\u001b[39;49m\u001b[43mwait\u001b[49m\u001b[43m(\u001b[49m\u001b[43mtimeout\u001b[49m\u001b[43m)\u001b[49m\n\u001b[1;32m     38\u001b[0m     \u001b[38;5;28;01mif\u001b[39;00m is_set \u001b[38;5;129;01mand\u001b[39;00m \u001b[38;5;28mself\u001b[39m\u001b[38;5;241m.\u001b[39m_object:\n\u001b[1;32m     39\u001b[0m         \u001b[38;5;28;01mreturn\u001b[39;00m \u001b[38;5;28mself\u001b[39m\u001b[38;5;241m.\u001b[39m_object\n",
      "File \u001b[0;32m/opt/conda/lib/python3.9/threading.py:574\u001b[0m, in \u001b[0;36mEvent.wait\u001b[0;34m(self, timeout)\u001b[0m\n\u001b[1;32m    572\u001b[0m signaled \u001b[38;5;241m=\u001b[39m \u001b[38;5;28mself\u001b[39m\u001b[38;5;241m.\u001b[39m_flag\n\u001b[1;32m    573\u001b[0m \u001b[38;5;28;01mif\u001b[39;00m \u001b[38;5;129;01mnot\u001b[39;00m signaled:\n\u001b[0;32m--> 574\u001b[0m     signaled \u001b[38;5;241m=\u001b[39m \u001b[38;5;28;43mself\u001b[39;49m\u001b[38;5;241;43m.\u001b[39;49m\u001b[43m_cond\u001b[49m\u001b[38;5;241;43m.\u001b[39;49m\u001b[43mwait\u001b[49m\u001b[43m(\u001b[49m\u001b[43mtimeout\u001b[49m\u001b[43m)\u001b[49m\n\u001b[1;32m    575\u001b[0m \u001b[38;5;28;01mreturn\u001b[39;00m signaled\n",
      "File \u001b[0;32m/opt/conda/lib/python3.9/threading.py:316\u001b[0m, in \u001b[0;36mCondition.wait\u001b[0;34m(self, timeout)\u001b[0m\n\u001b[1;32m    314\u001b[0m \u001b[38;5;28;01melse\u001b[39;00m:\n\u001b[1;32m    315\u001b[0m     \u001b[38;5;28;01mif\u001b[39;00m timeout \u001b[38;5;241m>\u001b[39m \u001b[38;5;241m0\u001b[39m:\n\u001b[0;32m--> 316\u001b[0m         gotit \u001b[38;5;241m=\u001b[39m \u001b[43mwaiter\u001b[49m\u001b[38;5;241;43m.\u001b[39;49m\u001b[43macquire\u001b[49m\u001b[43m(\u001b[49m\u001b[38;5;28;43;01mTrue\u001b[39;49;00m\u001b[43m,\u001b[49m\u001b[43m \u001b[49m\u001b[43mtimeout\u001b[49m\u001b[43m)\u001b[49m\n\u001b[1;32m    317\u001b[0m     \u001b[38;5;28;01melse\u001b[39;00m:\n\u001b[1;32m    318\u001b[0m         gotit \u001b[38;5;241m=\u001b[39m waiter\u001b[38;5;241m.\u001b[39macquire(\u001b[38;5;28;01mFalse\u001b[39;00m)\n",
      "\u001b[0;31mKeyboardInterrupt\u001b[0m: "
     ]
    }
   ],
   "source": [
    "# WANDB project initialization\n",
    "run = wandb.init(\n",
    "    project=\"Fall detection CNN + RNN\",\n",
    "    config={\n",
    "        \"model\": \"LSTM\",\n",
    "        \"epochs\": opt.epochs,\n",
    "        \"seq_len\": opt.seq_len,\n",
    "        \"num_features\": opt.num_features,\n",
    "        \"batch_size\": opt.batch_size,\n",
    "        \"stride\": opt.stride,\n",
    "        \"loss_function\": \"sparse_categorical_crossentropy\",\n",
    "        \"architecture\": \"LSTM\",\n",
    "        \"train_actors\": opt.train_actors,\n",
    "        \"val_actors\": opt.val_actors,\n",
    "        \"train_cams\": opt.train_cams,\n",
    "        \"val_cams\": opt.val_cams,\n",
    "        \"micro_classes\": opt.classes,\n",
    "        \"dropout\": opt.dropout,\n",
    "        \"lstm1_units\": opt.lstm1_units,\n",
    "        \"lstm2_units\": opt.lstm2_units,\n",
    "        \"dense_units\": opt.dense_units,\n",
    "        \"learning_rate\": opt.learning_rate,\n",
    "        \"split_ratio\": opt.split_ratio,\n",
    "        \"drop_offair\": opt.drop_offair,\n",
    "        \"undersample\": opt.undersample,\n",
    "    },\n",
    ")\n",
    "\n",
    "cfg = wandb.config"
   ]
  },
  {
   "cell_type": "markdown",
   "metadata": {},
   "source": [
    "## LSTM Network"
   ]
  },
  {
   "cell_type": "code",
   "execution_count": 51,
   "metadata": {},
   "outputs": [
    {
     "name": "stdout",
     "output_type": "stream",
     "text": [
      "Model: \"sequential\"\n",
      "_________________________________________________________________\n",
      "Layer (type)                 Output Shape              Param #   \n",
      "=================================================================\n",
      "lstm (LSTM)                  (None, 40, 64)            147712    \n",
      "_________________________________________________________________\n",
      "dropout (Dropout)            (None, 40, 64)            0         \n",
      "_________________________________________________________________\n",
      "lstm_1 (LSTM)                (None, 32)                12416     \n",
      "_________________________________________________________________\n",
      "dropout_1 (Dropout)          (None, 32)                0         \n",
      "_________________________________________________________________\n",
      "dense (Dense)                (None, 32)                1056      \n",
      "_________________________________________________________________\n",
      "dropout_2 (Dropout)          (None, 32)                0         \n",
      "_________________________________________________________________\n",
      "dense_1 (Dense)              (None, 3)                 99        \n",
      "=================================================================\n",
      "Total params: 161,283\n",
      "Trainable params: 161,283\n",
      "Non-trainable params: 0\n",
      "_________________________________________________________________\n"
     ]
    }
   ],
   "source": [
    "model = Sequential()\n",
    "model.add(\n",
    "    LSTM(\n",
    "        units=cfg.lstm1_units,\n",
    "        input_shape=(cfg.seq_len, cfg.num_features),\n",
    "        return_sequences=True,\n",
    "    )\n",
    ")\n",
    "model.add(Dropout(cfg.dropout))\n",
    "model.add(\n",
    "    LSTM(\n",
    "        units=cfg.lstm2_units,\n",
    "        input_shape=(cfg.seq_len, cfg.num_features),\n",
    "        return_sequences=False,\n",
    "    )\n",
    ")\n",
    "model.add(Dropout(cfg.dropout))\n",
    "model.add(Dense(units=cfg.dense_units, activation=\"relu\"))\n",
    "model.add(Dropout(cfg.dropout))\n",
    "model.add(Dense(units=np.unique(y_train_series, axis=0).shape[0], activation=\"softmax\"))\n",
    "model.compile(\n",
    "    optimizer=tf.keras.optimizers.Adam(),\n",
    "    loss=cfg.loss_function,\n",
    "    metrics=[\"accuracy\"],\n",
    ")\n",
    "model.summary()"
   ]
  },
  {
   "cell_type": "markdown",
   "metadata": {},
   "source": [
    "### Callbacks"
   ]
  },
  {
   "cell_type": "code",
   "execution_count": 52,
   "metadata": {},
   "outputs": [
    {
     "name": "stdout",
     "output_type": "stream",
     "text": [
      "WARNING:tensorflow:`period` argument is deprecated. Please use `save_freq` to specify the frequency in number of batches seen.\n"
     ]
    }
   ],
   "source": [
    "dir_path = f\"{projectdir}/vision/model_checkpoints/LSTM\"\n",
    "\n",
    "model_checkpoint = ModelCheckpoint(\n",
    "    filepath=f\"{dir_path}/VGG_LSTM_best_epoch.h5\",\n",
    "    monitor=\"val_loss\",\n",
    "    mode=\"min\",\n",
    "    save_best_only=True,\n",
    "    save_weights_only=False,\n",
    "    initial_value_threshold=0.4,\n",
    "    verbose=1,\n",
    "    period=10,\n",
    ")\n",
    "\n",
    "reduce_lr = ReduceLROnPlateau(\n",
    "    monitor=\"val_loss\",\n",
    "    factor=0.1,\n",
    "    patience=30,\n",
    "    verbose=1,\n",
    "    mode=\"min\",\n",
    "    min_delta=1e-5,\n",
    "    cooldown=1,\n",
    "    min_lr=1e-6,\n",
    ")\n",
    "\n",
    "early_stop = EarlyStopping(\n",
    "    monitor=\"val_loss\",\n",
    "    patience=200,\n",
    "    verbose=1,\n",
    "    mode=\"min\",\n",
    ")\n",
    "\n",
    "callbacks = [WandbCallback(), reduce_lr, early_stop]"
   ]
  },
  {
   "cell_type": "markdown",
   "metadata": {},
   "source": [
    "### Train the model"
   ]
  },
  {
   "cell_type": "code",
   "execution_count": 53,
   "metadata": {
    "pycharm": {
     "is_executing": true
    }
   },
   "outputs": [
    {
     "name": "stderr",
     "output_type": "stream",
     "text": [
      "2022-08-19 10:33:20.790071: I tensorflow/core/grappler/devices.cc:66] Number of eligible GPUs (core count >= 8, compute capability >= 0.0): 1\n",
      "2022-08-19 10:33:20.790226: I tensorflow/core/grappler/clusters/single_machine.cc:357] Starting new session\n",
      "2022-08-19 10:33:20.791219: I tensorflow/core/common_runtime/gpu/gpu_device.cc:1510] Created device /job:localhost/replica:0/task:0/device:GPU:0 with 21353 MB memory:  -> device: 0, name: NVIDIA RTX A5000, pci bus id: 0000:65:00.0, compute capability: 8.6\n",
      "2022-08-19 10:33:20.804123: I tensorflow/core/grappler/optimizers/meta_optimizer.cc:1137] Optimization results for grappler item: graph_to_optimize\n",
      "  function_optimizer: Graph size after: 452 nodes (370), 621 edges (528), time = 5.372ms.\n",
      "  function_optimizer: function_optimizer did nothing. time = 0.107ms.\n",
      "\n",
      "Incomplete shape.\n",
      "Incomplete shape.\n",
      "Incomplete shape.\n",
      "Incomplete shape.\n",
      "Incomplete shape.\n",
      "Incomplete shape.\n"
     ]
    },
    {
     "name": "stdout",
     "output_type": "stream",
     "text": [
      "Epoch 1/1000\n"
     ]
    },
    {
     "name": "stderr",
     "output_type": "stream",
     "text": [
      "2022-08-19 10:33:22.809137: I tensorflow/stream_executor/cuda/cuda_dnn.cc:369] Loaded cuDNN version 8201\n"
     ]
    },
    {
     "name": "stdout",
     "output_type": "stream",
     "text": [
      " 5/25 [=====>........................] - ETA: 0s - loss: 1.0553 - accuracy: 0.6500  "
     ]
    },
    {
     "name": "stderr",
     "output_type": "stream",
     "text": [
      "2022-08-19 10:33:23.469537: I tensorflow/stream_executor/cuda/cuda_blas.cc:1760] TensorFloat-32 will be used for the matrix multiplication. This will only be logged once.\n"
     ]
    },
    {
     "name": "stdout",
     "output_type": "stream",
     "text": [
      "25/25 [==============================] - 3s 34ms/step - loss: 0.8394 - accuracy: 0.7307 - val_loss: 0.3880 - val_accuracy: 0.9830\n"
     ]
    },
    {
     "name": "stderr",
     "output_type": "stream",
     "text": [
      "2022-08-19 10:33:26.513811: W tensorflow/python/util/util.cc:348] Sets are not currently considered sequences, but this may change in the future, so consider avoiding using them.\n"
     ]
    },
    {
     "name": "stdout",
     "output_type": "stream",
     "text": [
      "INFO:tensorflow:Assets written to: /home/jovyan/work/MED_Fall/wandb/offline-run-20220819_103317-kdwba5ep/files/model-best/assets\n"
     ]
    },
    {
     "name": "stderr",
     "output_type": "stream",
     "text": [
      "INFO:tensorflow:Assets written to: /home/jovyan/work/MED_Fall/wandb/offline-run-20220819_103317-kdwba5ep/files/model-best/assets\n",
      "\u001b[34m\u001b[1mwandb\u001b[0m: Adding directory to artifact (/home/jovyan/work/MED_Fall/wandb/offline-run-20220819_103317-kdwba5ep/files/model-best)... Done. 0.0s\n"
     ]
    },
    {
     "name": "stdout",
     "output_type": "stream",
     "text": [
      "Epoch 2/1000\n",
      "25/25 [==============================] - 0s 16ms/step - loss: 0.5676 - accuracy: 0.7947 - val_loss: 0.1976 - val_accuracy: 0.9618\n",
      "INFO:tensorflow:Assets written to: /home/jovyan/work/MED_Fall/wandb/offline-run-20220819_103317-kdwba5ep/files/model-best/assets\n"
     ]
    },
    {
     "name": "stderr",
     "output_type": "stream",
     "text": [
      "INFO:tensorflow:Assets written to: /home/jovyan/work/MED_Fall/wandb/offline-run-20220819_103317-kdwba5ep/files/model-best/assets\n",
      "\u001b[34m\u001b[1mwandb\u001b[0m: Adding directory to artifact (/home/jovyan/work/MED_Fall/wandb/offline-run-20220819_103317-kdwba5ep/files/model-best)... Done. 0.0s\n"
     ]
    },
    {
     "name": "stdout",
     "output_type": "stream",
     "text": [
      "Epoch 3/1000\n",
      "25/25 [==============================] - 0s 16ms/step - loss: 0.3676 - accuracy: 0.8984 - val_loss: 0.0923 - val_accuracy: 0.9830\n",
      "INFO:tensorflow:Assets written to: /home/jovyan/work/MED_Fall/wandb/offline-run-20220819_103317-kdwba5ep/files/model-best/assets\n"
     ]
    },
    {
     "name": "stderr",
     "output_type": "stream",
     "text": [
      "INFO:tensorflow:Assets written to: /home/jovyan/work/MED_Fall/wandb/offline-run-20220819_103317-kdwba5ep/files/model-best/assets\n",
      "\u001b[34m\u001b[1mwandb\u001b[0m: Adding directory to artifact (/home/jovyan/work/MED_Fall/wandb/offline-run-20220819_103317-kdwba5ep/files/model-best)... Done. 0.0s\n"
     ]
    },
    {
     "name": "stdout",
     "output_type": "stream",
     "text": [
      "Epoch 4/1000\n",
      "25/25 [==============================] - 0s 16ms/step - loss: 0.2427 - accuracy: 0.9411 - val_loss: 0.0891 - val_accuracy: 0.9830\n",
      "INFO:tensorflow:Assets written to: /home/jovyan/work/MED_Fall/wandb/offline-run-20220819_103317-kdwba5ep/files/model-best/assets\n"
     ]
    },
    {
     "name": "stderr",
     "output_type": "stream",
     "text": [
      "INFO:tensorflow:Assets written to: /home/jovyan/work/MED_Fall/wandb/offline-run-20220819_103317-kdwba5ep/files/model-best/assets\n",
      "\u001b[34m\u001b[1mwandb\u001b[0m: Adding directory to artifact (/home/jovyan/work/MED_Fall/wandb/offline-run-20220819_103317-kdwba5ep/files/model-best)... Done. 0.0s\n"
     ]
    },
    {
     "name": "stdout",
     "output_type": "stream",
     "text": [
      "Epoch 5/1000\n",
      "25/25 [==============================] - 0s 17ms/step - loss: 0.2061 - accuracy: 0.9411 - val_loss: 0.0910 - val_accuracy: 0.9830\n",
      "Epoch 6/1000\n",
      "25/25 [==============================] - 0s 16ms/step - loss: 0.1863 - accuracy: 0.9472 - val_loss: 0.1047 - val_accuracy: 0.9830\n",
      "Epoch 7/1000\n",
      "25/25 [==============================] - 0s 17ms/step - loss: 0.1734 - accuracy: 0.9451 - val_loss: 0.0966 - val_accuracy: 0.9830\n",
      "Epoch 8/1000\n",
      "25/25 [==============================] - 0s 16ms/step - loss: 0.1643 - accuracy: 0.9461 - val_loss: 0.0978 - val_accuracy: 0.9830\n",
      "Epoch 9/1000\n",
      "25/25 [==============================] - 0s 17ms/step - loss: 0.1383 - accuracy: 0.9522 - val_loss: 0.0985 - val_accuracy: 0.9830\n",
      "Epoch 10/1000\n",
      "25/25 [==============================] - 0s 16ms/step - loss: 0.1459 - accuracy: 0.9512 - val_loss: 0.1075 - val_accuracy: 0.9830\n",
      "Epoch 11/1000\n",
      "25/25 [==============================] - 0s 17ms/step - loss: 0.1272 - accuracy: 0.9563 - val_loss: 0.0589 - val_accuracy: 0.9830\n",
      "INFO:tensorflow:Assets written to: /home/jovyan/work/MED_Fall/wandb/offline-run-20220819_103317-kdwba5ep/files/model-best/assets\n"
     ]
    },
    {
     "name": "stderr",
     "output_type": "stream",
     "text": [
      "INFO:tensorflow:Assets written to: /home/jovyan/work/MED_Fall/wandb/offline-run-20220819_103317-kdwba5ep/files/model-best/assets\n",
      "\u001b[34m\u001b[1mwandb\u001b[0m: Adding directory to artifact (/home/jovyan/work/MED_Fall/wandb/offline-run-20220819_103317-kdwba5ep/files/model-best)... Done. 0.0s\n"
     ]
    },
    {
     "name": "stdout",
     "output_type": "stream",
     "text": [
      "Epoch 12/1000\n",
      "25/25 [==============================] - 0s 16ms/step - loss: 0.1168 - accuracy: 0.9553 - val_loss: 0.0747 - val_accuracy: 0.9830\n",
      "Epoch 13/1000\n",
      "25/25 [==============================] - 0s 17ms/step - loss: 0.1017 - accuracy: 0.9624 - val_loss: 0.0771 - val_accuracy: 0.9830\n",
      "Epoch 14/1000\n",
      "25/25 [==============================] - 0s 17ms/step - loss: 0.1073 - accuracy: 0.9675 - val_loss: 0.1122 - val_accuracy: 0.9830\n",
      "Epoch 15/1000\n",
      "25/25 [==============================] - 0s 17ms/step - loss: 0.0912 - accuracy: 0.9756 - val_loss: 0.0723 - val_accuracy: 0.9830\n",
      "Epoch 16/1000\n",
      "25/25 [==============================] - 0s 17ms/step - loss: 0.0767 - accuracy: 0.9715 - val_loss: 0.1318 - val_accuracy: 0.9830\n",
      "Epoch 17/1000\n",
      "25/25 [==============================] - 0s 17ms/step - loss: 0.0946 - accuracy: 0.9726 - val_loss: 0.1055 - val_accuracy: 0.9830\n",
      "Epoch 18/1000\n",
      "25/25 [==============================] - 0s 17ms/step - loss: 0.0830 - accuracy: 0.9776 - val_loss: 0.0957 - val_accuracy: 0.9830\n",
      "Epoch 19/1000\n",
      "25/25 [==============================] - 0s 17ms/step - loss: 0.0833 - accuracy: 0.9726 - val_loss: 0.0849 - val_accuracy: 0.9830\n",
      "Epoch 20/1000\n",
      "25/25 [==============================] - 0s 17ms/step - loss: 0.0766 - accuracy: 0.9776 - val_loss: 0.0526 - val_accuracy: 0.9830\n",
      "INFO:tensorflow:Assets written to: /home/jovyan/work/MED_Fall/wandb/offline-run-20220819_103317-kdwba5ep/files/model-best/assets\n"
     ]
    },
    {
     "name": "stderr",
     "output_type": "stream",
     "text": [
      "INFO:tensorflow:Assets written to: /home/jovyan/work/MED_Fall/wandb/offline-run-20220819_103317-kdwba5ep/files/model-best/assets\n",
      "\u001b[34m\u001b[1mwandb\u001b[0m: Adding directory to artifact (/home/jovyan/work/MED_Fall/wandb/offline-run-20220819_103317-kdwba5ep/files/model-best)... Done. 0.0s\n"
     ]
    },
    {
     "name": "stdout",
     "output_type": "stream",
     "text": [
      "Epoch 21/1000\n",
      "25/25 [==============================] - 0s 16ms/step - loss: 0.0683 - accuracy: 0.9766 - val_loss: 0.0486 - val_accuracy: 0.9830\n",
      "INFO:tensorflow:Assets written to: /home/jovyan/work/MED_Fall/wandb/offline-run-20220819_103317-kdwba5ep/files/model-best/assets\n"
     ]
    },
    {
     "name": "stderr",
     "output_type": "stream",
     "text": [
      "INFO:tensorflow:Assets written to: /home/jovyan/work/MED_Fall/wandb/offline-run-20220819_103317-kdwba5ep/files/model-best/assets\n",
      "\u001b[34m\u001b[1mwandb\u001b[0m: Adding directory to artifact (/home/jovyan/work/MED_Fall/wandb/offline-run-20220819_103317-kdwba5ep/files/model-best)... Done. 0.0s\n"
     ]
    },
    {
     "name": "stdout",
     "output_type": "stream",
     "text": [
      "Epoch 22/1000\n",
      "25/25 [==============================] - 0s 16ms/step - loss: 0.0858 - accuracy: 0.9756 - val_loss: 0.0837 - val_accuracy: 0.9830\n",
      "Epoch 23/1000\n",
      "25/25 [==============================] - 0s 16ms/step - loss: 0.0717 - accuracy: 0.9776 - val_loss: 0.0732 - val_accuracy: 0.9830\n",
      "Epoch 24/1000\n",
      "25/25 [==============================] - 0s 17ms/step - loss: 0.0757 - accuracy: 0.9715 - val_loss: 0.0622 - val_accuracy: 0.9830\n",
      "Epoch 25/1000\n",
      "25/25 [==============================] - 0s 17ms/step - loss: 0.0635 - accuracy: 0.9776 - val_loss: 0.0645 - val_accuracy: 0.9830\n",
      "Epoch 26/1000\n",
      "25/25 [==============================] - 0s 17ms/step - loss: 0.0602 - accuracy: 0.9776 - val_loss: 0.0663 - val_accuracy: 0.9830\n",
      "Epoch 27/1000\n",
      "25/25 [==============================] - 0s 17ms/step - loss: 0.0777 - accuracy: 0.9766 - val_loss: 0.0410 - val_accuracy: 0.9830\n",
      "INFO:tensorflow:Assets written to: /home/jovyan/work/MED_Fall/wandb/offline-run-20220819_103317-kdwba5ep/files/model-best/assets\n"
     ]
    },
    {
     "name": "stderr",
     "output_type": "stream",
     "text": [
      "INFO:tensorflow:Assets written to: /home/jovyan/work/MED_Fall/wandb/offline-run-20220819_103317-kdwba5ep/files/model-best/assets\n",
      "\u001b[34m\u001b[1mwandb\u001b[0m: Adding directory to artifact (/home/jovyan/work/MED_Fall/wandb/offline-run-20220819_103317-kdwba5ep/files/model-best)... Done. 0.0s\n"
     ]
    },
    {
     "name": "stdout",
     "output_type": "stream",
     "text": [
      "Epoch 28/1000\n",
      "25/25 [==============================] - 0s 16ms/step - loss: 0.0720 - accuracy: 0.9776 - val_loss: 0.0619 - val_accuracy: 0.9830\n",
      "Epoch 29/1000\n",
      "25/25 [==============================] - 0s 17ms/step - loss: 0.0577 - accuracy: 0.9766 - val_loss: 0.0808 - val_accuracy: 0.9830\n",
      "Epoch 30/1000\n",
      "25/25 [==============================] - 0s 17ms/step - loss: 0.0473 - accuracy: 0.9827 - val_loss: 0.0430 - val_accuracy: 0.9830\n",
      "Epoch 31/1000\n",
      "25/25 [==============================] - 0s 17ms/step - loss: 0.0548 - accuracy: 0.9746 - val_loss: 0.0310 - val_accuracy: 0.9830\n",
      "INFO:tensorflow:Assets written to: /home/jovyan/work/MED_Fall/wandb/offline-run-20220819_103317-kdwba5ep/files/model-best/assets\n"
     ]
    },
    {
     "name": "stderr",
     "output_type": "stream",
     "text": [
      "INFO:tensorflow:Assets written to: /home/jovyan/work/MED_Fall/wandb/offline-run-20220819_103317-kdwba5ep/files/model-best/assets\n",
      "\u001b[34m\u001b[1mwandb\u001b[0m: Adding directory to artifact (/home/jovyan/work/MED_Fall/wandb/offline-run-20220819_103317-kdwba5ep/files/model-best)... Done. 0.0s\n"
     ]
    },
    {
     "name": "stdout",
     "output_type": "stream",
     "text": [
      "Epoch 32/1000\n",
      "25/25 [==============================] - 0s 16ms/step - loss: 0.0725 - accuracy: 0.9736 - val_loss: 0.0555 - val_accuracy: 0.9830\n",
      "Epoch 33/1000\n",
      "25/25 [==============================] - 0s 17ms/step - loss: 0.0780 - accuracy: 0.9756 - val_loss: 0.0438 - val_accuracy: 0.9830\n",
      "Epoch 34/1000\n",
      "25/25 [==============================] - 0s 17ms/step - loss: 0.0732 - accuracy: 0.9756 - val_loss: 0.1009 - val_accuracy: 0.9830\n",
      "Epoch 35/1000\n",
      "25/25 [==============================] - 0s 16ms/step - loss: 0.0609 - accuracy: 0.9766 - val_loss: 0.0568 - val_accuracy: 0.9830\n",
      "Epoch 36/1000\n",
      "25/25 [==============================] - 0s 17ms/step - loss: 0.0500 - accuracy: 0.9827 - val_loss: 0.0481 - val_accuracy: 0.9830\n",
      "Epoch 37/1000\n",
      "25/25 [==============================] - 0s 17ms/step - loss: 0.0528 - accuracy: 0.9776 - val_loss: 0.0423 - val_accuracy: 0.9830\n",
      "Epoch 38/1000\n",
      "25/25 [==============================] - 0s 17ms/step - loss: 0.0578 - accuracy: 0.9776 - val_loss: 0.0727 - val_accuracy: 0.9830\n",
      "Epoch 39/1000\n",
      "25/25 [==============================] - 0s 17ms/step - loss: 0.0712 - accuracy: 0.9715 - val_loss: 0.1273 - val_accuracy: 0.9830\n",
      "Epoch 40/1000\n",
      "25/25 [==============================] - 0s 17ms/step - loss: 0.0530 - accuracy: 0.9868 - val_loss: 0.0742 - val_accuracy: 0.9830\n",
      "Epoch 41/1000\n",
      "25/25 [==============================] - 0s 17ms/step - loss: 0.0538 - accuracy: 0.9827 - val_loss: 0.0710 - val_accuracy: 0.9830\n",
      "Epoch 42/1000\n",
      "25/25 [==============================] - 0s 17ms/step - loss: 0.0390 - accuracy: 0.9858 - val_loss: 0.0587 - val_accuracy: 0.9830\n",
      "Epoch 43/1000\n",
      "25/25 [==============================] - 0s 17ms/step - loss: 0.0326 - accuracy: 0.9898 - val_loss: 0.0413 - val_accuracy: 0.9830\n",
      "Epoch 44/1000\n",
      "25/25 [==============================] - 0s 17ms/step - loss: 0.0467 - accuracy: 0.9817 - val_loss: 0.1164 - val_accuracy: 0.9830\n",
      "Epoch 45/1000\n",
      "25/25 [==============================] - 0s 16ms/step - loss: 0.0600 - accuracy: 0.9817 - val_loss: 0.0996 - val_accuracy: 0.9830\n",
      "Epoch 46/1000\n",
      "25/25 [==============================] - 0s 17ms/step - loss: 0.0446 - accuracy: 0.9827 - val_loss: 0.0561 - val_accuracy: 0.9830\n",
      "Epoch 47/1000\n",
      "25/25 [==============================] - 0s 17ms/step - loss: 0.0695 - accuracy: 0.9797 - val_loss: 0.0871 - val_accuracy: 0.9830\n",
      "Epoch 48/1000\n",
      "25/25 [==============================] - 0s 17ms/step - loss: 0.0518 - accuracy: 0.9807 - val_loss: 0.0491 - val_accuracy: 0.9830\n",
      "Epoch 49/1000\n",
      "25/25 [==============================] - 0s 17ms/step - loss: 0.0703 - accuracy: 0.9746 - val_loss: 0.0321 - val_accuracy: 0.9830\n",
      "Epoch 50/1000\n",
      "25/25 [==============================] - 0s 17ms/step - loss: 0.0506 - accuracy: 0.9797 - val_loss: 0.0457 - val_accuracy: 0.9830\n",
      "Epoch 51/1000\n",
      "25/25 [==============================] - 0s 17ms/step - loss: 0.0728 - accuracy: 0.9797 - val_loss: 0.0915 - val_accuracy: 0.9830\n",
      "Epoch 52/1000\n",
      "25/25 [==============================] - 0s 17ms/step - loss: 0.0589 - accuracy: 0.9807 - val_loss: 0.0717 - val_accuracy: 0.9830\n",
      "Epoch 53/1000\n",
      "25/25 [==============================] - 0s 17ms/step - loss: 0.0528 - accuracy: 0.9797 - val_loss: 0.1101 - val_accuracy: 0.9830\n",
      "Epoch 54/1000\n",
      "25/25 [==============================] - 0s 17ms/step - loss: 0.0575 - accuracy: 0.9797 - val_loss: 0.1028 - val_accuracy: 0.9830\n",
      "Epoch 55/1000\n",
      "25/25 [==============================] - 0s 16ms/step - loss: 0.0389 - accuracy: 0.9878 - val_loss: 0.0675 - val_accuracy: 0.9830\n",
      "Epoch 56/1000\n",
      "25/25 [==============================] - 0s 17ms/step - loss: 0.0393 - accuracy: 0.9868 - val_loss: 0.1088 - val_accuracy: 0.9830\n",
      "Epoch 57/1000\n",
      "25/25 [==============================] - 0s 17ms/step - loss: 0.0502 - accuracy: 0.9817 - val_loss: 0.0829 - val_accuracy: 0.9830\n",
      "Epoch 58/1000\n",
      "25/25 [==============================] - 0s 16ms/step - loss: 0.0559 - accuracy: 0.9807 - val_loss: 0.0682 - val_accuracy: 0.9830\n",
      "Epoch 59/1000\n",
      "25/25 [==============================] - 0s 17ms/step - loss: 0.0281 - accuracy: 0.9898 - val_loss: 0.1161 - val_accuracy: 0.9830\n",
      "Epoch 60/1000\n",
      "25/25 [==============================] - 0s 17ms/step - loss: 0.0340 - accuracy: 0.9868 - val_loss: 0.0660 - val_accuracy: 0.9830\n",
      "Epoch 61/1000\n",
      "25/25 [==============================] - 0s 17ms/step - loss: 0.0335 - accuracy: 0.9909 - val_loss: 0.1399 - val_accuracy: 0.9830\n",
      "\n",
      "Epoch 00061: ReduceLROnPlateau reducing learning rate to 0.00010000000474974513.\n",
      "Epoch 62/1000\n",
      "25/25 [==============================] - 0s 17ms/step - loss: 0.0358 - accuracy: 0.9898 - val_loss: 0.1095 - val_accuracy: 0.9830\n",
      "Epoch 63/1000\n",
      "25/25 [==============================] - 0s 18ms/step - loss: 0.0338 - accuracy: 0.9858 - val_loss: 0.0751 - val_accuracy: 0.9830\n",
      "Epoch 64/1000\n",
      "25/25 [==============================] - 0s 17ms/step - loss: 0.0227 - accuracy: 0.9909 - val_loss: 0.0859 - val_accuracy: 0.9830\n",
      "Epoch 65/1000\n",
      "25/25 [==============================] - 0s 17ms/step - loss: 0.0254 - accuracy: 0.9909 - val_loss: 0.0830 - val_accuracy: 0.9830\n",
      "Epoch 66/1000\n",
      "25/25 [==============================] - 0s 16ms/step - loss: 0.0278 - accuracy: 0.9898 - val_loss: 0.0680 - val_accuracy: 0.9830\n",
      "Epoch 67/1000\n",
      "25/25 [==============================] - 0s 17ms/step - loss: 0.0250 - accuracy: 0.9909 - val_loss: 0.0524 - val_accuracy: 0.9830\n",
      "Epoch 68/1000\n",
      "25/25 [==============================] - 0s 17ms/step - loss: 0.0242 - accuracy: 0.9898 - val_loss: 0.0548 - val_accuracy: 0.9830\n",
      "Epoch 69/1000\n",
      "25/25 [==============================] - 0s 17ms/step - loss: 0.0252 - accuracy: 0.9888 - val_loss: 0.0586 - val_accuracy: 0.9830\n",
      "Epoch 70/1000\n",
      "25/25 [==============================] - 0s 17ms/step - loss: 0.0269 - accuracy: 0.9909 - val_loss: 0.0697 - val_accuracy: 0.9830\n",
      "Epoch 71/1000\n",
      "25/25 [==============================] - 0s 16ms/step - loss: 0.0226 - accuracy: 0.9929 - val_loss: 0.0592 - val_accuracy: 0.9830\n",
      "Epoch 72/1000\n",
      "25/25 [==============================] - 0s 16ms/step - loss: 0.0173 - accuracy: 0.9959 - val_loss: 0.0746 - val_accuracy: 0.9830\n",
      "Epoch 73/1000\n",
      "25/25 [==============================] - 0s 17ms/step - loss: 0.0206 - accuracy: 0.9909 - val_loss: 0.0608 - val_accuracy: 0.9830\n",
      "Epoch 74/1000\n",
      "25/25 [==============================] - 0s 17ms/step - loss: 0.0229 - accuracy: 0.9898 - val_loss: 0.0604 - val_accuracy: 0.9830\n",
      "Epoch 75/1000\n",
      "25/25 [==============================] - 0s 17ms/step - loss: 0.0212 - accuracy: 0.9909 - val_loss: 0.0517 - val_accuracy: 0.9830\n",
      "Epoch 76/1000\n",
      "25/25 [==============================] - 0s 16ms/step - loss: 0.0207 - accuracy: 0.9919 - val_loss: 0.0645 - val_accuracy: 0.9830\n",
      "Epoch 77/1000\n",
      "25/25 [==============================] - 0s 17ms/step - loss: 0.0203 - accuracy: 0.9919 - val_loss: 0.0474 - val_accuracy: 0.9830\n",
      "Epoch 78/1000\n",
      "25/25 [==============================] - 0s 17ms/step - loss: 0.0211 - accuracy: 0.9939 - val_loss: 0.0406 - val_accuracy: 0.9830\n",
      "Epoch 79/1000\n",
      "25/25 [==============================] - 0s 17ms/step - loss: 0.0183 - accuracy: 0.9929 - val_loss: 0.0544 - val_accuracy: 0.9830\n",
      "Epoch 80/1000\n",
      "25/25 [==============================] - 0s 16ms/step - loss: 0.0189 - accuracy: 0.9929 - val_loss: 0.0381 - val_accuracy: 0.9830\n",
      "Epoch 81/1000\n",
      "25/25 [==============================] - 0s 16ms/step - loss: 0.0301 - accuracy: 0.9878 - val_loss: 0.0310 - val_accuracy: 0.9830\n",
      "Epoch 82/1000\n",
      "25/25 [==============================] - 0s 16ms/step - loss: 0.0254 - accuracy: 0.9959 - val_loss: 0.0377 - val_accuracy: 0.9830\n",
      "Epoch 83/1000\n",
      "25/25 [==============================] - 0s 17ms/step - loss: 0.0205 - accuracy: 0.9909 - val_loss: 0.0543 - val_accuracy: 0.9830\n",
      "Epoch 84/1000\n",
      "25/25 [==============================] - 0s 16ms/step - loss: 0.0234 - accuracy: 0.9919 - val_loss: 0.0417 - val_accuracy: 0.9830\n",
      "Epoch 85/1000\n",
      "25/25 [==============================] - 0s 16ms/step - loss: 0.0212 - accuracy: 0.9919 - val_loss: 0.0493 - val_accuracy: 0.9830\n",
      "Epoch 86/1000\n",
      "25/25 [==============================] - 0s 16ms/step - loss: 0.0218 - accuracy: 0.9909 - val_loss: 0.0342 - val_accuracy: 0.9830\n",
      "Epoch 87/1000\n",
      "25/25 [==============================] - 0s 17ms/step - loss: 0.0211 - accuracy: 0.9919 - val_loss: 0.0433 - val_accuracy: 0.9830\n",
      "Epoch 88/1000\n",
      "25/25 [==============================] - 0s 17ms/step - loss: 0.0173 - accuracy: 0.9919 - val_loss: 0.0392 - val_accuracy: 0.9809\n",
      "Epoch 89/1000\n",
      "25/25 [==============================] - 0s 17ms/step - loss: 0.0175 - accuracy: 0.9949 - val_loss: 0.0477 - val_accuracy: 0.9830\n",
      "Epoch 90/1000\n",
      "25/25 [==============================] - 0s 17ms/step - loss: 0.0142 - accuracy: 0.9959 - val_loss: 0.0406 - val_accuracy: 0.9830\n",
      "Epoch 91/1000\n",
      "25/25 [==============================] - 0s 17ms/step - loss: 0.0185 - accuracy: 0.9939 - val_loss: 0.0618 - val_accuracy: 0.9830\n",
      "\n",
      "Epoch 00091: ReduceLROnPlateau reducing learning rate to 1.0000000474974514e-05.\n",
      "Epoch 92/1000\n",
      "25/25 [==============================] - 0s 17ms/step - loss: 0.0196 - accuracy: 0.9929 - val_loss: 0.0572 - val_accuracy: 0.9830\n",
      "Epoch 93/1000\n",
      "25/25 [==============================] - 0s 17ms/step - loss: 0.0256 - accuracy: 0.9898 - val_loss: 0.0480 - val_accuracy: 0.9830\n",
      "Epoch 94/1000\n",
      "25/25 [==============================] - 0s 17ms/step - loss: 0.0216 - accuracy: 0.9909 - val_loss: 0.0427 - val_accuracy: 0.9830\n",
      "Epoch 95/1000\n",
      "25/25 [==============================] - 0s 17ms/step - loss: 0.0152 - accuracy: 0.9970 - val_loss: 0.0399 - val_accuracy: 0.9830\n",
      "Epoch 96/1000\n",
      "25/25 [==============================] - 0s 17ms/step - loss: 0.0146 - accuracy: 0.9959 - val_loss: 0.0391 - val_accuracy: 0.9830\n",
      "Epoch 97/1000\n",
      "25/25 [==============================] - 0s 17ms/step - loss: 0.0174 - accuracy: 0.9939 - val_loss: 0.0400 - val_accuracy: 0.9830\n",
      "Epoch 98/1000\n",
      "25/25 [==============================] - 0s 17ms/step - loss: 0.0183 - accuracy: 0.9939 - val_loss: 0.0376 - val_accuracy: 0.9830\n",
      "Epoch 99/1000\n",
      "25/25 [==============================] - 0s 17ms/step - loss: 0.0118 - accuracy: 0.9970 - val_loss: 0.0379 - val_accuracy: 0.9830\n",
      "Epoch 100/1000\n",
      "25/25 [==============================] - 0s 17ms/step - loss: 0.0147 - accuracy: 0.9959 - val_loss: 0.0378 - val_accuracy: 0.9830\n",
      "Epoch 101/1000\n",
      "25/25 [==============================] - 0s 16ms/step - loss: 0.0187 - accuracy: 0.9929 - val_loss: 0.0376 - val_accuracy: 0.9830\n",
      "Epoch 102/1000\n",
      "25/25 [==============================] - 0s 16ms/step - loss: 0.0156 - accuracy: 0.9949 - val_loss: 0.0371 - val_accuracy: 0.9830\n",
      "Epoch 103/1000\n",
      "25/25 [==============================] - 0s 17ms/step - loss: 0.0161 - accuracy: 0.9970 - val_loss: 0.0358 - val_accuracy: 0.9788\n",
      "Epoch 104/1000\n",
      "25/25 [==============================] - 0s 16ms/step - loss: 0.0186 - accuracy: 0.9929 - val_loss: 0.0366 - val_accuracy: 0.9830\n",
      "Epoch 105/1000\n",
      "25/25 [==============================] - 0s 17ms/step - loss: 0.0162 - accuracy: 0.9939 - val_loss: 0.0353 - val_accuracy: 0.9766\n",
      "Epoch 106/1000\n",
      "25/25 [==============================] - 0s 17ms/step - loss: 0.0154 - accuracy: 0.9949 - val_loss: 0.0366 - val_accuracy: 0.9830\n",
      "Epoch 107/1000\n",
      "25/25 [==============================] - 0s 17ms/step - loss: 0.0211 - accuracy: 0.9919 - val_loss: 0.0390 - val_accuracy: 0.9830\n",
      "Epoch 108/1000\n",
      "25/25 [==============================] - 0s 17ms/step - loss: 0.0166 - accuracy: 0.9939 - val_loss: 0.0385 - val_accuracy: 0.9830\n",
      "Epoch 109/1000\n",
      "25/25 [==============================] - 0s 17ms/step - loss: 0.0204 - accuracy: 0.9909 - val_loss: 0.0375 - val_accuracy: 0.9830\n",
      "Epoch 110/1000\n",
      "25/25 [==============================] - 0s 17ms/step - loss: 0.0164 - accuracy: 0.9949 - val_loss: 0.0386 - val_accuracy: 0.9830\n",
      "Epoch 111/1000\n",
      "25/25 [==============================] - 0s 16ms/step - loss: 0.0161 - accuracy: 0.9949 - val_loss: 0.0375 - val_accuracy: 0.9830\n",
      "Epoch 112/1000\n",
      "25/25 [==============================] - 0s 17ms/step - loss: 0.0162 - accuracy: 0.9939 - val_loss: 0.0363 - val_accuracy: 0.9745\n",
      "Epoch 113/1000\n",
      "25/25 [==============================] - 0s 17ms/step - loss: 0.0185 - accuracy: 0.9949 - val_loss: 0.0381 - val_accuracy: 0.9830\n",
      "Epoch 114/1000\n",
      "25/25 [==============================] - 0s 17ms/step - loss: 0.0168 - accuracy: 0.9929 - val_loss: 0.0397 - val_accuracy: 0.9830\n",
      "Epoch 115/1000\n",
      "25/25 [==============================] - 0s 17ms/step - loss: 0.0165 - accuracy: 0.9939 - val_loss: 0.0395 - val_accuracy: 0.9830\n",
      "Epoch 116/1000\n",
      "25/25 [==============================] - 0s 17ms/step - loss: 0.0194 - accuracy: 0.9929 - val_loss: 0.0382 - val_accuracy: 0.9830\n",
      "Epoch 117/1000\n",
      "25/25 [==============================] - 0s 17ms/step - loss: 0.0163 - accuracy: 0.9929 - val_loss: 0.0370 - val_accuracy: 0.9809\n",
      "Epoch 118/1000\n",
      "25/25 [==============================] - 0s 17ms/step - loss: 0.0186 - accuracy: 0.9919 - val_loss: 0.0382 - val_accuracy: 0.9830\n",
      "Epoch 119/1000\n",
      "25/25 [==============================] - 0s 17ms/step - loss: 0.0124 - accuracy: 0.9959 - val_loss: 0.0391 - val_accuracy: 0.9830\n",
      "Epoch 120/1000\n",
      "25/25 [==============================] - 0s 17ms/step - loss: 0.0141 - accuracy: 0.9929 - val_loss: 0.0379 - val_accuracy: 0.9809\n",
      "Epoch 121/1000\n",
      "25/25 [==============================] - 0s 17ms/step - loss: 0.0170 - accuracy: 0.9929 - val_loss: 0.0371 - val_accuracy: 0.9745\n",
      "\n",
      "Epoch 00121: ReduceLROnPlateau reducing learning rate to 1.0000000656873453e-06.\n",
      "Epoch 122/1000\n",
      "25/25 [==============================] - 0s 17ms/step - loss: 0.0145 - accuracy: 0.9959 - val_loss: 0.0371 - val_accuracy: 0.9745\n",
      "Epoch 123/1000\n",
      "25/25 [==============================] - 0s 17ms/step - loss: 0.0165 - accuracy: 0.9929 - val_loss: 0.0371 - val_accuracy: 0.9745\n",
      "Epoch 124/1000\n",
      "25/25 [==============================] - 0s 17ms/step - loss: 0.0126 - accuracy: 0.9949 - val_loss: 0.0370 - val_accuracy: 0.9745\n",
      "Epoch 125/1000\n",
      "25/25 [==============================] - 0s 17ms/step - loss: 0.0117 - accuracy: 0.9970 - val_loss: 0.0370 - val_accuracy: 0.9745\n",
      "Epoch 126/1000\n",
      "25/25 [==============================] - 0s 17ms/step - loss: 0.0169 - accuracy: 0.9970 - val_loss: 0.0372 - val_accuracy: 0.9745\n",
      "Epoch 127/1000\n",
      "25/25 [==============================] - 0s 17ms/step - loss: 0.0180 - accuracy: 0.9949 - val_loss: 0.0373 - val_accuracy: 0.9766\n",
      "Epoch 128/1000\n",
      "25/25 [==============================] - 0s 17ms/step - loss: 0.0193 - accuracy: 0.9939 - val_loss: 0.0372 - val_accuracy: 0.9766\n",
      "Epoch 129/1000\n",
      "25/25 [==============================] - 0s 16ms/step - loss: 0.0135 - accuracy: 0.9970 - val_loss: 0.0371 - val_accuracy: 0.9745\n",
      "Epoch 130/1000\n",
      "25/25 [==============================] - 0s 17ms/step - loss: 0.0150 - accuracy: 0.9939 - val_loss: 0.0370 - val_accuracy: 0.9745\n",
      "Epoch 131/1000\n",
      "25/25 [==============================] - 0s 16ms/step - loss: 0.0204 - accuracy: 0.9939 - val_loss: 0.0372 - val_accuracy: 0.9766\n",
      "Epoch 132/1000\n",
      "25/25 [==============================] - 0s 17ms/step - loss: 0.0167 - accuracy: 0.9929 - val_loss: 0.0372 - val_accuracy: 0.9766\n",
      "Epoch 133/1000\n",
      "25/25 [==============================] - 0s 17ms/step - loss: 0.0174 - accuracy: 0.9939 - val_loss: 0.0372 - val_accuracy: 0.9766\n",
      "Epoch 134/1000\n",
      "25/25 [==============================] - 0s 17ms/step - loss: 0.0152 - accuracy: 0.9949 - val_loss: 0.0373 - val_accuracy: 0.9766\n",
      "Epoch 135/1000\n",
      "25/25 [==============================] - 0s 17ms/step - loss: 0.0164 - accuracy: 0.9959 - val_loss: 0.0373 - val_accuracy: 0.9766\n",
      "Epoch 136/1000\n",
      "25/25 [==============================] - 0s 16ms/step - loss: 0.0126 - accuracy: 0.9949 - val_loss: 0.0374 - val_accuracy: 0.9766\n",
      "Epoch 137/1000\n",
      "25/25 [==============================] - 0s 17ms/step - loss: 0.0173 - accuracy: 0.9919 - val_loss: 0.0375 - val_accuracy: 0.9766\n",
      "Epoch 138/1000\n",
      "25/25 [==============================] - 0s 17ms/step - loss: 0.0211 - accuracy: 0.9929 - val_loss: 0.0374 - val_accuracy: 0.9766\n",
      "Epoch 139/1000\n",
      "25/25 [==============================] - 0s 17ms/step - loss: 0.0161 - accuracy: 0.9929 - val_loss: 0.0372 - val_accuracy: 0.9766\n",
      "Epoch 140/1000\n",
      "25/25 [==============================] - 0s 16ms/step - loss: 0.0170 - accuracy: 0.9939 - val_loss: 0.0371 - val_accuracy: 0.9766\n",
      "Epoch 141/1000\n",
      "25/25 [==============================] - 0s 17ms/step - loss: 0.0144 - accuracy: 0.9949 - val_loss: 0.0370 - val_accuracy: 0.9766\n",
      "Epoch 142/1000\n",
      "25/25 [==============================] - 0s 17ms/step - loss: 0.0150 - accuracy: 0.9949 - val_loss: 0.0371 - val_accuracy: 0.9766\n",
      "Epoch 143/1000\n",
      "25/25 [==============================] - 0s 17ms/step - loss: 0.0192 - accuracy: 0.9929 - val_loss: 0.0371 - val_accuracy: 0.9766\n",
      "Epoch 144/1000\n",
      "25/25 [==============================] - 0s 16ms/step - loss: 0.0159 - accuracy: 0.9939 - val_loss: 0.0371 - val_accuracy: 0.9766\n",
      "Epoch 145/1000\n",
      "25/25 [==============================] - 0s 17ms/step - loss: 0.0192 - accuracy: 0.9949 - val_loss: 0.0370 - val_accuracy: 0.9766\n",
      "Epoch 146/1000\n",
      "25/25 [==============================] - 0s 17ms/step - loss: 0.0161 - accuracy: 0.9959 - val_loss: 0.0371 - val_accuracy: 0.9766\n",
      "Epoch 147/1000\n",
      "25/25 [==============================] - 0s 17ms/step - loss: 0.0169 - accuracy: 0.9929 - val_loss: 0.0372 - val_accuracy: 0.9766\n",
      "Epoch 148/1000\n",
      "25/25 [==============================] - 0s 17ms/step - loss: 0.0145 - accuracy: 0.9959 - val_loss: 0.0372 - val_accuracy: 0.9766\n",
      "Epoch 149/1000\n",
      "25/25 [==============================] - 0s 16ms/step - loss: 0.0175 - accuracy: 0.9949 - val_loss: 0.0372 - val_accuracy: 0.9766\n",
      "Epoch 150/1000\n",
      "25/25 [==============================] - 0s 17ms/step - loss: 0.0125 - accuracy: 0.9959 - val_loss: 0.0372 - val_accuracy: 0.9766\n",
      "Epoch 151/1000\n",
      "25/25 [==============================] - 0s 17ms/step - loss: 0.0162 - accuracy: 0.9949 - val_loss: 0.0373 - val_accuracy: 0.9766\n",
      "\n",
      "Epoch 00151: ReduceLROnPlateau reducing learning rate to 1e-06.\n",
      "Epoch 152/1000\n",
      "25/25 [==============================] - 0s 16ms/step - loss: 0.0152 - accuracy: 0.9959 - val_loss: 0.0372 - val_accuracy: 0.9766\n",
      "Epoch 153/1000\n",
      "25/25 [==============================] - 0s 17ms/step - loss: 0.0213 - accuracy: 0.9898 - val_loss: 0.0370 - val_accuracy: 0.9766\n",
      "Epoch 154/1000\n",
      "25/25 [==============================] - 0s 16ms/step - loss: 0.0159 - accuracy: 0.9949 - val_loss: 0.0370 - val_accuracy: 0.9766\n",
      "Epoch 155/1000\n",
      "25/25 [==============================] - 0s 16ms/step - loss: 0.0189 - accuracy: 0.9929 - val_loss: 0.0371 - val_accuracy: 0.9766\n",
      "Epoch 156/1000\n",
      "25/25 [==============================] - 0s 17ms/step - loss: 0.0158 - accuracy: 0.9959 - val_loss: 0.0371 - val_accuracy: 0.9766\n",
      "Epoch 157/1000\n",
      "25/25 [==============================] - 0s 17ms/step - loss: 0.0185 - accuracy: 0.9959 - val_loss: 0.0372 - val_accuracy: 0.9766\n",
      "Epoch 158/1000\n",
      "25/25 [==============================] - 0s 16ms/step - loss: 0.0172 - accuracy: 0.9939 - val_loss: 0.0373 - val_accuracy: 0.9766\n",
      "Epoch 159/1000\n",
      "25/25 [==============================] - 0s 17ms/step - loss: 0.0140 - accuracy: 0.9949 - val_loss: 0.0374 - val_accuracy: 0.9766\n",
      "Epoch 160/1000\n",
      "25/25 [==============================] - 0s 17ms/step - loss: 0.0143 - accuracy: 0.9939 - val_loss: 0.0374 - val_accuracy: 0.9766\n",
      "Epoch 161/1000\n",
      "25/25 [==============================] - 0s 17ms/step - loss: 0.0127 - accuracy: 0.9949 - val_loss: 0.0376 - val_accuracy: 0.9788\n",
      "Epoch 162/1000\n",
      "25/25 [==============================] - 0s 17ms/step - loss: 0.0177 - accuracy: 0.9959 - val_loss: 0.0376 - val_accuracy: 0.9788\n",
      "Epoch 163/1000\n",
      "25/25 [==============================] - 0s 17ms/step - loss: 0.0156 - accuracy: 0.9949 - val_loss: 0.0376 - val_accuracy: 0.9788\n",
      "Epoch 164/1000\n",
      "25/25 [==============================] - 0s 17ms/step - loss: 0.0185 - accuracy: 0.9929 - val_loss: 0.0376 - val_accuracy: 0.9788\n",
      "Epoch 165/1000\n",
      "25/25 [==============================] - 0s 17ms/step - loss: 0.0155 - accuracy: 0.9939 - val_loss: 0.0377 - val_accuracy: 0.9788\n",
      "Epoch 166/1000\n",
      "25/25 [==============================] - 0s 17ms/step - loss: 0.0176 - accuracy: 0.9939 - val_loss: 0.0378 - val_accuracy: 0.9788\n",
      "Epoch 167/1000\n",
      "25/25 [==============================] - 0s 17ms/step - loss: 0.0209 - accuracy: 0.9919 - val_loss: 0.0377 - val_accuracy: 0.9788\n",
      "Epoch 168/1000\n",
      "25/25 [==============================] - 0s 17ms/step - loss: 0.0186 - accuracy: 0.9909 - val_loss: 0.0376 - val_accuracy: 0.9788\n",
      "Epoch 169/1000\n",
      "25/25 [==============================] - 0s 17ms/step - loss: 0.0202 - accuracy: 0.9909 - val_loss: 0.0376 - val_accuracy: 0.9788\n",
      "Epoch 170/1000\n",
      "25/25 [==============================] - 0s 17ms/step - loss: 0.0134 - accuracy: 0.9970 - val_loss: 0.0377 - val_accuracy: 0.9788\n",
      "Epoch 171/1000\n",
      "25/25 [==============================] - 0s 17ms/step - loss: 0.0121 - accuracy: 0.9970 - val_loss: 0.0377 - val_accuracy: 0.9788\n",
      "Epoch 172/1000\n",
      "25/25 [==============================] - 0s 16ms/step - loss: 0.0140 - accuracy: 0.9970 - val_loss: 0.0377 - val_accuracy: 0.9788\n",
      "Epoch 173/1000\n",
      "25/25 [==============================] - 0s 17ms/step - loss: 0.0175 - accuracy: 0.9949 - val_loss: 0.0379 - val_accuracy: 0.9809\n",
      "Epoch 174/1000\n",
      "25/25 [==============================] - 0s 17ms/step - loss: 0.0191 - accuracy: 0.9919 - val_loss: 0.0378 - val_accuracy: 0.9788\n",
      "Epoch 175/1000\n",
      "25/25 [==============================] - 0s 16ms/step - loss: 0.0113 - accuracy: 0.9990 - val_loss: 0.0380 - val_accuracy: 0.9809\n",
      "Epoch 176/1000\n",
      "25/25 [==============================] - 0s 17ms/step - loss: 0.0134 - accuracy: 0.9970 - val_loss: 0.0381 - val_accuracy: 0.9809\n",
      "Epoch 177/1000\n",
      "25/25 [==============================] - 0s 16ms/step - loss: 0.0134 - accuracy: 0.9959 - val_loss: 0.0381 - val_accuracy: 0.9809\n",
      "Epoch 178/1000\n",
      "25/25 [==============================] - 0s 17ms/step - loss: 0.0165 - accuracy: 0.9970 - val_loss: 0.0380 - val_accuracy: 0.9809\n",
      "Epoch 179/1000\n",
      "25/25 [==============================] - 0s 17ms/step - loss: 0.0123 - accuracy: 0.9970 - val_loss: 0.0381 - val_accuracy: 0.9809\n",
      "Epoch 180/1000\n",
      "25/25 [==============================] - 0s 17ms/step - loss: 0.0168 - accuracy: 0.9939 - val_loss: 0.0381 - val_accuracy: 0.9809\n",
      "Epoch 181/1000\n",
      "25/25 [==============================] - 0s 16ms/step - loss: 0.0179 - accuracy: 0.9939 - val_loss: 0.0382 - val_accuracy: 0.9809\n",
      "Epoch 182/1000\n",
      "25/25 [==============================] - 0s 17ms/step - loss: 0.0160 - accuracy: 0.9949 - val_loss: 0.0380 - val_accuracy: 0.9788\n",
      "Epoch 183/1000\n",
      "25/25 [==============================] - 0s 16ms/step - loss: 0.0153 - accuracy: 0.9949 - val_loss: 0.0379 - val_accuracy: 0.9788\n",
      "Epoch 184/1000\n",
      "25/25 [==============================] - 0s 17ms/step - loss: 0.0124 - accuracy: 0.9980 - val_loss: 0.0378 - val_accuracy: 0.9788\n",
      "Epoch 185/1000\n",
      "25/25 [==============================] - 0s 17ms/step - loss: 0.0165 - accuracy: 0.9959 - val_loss: 0.0378 - val_accuracy: 0.9788\n",
      "Epoch 186/1000\n",
      "25/25 [==============================] - 0s 16ms/step - loss: 0.0234 - accuracy: 0.9898 - val_loss: 0.0378 - val_accuracy: 0.9788\n",
      "Epoch 187/1000\n",
      "25/25 [==============================] - 0s 17ms/step - loss: 0.0183 - accuracy: 0.9949 - val_loss: 0.0378 - val_accuracy: 0.9766\n",
      "Epoch 188/1000\n",
      "25/25 [==============================] - 0s 17ms/step - loss: 0.0127 - accuracy: 0.9959 - val_loss: 0.0379 - val_accuracy: 0.9766\n",
      "Epoch 189/1000\n",
      "25/25 [==============================] - 0s 17ms/step - loss: 0.0196 - accuracy: 0.9909 - val_loss: 0.0380 - val_accuracy: 0.9788\n",
      "Epoch 190/1000\n",
      "25/25 [==============================] - 0s 17ms/step - loss: 0.0178 - accuracy: 0.9939 - val_loss: 0.0380 - val_accuracy: 0.9766\n",
      "Epoch 191/1000\n",
      "25/25 [==============================] - 0s 16ms/step - loss: 0.0188 - accuracy: 0.9929 - val_loss: 0.0380 - val_accuracy: 0.9788\n",
      "Epoch 192/1000\n",
      "25/25 [==============================] - 0s 17ms/step - loss: 0.0171 - accuracy: 0.9939 - val_loss: 0.0381 - val_accuracy: 0.9788\n",
      "Epoch 193/1000\n",
      "25/25 [==============================] - 0s 16ms/step - loss: 0.0175 - accuracy: 0.9949 - val_loss: 0.0381 - val_accuracy: 0.9788\n",
      "Epoch 194/1000\n",
      "25/25 [==============================] - 0s 16ms/step - loss: 0.0142 - accuracy: 0.9949 - val_loss: 0.0381 - val_accuracy: 0.9788\n",
      "Epoch 195/1000\n",
      "25/25 [==============================] - 0s 17ms/step - loss: 0.0130 - accuracy: 0.9959 - val_loss: 0.0380 - val_accuracy: 0.9788\n",
      "Epoch 196/1000\n",
      "25/25 [==============================] - 0s 17ms/step - loss: 0.0106 - accuracy: 0.9970 - val_loss: 0.0377 - val_accuracy: 0.9766\n",
      "Epoch 197/1000\n",
      "25/25 [==============================] - 0s 17ms/step - loss: 0.0175 - accuracy: 0.9929 - val_loss: 0.0375 - val_accuracy: 0.9766\n",
      "Epoch 198/1000\n",
      "25/25 [==============================] - 0s 17ms/step - loss: 0.0159 - accuracy: 0.9949 - val_loss: 0.0375 - val_accuracy: 0.9766\n",
      "Epoch 199/1000\n",
      "25/25 [==============================] - 0s 17ms/step - loss: 0.0169 - accuracy: 0.9939 - val_loss: 0.0375 - val_accuracy: 0.9766\n",
      "Epoch 200/1000\n",
      "25/25 [==============================] - 0s 17ms/step - loss: 0.0180 - accuracy: 0.9939 - val_loss: 0.0375 - val_accuracy: 0.9766\n",
      "Epoch 201/1000\n",
      "25/25 [==============================] - 0s 17ms/step - loss: 0.0165 - accuracy: 0.9929 - val_loss: 0.0376 - val_accuracy: 0.9766\n",
      "Epoch 202/1000\n",
      "25/25 [==============================] - 0s 17ms/step - loss: 0.0175 - accuracy: 0.9929 - val_loss: 0.0376 - val_accuracy: 0.9766\n",
      "Epoch 203/1000\n",
      "25/25 [==============================] - 0s 17ms/step - loss: 0.0194 - accuracy: 0.9919 - val_loss: 0.0376 - val_accuracy: 0.9766\n",
      "Epoch 204/1000\n",
      "25/25 [==============================] - 0s 17ms/step - loss: 0.0124 - accuracy: 0.9980 - val_loss: 0.0376 - val_accuracy: 0.9766\n",
      "Epoch 205/1000\n",
      "25/25 [==============================] - 0s 17ms/step - loss: 0.0187 - accuracy: 0.9939 - val_loss: 0.0375 - val_accuracy: 0.9766\n",
      "Epoch 206/1000\n",
      "25/25 [==============================] - 0s 17ms/step - loss: 0.0113 - accuracy: 0.9959 - val_loss: 0.0375 - val_accuracy: 0.9766\n",
      "Epoch 207/1000\n",
      "25/25 [==============================] - 0s 17ms/step - loss: 0.0185 - accuracy: 0.9949 - val_loss: 0.0375 - val_accuracy: 0.9766\n",
      "Epoch 208/1000\n",
      "25/25 [==============================] - 0s 17ms/step - loss: 0.0173 - accuracy: 0.9929 - val_loss: 0.0375 - val_accuracy: 0.9766\n",
      "Epoch 209/1000\n",
      "25/25 [==============================] - 0s 17ms/step - loss: 0.0168 - accuracy: 0.9939 - val_loss: 0.0377 - val_accuracy: 0.9766\n",
      "Epoch 210/1000\n",
      "25/25 [==============================] - 0s 17ms/step - loss: 0.0145 - accuracy: 0.9959 - val_loss: 0.0377 - val_accuracy: 0.9766\n",
      "Epoch 211/1000\n",
      "25/25 [==============================] - 0s 17ms/step - loss: 0.0172 - accuracy: 0.9939 - val_loss: 0.0377 - val_accuracy: 0.9766\n",
      "Epoch 212/1000\n",
      "25/25 [==============================] - 0s 16ms/step - loss: 0.0175 - accuracy: 0.9949 - val_loss: 0.0377 - val_accuracy: 0.9788\n",
      "Epoch 213/1000\n",
      "25/25 [==============================] - 0s 17ms/step - loss: 0.0167 - accuracy: 0.9949 - val_loss: 0.0377 - val_accuracy: 0.9766\n",
      "Epoch 214/1000\n",
      "25/25 [==============================] - 0s 16ms/step - loss: 0.0139 - accuracy: 0.9959 - val_loss: 0.0376 - val_accuracy: 0.9766\n",
      "Epoch 215/1000\n",
      "25/25 [==============================] - 0s 17ms/step - loss: 0.0181 - accuracy: 0.9929 - val_loss: 0.0375 - val_accuracy: 0.9766\n",
      "Epoch 216/1000\n",
      "25/25 [==============================] - 0s 17ms/step - loss: 0.0124 - accuracy: 0.9959 - val_loss: 0.0375 - val_accuracy: 0.9766\n",
      "Epoch 217/1000\n",
      "25/25 [==============================] - 0s 17ms/step - loss: 0.0158 - accuracy: 0.9970 - val_loss: 0.0374 - val_accuracy: 0.9766\n",
      "Epoch 218/1000\n",
      "25/25 [==============================] - 0s 17ms/step - loss: 0.0128 - accuracy: 0.9980 - val_loss: 0.0374 - val_accuracy: 0.9766\n",
      "Epoch 219/1000\n",
      "25/25 [==============================] - 0s 17ms/step - loss: 0.0176 - accuracy: 0.9929 - val_loss: 0.0375 - val_accuracy: 0.9766\n",
      "Epoch 220/1000\n",
      "25/25 [==============================] - 0s 17ms/step - loss: 0.0163 - accuracy: 0.9939 - val_loss: 0.0374 - val_accuracy: 0.9766\n",
      "Epoch 221/1000\n",
      "25/25 [==============================] - 0s 17ms/step - loss: 0.0134 - accuracy: 0.9959 - val_loss: 0.0373 - val_accuracy: 0.9766\n",
      "Epoch 222/1000\n",
      "25/25 [==============================] - 0s 17ms/step - loss: 0.0176 - accuracy: 0.9929 - val_loss: 0.0370 - val_accuracy: 0.9766\n",
      "Epoch 223/1000\n",
      "25/25 [==============================] - 0s 17ms/step - loss: 0.0140 - accuracy: 0.9959 - val_loss: 0.0369 - val_accuracy: 0.9766\n",
      "Epoch 224/1000\n",
      "25/25 [==============================] - 0s 16ms/step - loss: 0.0143 - accuracy: 0.9949 - val_loss: 0.0369 - val_accuracy: 0.9766\n",
      "Epoch 225/1000\n",
      "25/25 [==============================] - 0s 17ms/step - loss: 0.0151 - accuracy: 0.9959 - val_loss: 0.0370 - val_accuracy: 0.9766\n",
      "Epoch 226/1000\n",
      "25/25 [==============================] - 0s 17ms/step - loss: 0.0147 - accuracy: 0.9949 - val_loss: 0.0372 - val_accuracy: 0.9766\n",
      "Epoch 227/1000\n",
      "25/25 [==============================] - 0s 17ms/step - loss: 0.0141 - accuracy: 0.9959 - val_loss: 0.0371 - val_accuracy: 0.9766\n",
      "Epoch 228/1000\n",
      "25/25 [==============================] - 0s 17ms/step - loss: 0.0132 - accuracy: 0.9959 - val_loss: 0.0369 - val_accuracy: 0.9745\n",
      "Epoch 229/1000\n",
      "25/25 [==============================] - 0s 16ms/step - loss: 0.0140 - accuracy: 0.9970 - val_loss: 0.0366 - val_accuracy: 0.9745\n",
      "Epoch 230/1000\n",
      "25/25 [==============================] - 0s 17ms/step - loss: 0.0130 - accuracy: 0.9990 - val_loss: 0.0368 - val_accuracy: 0.9766\n",
      "Epoch 231/1000\n",
      "25/25 [==============================] - 0s 17ms/step - loss: 0.0154 - accuracy: 0.9949 - val_loss: 0.0369 - val_accuracy: 0.9766\n",
      "Epoch 00231: early stopping\n"
     ]
    }
   ],
   "source": [
    "# Train Model\n",
    "history = model.fit(\n",
    "    X_train_series,\n",
    "    y_train_series,\n",
    "    validation_data=(X_val_series, y_val_series),\n",
    "    epochs=cfg.epochs,\n",
    "    callbacks=callbacks,\n",
    "    batch_size=cfg.batch_size,\n",
    ")"
   ]
  },
  {
   "cell_type": "markdown",
   "metadata": {},
   "source": [
    "### Evaluate the model"
   ]
  },
  {
   "cell_type": "code",
   "execution_count": 54,
   "metadata": {},
   "outputs": [
    {
     "name": "stdout",
     "output_type": "stream",
     "text": [
      "8/8 [==============================] - 0s 5ms/step\n"
     ]
    }
   ],
   "source": [
    "val_logits = model.predict(X_val_series, batch_size=60, verbose=1)"
   ]
  },
  {
   "cell_type": "code",
   "execution_count": 55,
   "metadata": {},
   "outputs": [],
   "source": [
    "# free up memory\n",
    "# del X_train_series\n",
    "# del y_train_series\n",
    "# del X_val_series\n",
    "# del y_val_series\n",
    "\n",
    "# gc.collect()"
   ]
  },
  {
   "cell_type": "markdown",
   "metadata": {},
   "source": [
    "### Log metrics to wandb"
   ]
  },
  {
   "cell_type": "code",
   "execution_count": 60,
   "metadata": {},
   "outputs": [],
   "source": [
    "y_pred_val_classes = np.argmax(val_logits, axis=1).tolist()\n",
    "\n",
    "cr = classification_report(y_val_series, y_pred_val_classes)\n",
    "\n",
    "# wandb.log({\"Classification Report\": cr})\n",
    "\n",
    "# wandb.sklearn.plot_roc(y_val_series, val_logits, classes)\n",
    "# wandb.sklearn.plot_class_proportions(y_train_series, y_val_series, classes)\n",
    "# wandb.sklearn.plot_precision_recall(y_val_series, val_logits, classes)\n",
    "# wandb.sklearn.plot_confusion_matrix(y_val_series, y_pred_val_classes, classes)\n",
    "# wandb.join()"
   ]
  },
  {
   "cell_type": "markdown",
   "metadata": {},
   "source": [
    "### Classification report"
   ]
  },
  {
   "cell_type": "code",
   "execution_count": 61,
   "metadata": {},
   "outputs": [
    {
     "name": "stdout",
     "output_type": "stream",
     "text": [
      "              precision    recall  f1-score   support\n",
      "\n",
      "           0       0.98      0.99      0.99       463\n",
      "           1       0.00      0.00      0.00         8\n",
      "\n",
      "    accuracy                           0.98       471\n",
      "   macro avg       0.49      0.50      0.49       471\n",
      "weighted avg       0.97      0.98      0.97       471\n",
      "\n"
     ]
    }
   ],
   "source": [
    "print(cr)"
   ]
  },
  {
   "cell_type": "code",
   "execution_count": null,
   "metadata": {},
   "outputs": [],
   "source": []
  }
 ],
 "metadata": {
  "interpreter": {
   "hash": "045da2998f02dde6c755b0fa2e74d8766d7d056d6163358ab445ad432d6df67f"
  },
  "kernelspec": {
   "display_name": "Python 3 (ipykernel)",
   "language": "python",
   "name": "python3"
  },
  "language_info": {
   "codemirror_mode": {
    "name": "ipython",
    "version": 3
   },
   "file_extension": ".py",
   "mimetype": "text/x-python",
   "name": "python",
   "nbconvert_exporter": "python",
   "pygments_lexer": "ipython3",
   "version": "3.9.12"
  }
 },
 "nbformat": 4,
 "nbformat_minor": 4
}
