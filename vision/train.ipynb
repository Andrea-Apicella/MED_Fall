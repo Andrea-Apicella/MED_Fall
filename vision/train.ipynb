{
 "cells": [
  {
   "cell_type": "code",
   "execution_count": 5,
   "metadata": {},
   "outputs": [
    {
     "name": "stdout",
     "output_type": "stream",
     "text": [
      "The autoreload extension is already loaded. To reload it, use:\n",
      "  %reload_ext autoreload\n"
     ]
    }
   ],
   "source": [
    "%load_ext autoreload\n",
    "%autoreload 2"
   ]
  },
  {
   "cell_type": "code",
   "execution_count": 6,
   "metadata": {},
   "outputs": [],
   "source": [
    "# Evaluating CNN+RNN models on the dataset\n",
    "\n",
    "# Imports\n",
    "import gc\n",
    "import os, random\n",
    "from collections import Counter\n",
    "from datetime import datetime\n",
    "\n",
    "import numpy as np\n",
    "import tensorflow as tf\n",
    "from sklearn.metrics import classification_report\n",
    "\n",
    "from tensorflow.keras.callbacks import ModelCheckpoint, EarlyStopping, ReduceLROnPlateau\n",
    "from tensorflow.keras.layers import LSTM, Dense, Dropout\n",
    "from tensorflow.keras.models import Sequential\n",
    "from wandb.keras import WandbCallback\n",
    "\n",
    "import wandb\n",
    "from wp8.pre_processing.utils import safe_mkdir\n",
    "from wp8.utils.cnn_rnn_utils import load_and_split\n",
    "from wp8.utils.dataset import TimeSeriesGenerator as TSG"
   ]
  },
  {
   "cell_type": "code",
   "execution_count": 7,
   "metadata": {},
   "outputs": [],
   "source": [
    "os.environ[\"TF_CUDNN_DETERMINISTIC\"] = \"1\"\n",
    "random.seed(hash(\"setting random seeds\") % 2**32 - 1)\n",
    "np.random.seed(hash(\"improves reproducibility\") % 2**32 - 1)\n",
    "tf.random.set_seed(hash(\"by removing stochasticity\") % 2**32 - 1)\n"
   ]
  },
  {
   "cell_type": "code",
   "execution_count": 8,
   "metadata": {},
   "outputs": [],
   "source": [
    "class dotdict(dict):\n",
    "    \"\"\"dot.notation access to dictionary attributes\"\"\"\n",
    "\n",
    "    __getattr__ = dict.get\n",
    "    __setattr__ = dict.__setitem__\n",
    "    __delattr__ = dict.__delitem__\n",
    "\n",
    "\n",
    "opt = dotdict(\n",
    "    {\n",
    "        \"lstm1_units\": 128,\n",
    "        \"lstm2_units\": 64,\n",
    "        \"dense_units\": 32,\n",
    "        \"dropout\": 0.5,\n",
    "        \"epochs\": 1000,\n",
    "        \"train_actors\": [1],\n",
    "        \"val_actors\": [2],\n",
    "        \"train_cams\": [1],\n",
    "        \"val_cams\": [1],\n",
    "        \"seq_len\": 20,\n",
    "        \"split_ratio\": None,\n",
    "        \"drop_offair\": False,\n",
    "        \"undersample\": False,\n",
    "        \"batch_size\": 40,\n",
    "        \"stride\": 10,\n",
    "        \"learning_rate\": 1e-4,\n",
    "        \"micro_classes\": False,\n",
    "    }\n",
    ")\n"
   ]
  },
  {
   "cell_type": "code",
   "execution_count": 9,
   "metadata": {},
   "outputs": [
    {
     "name": "stdout",
     "output_type": "stream",
     "text": [
      "[STATUS] Load Train Set\n"
     ]
    },
    {
     "name": "stderr",
     "output_type": "stream",
     "text": [
      "Loading features: outputs/dataset/features/Actor_1_Walk_Stick_Full_PH.npz: 100%|██████████| 16/16 [00:19<00:00,  1.24s/it]\n",
      "Loading csv datasets: 100%|██████████| 16/16 [00:02<00:00,  6.17it/s]\n"
     ]
    },
    {
     "name": "stdout",
     "output_type": "stream",
     "text": [
      "[STATUS] Load Val Set\n"
     ]
    },
    {
     "name": "stderr",
     "output_type": "stream",
     "text": [
      "Loading features: outputs/dataset/features/Actor_2_Walk_Stick_Full_PH.npz: 100%|██████████| 19/19 [00:17<00:00,  1.07it/s]\n",
      "Loading csv datasets: 100%|██████████| 19/19 [00:00<00:00, 51.25it/s]\n"
     ]
    },
    {
     "name": "stdout",
     "output_type": "stream",
     "text": [
      "\n",
      "X_train shape: (60480, 2048), len y_train: 60480, X_val shape: (57120, 2048), len y_val: 57120\n",
      "\n"
     ]
    }
   ],
   "source": [
    "X_train, y_train, X_val, y_val, cams_train, cams_val = load_and_split(\n",
    "    opt.train_actors, opt.val_actors, opt.train_cams, opt.val_cams, opt.split_ratio, opt.drop_offair, opt.undersample, opt.micro_classes\n",
    ")\n",
    "print(f\"\\nX_train shape: {X_train.shape}, len y_train: {len(y_train)}, X_val shape: {X_val.shape}, len y_val: {len(y_val)}\\n\")\n"
   ]
  },
  {
   "cell_type": "code",
   "execution_count": 10,
   "metadata": {},
   "outputs": [
    {
     "name": "stderr",
     "output_type": "stream",
     "text": [
      "100%|██████████| 4536/4536 [00:00<00:00, 169867.80it/s]\n"
     ]
    },
    {
     "name": "stdout",
     "output_type": "stream",
     "text": [
      "Classes mapping:\n",
      "{'adl': 1, 'falling': 2, 'lying_down': 3}\n",
      "\n",
      "Class weights for train series:\n",
      "[0.47772512 4.99009901 1.41573034]\n"
     ]
    },
    {
     "name": "stderr",
     "output_type": "stream",
     "text": [
      "100%|██████████| 4284/4284 [00:00<00:00, 180053.09it/s]\n"
     ]
    },
    {
     "name": "stdout",
     "output_type": "stream",
     "text": [
      "\n",
      "X_train_series shape: (4536, 20, 2048), len y_train_series: 4536, X_val_series shape: (4284, 20, 2048), len y_val_series: 4284\n",
      "\n"
     ]
    }
   ],
   "source": [
    "series_gen = TSG(opt)\n",
    "X_train_series, y_train_series, class_weights, classes = series_gen.get_train_series(X_train, y_train, cams_train)\n",
    "X_val_series, y_val_series = series_gen.get_val_series(X_val, y_val, cams_val)\n",
    "print(f\"\\nX_train_series shape: {X_train_series.shape}, len y_train_series: {len(y_train_series)}, X_val_series shape: {X_val_series.shape}, len y_val_series: {len(y_val_series)}\\n\")\n"
   ]
  },
  {
   "cell_type": "code",
   "execution_count": 11,
   "metadata": {},
   "outputs": [
    {
     "name": "stdout",
     "output_type": "stream",
     "text": [
      "Before resampling - y_train_series shape: Counter({0: 3165, 2: 1068, 1: 303})\n"
     ]
    }
   ],
   "source": [
    "print(f\"Before resampling - y_train_series shape: {Counter(y_train_series)}\")"
   ]
  },
  {
   "cell_type": "markdown",
   "metadata": {},
   "source": [
    "### Resampling\n"
   ]
  },
  {
   "cell_type": "code",
   "execution_count": 12,
   "metadata": {},
   "outputs": [],
   "source": [
    "from imblearn.under_sampling import RandomUnderSampler\n",
    "from imblearn.over_sampling import RandomOverSampler\n",
    "from imblearn.pipeline import Pipeline\n",
    "from imblearn.combine import SMOTETomek\n",
    "import copy\n",
    "\n",
    "undersampling_strategy = {0: 3000, 2: 3000, 1: 3000}\n",
    "oversampling_strategy = {0: 23890, 2: 6437, 1: 4000}\n",
    "under = RandomUnderSampler(random_state=2, sampling_strategy=undersampling_strategy)\n",
    "over = RandomOverSampler(random_state=2, sampling_strategy=oversampling_strategy)\n",
    "steps = [(\"o\", over), (\"u\", under)]\n",
    "pipeline = Pipeline(steps=steps)\n",
    "# smt = SMOTETomek(random_state=2)\n"
   ]
  },
  {
   "cell_type": "code",
   "execution_count": 13,
   "metadata": {},
   "outputs": [
    {
     "name": "stdout",
     "output_type": "stream",
     "text": [
      "Original X_train_series shape: (4536, 20, 2048)\n",
      "X_train_series reshaped: (4536, 40960)\n"
     ]
    },
    {
     "name": "stderr",
     "output_type": "stream",
     "text": [
      "/Users/andrea/miniforge3/envs/ml/lib/python3.9/site-packages/imblearn/utils/_validation.py:299: UserWarning: After over-sampling, the number of samples (23890) in class 0 will be larger than the number of samples in the majority class (class #0 -> 3165)\n",
      "  warnings.warn(\n",
      "/Users/andrea/miniforge3/envs/ml/lib/python3.9/site-packages/imblearn/utils/_validation.py:299: UserWarning: After over-sampling, the number of samples (6437) in class 2 will be larger than the number of samples in the majority class (class #0 -> 3165)\n",
      "  warnings.warn(\n",
      "/Users/andrea/miniforge3/envs/ml/lib/python3.9/site-packages/imblearn/utils/_validation.py:299: UserWarning: After over-sampling, the number of samples (4000) in class 1 will be larger than the number of samples in the majority class (class #0 -> 3165)\n",
      "  warnings.warn(\n"
     ]
    },
    {
     "name": "stdout",
     "output_type": "stream",
     "text": [
      "After resampling X_train_series shape: (9000, 20, 2048)\n",
      "After resampling - y_train_series count: Counter({0: 3000, 1: 3000, 2: 3000})\n"
     ]
    }
   ],
   "source": [
    "print(f\"Original X_train_series shape: {X_train_series.shape}\")\n",
    "\n",
    "X_train_series = np.reshape(X_train_series, (-1, 20 * 2048))\n",
    "print(f\"X_train_series reshaped: {X_train_series.shape}\")\n",
    "\n",
    "X_train_series, y_train_series = pipeline.fit_resample(X_train_series, y_train_series)\n",
    "\n",
    "X_train_series = np.reshape(X_train_series, (-1, 20, 2048))\n",
    "\n",
    "print(f\"After resampling X_train_series shape: {X_train_series.shape}\")\n",
    "print(f\"After resampling - y_train_series count: {Counter(y_train_series)}\")\n"
   ]
  },
  {
   "cell_type": "code",
   "execution_count": 14,
   "metadata": {},
   "outputs": [
    {
     "name": "stderr",
     "output_type": "stream",
     "text": [
      "\u001B[34m\u001B[1mwandb\u001B[0m: Currently logged in as: \u001B[33mandreaapi\u001B[0m. Use \u001B[1m`wandb login --relogin`\u001B[0m to force relogin\n"
     ]
    },
    {
     "data": {
      "text/plain": "<IPython.core.display.HTML object>",
      "text/html": "wandb version 0.12.21 is available!  To upgrade, please run:\n $ pip install wandb --upgrade"
     },
     "metadata": {},
     "output_type": "display_data"
    },
    {
     "data": {
      "text/plain": "<IPython.core.display.HTML object>",
      "text/html": "Tracking run with wandb version 0.12.16"
     },
     "metadata": {},
     "output_type": "display_data"
    },
    {
     "data": {
      "text/plain": "<IPython.core.display.HTML object>",
      "text/html": "Run data is saved locally in <code>/Users/andrea/Documents/Github/ALT_Frailty_WP8/wp8/wandb/run-20220720_175222-2u6it5m7</code>"
     },
     "metadata": {},
     "output_type": "display_data"
    },
    {
     "data": {
      "text/plain": "<IPython.core.display.HTML object>",
      "text/html": "Syncing run <strong><a href=\"https://wandb.ai/andreaapi/Fall%20detection%20CNN%20%2B%20RNN/runs/2u6it5m7\" target=\"_blank\">easy-snow-124</a></strong> to <a href=\"https://wandb.ai/andreaapi/Fall%20detection%20CNN%20%2B%20RNN\" target=\"_blank\">Weights & Biases</a> (<a href=\"https://wandb.me/run\" target=\"_blank\">docs</a>)<br/>"
     },
     "metadata": {},
     "output_type": "display_data"
    }
   ],
   "source": [
    "# WANDB project initialization\n",
    "run = wandb.init(\n",
    "    project=\"Fall detection CNN + RNN\",\n",
    "    config={\n",
    "        \"model\": \"LSTM\",\n",
    "        \"epochs\": opt.epochs,\n",
    "        \"seq_len\": opt.seq_len,\n",
    "        \"num_features\": 2048,\n",
    "        \"batch_size\": opt.batch_size,\n",
    "        \"stride\": opt.stride,\n",
    "        \"loss_function\": \"sparse_categorical_crossentropy\",\n",
    "        \"architecture\": \"LSTM\",\n",
    "        \"train_actors\": opt.train_actors,\n",
    "        \"val_actors\": opt.val_actors,\n",
    "        \"train_cams\": opt.train_cams,\n",
    "        \"val_cams\": opt.val_cams,\n",
    "        \"micro_classes\": opt.classes,\n",
    "        \"dropout\": opt.dropout,\n",
    "        \"lstm1_units\": opt.lstm1_units,\n",
    "        \"lstm2_units\": opt.lstm2_units,\n",
    "        \"dense_units\": opt.dense_units,\n",
    "        \"learning_rate\": opt.learning_rate,\n",
    "        \"split_ratio\": opt.split_ratio,\n",
    "        \"drop_offair\": opt.drop_offair,\n",
    "        \"undersample\": opt.undersample,\n",
    "    },\n",
    ")\n",
    "\n",
    "cfg = wandb.config\n"
   ]
  },
  {
   "cell_type": "code",
   "execution_count": 15,
   "metadata": {},
   "outputs": [
    {
     "name": "stdout",
     "output_type": "stream",
     "text": [
      "Metal device set to: Apple M1\n"
     ]
    },
    {
     "name": "stderr",
     "output_type": "stream",
     "text": [
      "2022-07-20 17:52:32.888313: I tensorflow/core/common_runtime/pluggable_device/pluggable_device_factory.cc:305] Could not identify NUMA node of platform GPU ID 0, defaulting to 0. Your kernel may not have been built with NUMA support.\n",
      "2022-07-20 17:52:32.889285: I tensorflow/core/common_runtime/pluggable_device/pluggable_device_factory.cc:271] Created TensorFlow device (/job:localhost/replica:0/task:0/device:GPU:0 with 0 MB memory) -> physical PluggableDevice (device: 0, name: METAL, pci bus id: <undefined>)\n"
     ]
    },
    {
     "name": "stdout",
     "output_type": "stream",
     "text": [
      "Model: \"sequential\"\n",
      "_________________________________________________________________\n",
      " Layer (type)                Output Shape              Param #   \n",
      "=================================================================\n",
      " lstm (LSTM)                 (None, 20, 128)           1114624   \n",
      "                                                                 \n",
      " dropout (Dropout)           (None, 20, 128)           0         \n",
      "                                                                 \n",
      " lstm_1 (LSTM)               (None, 64)                49408     \n",
      "                                                                 \n",
      " dropout_1 (Dropout)         (None, 64)                0         \n",
      "                                                                 \n",
      " dense (Dense)               (None, 32)                2080      \n",
      "                                                                 \n",
      " dropout_2 (Dropout)         (None, 32)                0         \n",
      "                                                                 \n",
      " dense_1 (Dense)             (None, 3)                 99        \n",
      "                                                                 \n",
      "=================================================================\n",
      "Total params: 1,166,211\n",
      "Trainable params: 1,166,211\n",
      "Non-trainable params: 0\n",
      "_________________________________________________________________\n"
     ]
    }
   ],
   "source": [
    "model = Sequential()\n",
    "model.add(LSTM(units=cfg.lstm1_units, input_shape=(cfg.seq_len, cfg.num_features), return_sequences=True))\n",
    "model.add(Dropout(cfg.dropout))\n",
    "model.add(LSTM(units=cfg.lstm2_units, input_shape=(cfg.seq_len, cfg.num_features), return_sequences=False))\n",
    "model.add(Dropout(cfg.dropout))\n",
    "model.add(Dense(units=cfg.dense_units, activation=\"relu\"))\n",
    "model.add(Dropout(cfg.dropout))\n",
    "model.add(Dense(units=np.unique(y_train_series, axis=0).shape[0], activation=\"softmax\"))\n",
    "model.compile(\n",
    "    optimizer=tf.keras.optimizers.Adam(learning_rate=cfg.learning_rate),\n",
    "    loss=cfg.loss_function,\n",
    "    metrics=[\"accuracy\"],\n",
    ")\n",
    "model.summary()\n"
   ]
  },
  {
   "cell_type": "code",
   "execution_count": 16,
   "metadata": {},
   "outputs": [
    {
     "name": "stderr",
     "output_type": "stream",
     "text": [
      "\u001B[34m\u001B[1mwandb\u001B[0m: \u001B[33mWARNING\u001B[0m The save_model argument by default saves the model in the HDF5 format that cannot save custom objects like subclassed models and custom layers. This behavior will be deprecated in a future release in favor of the SavedModel format. Meanwhile, the HDF5 model is saved as W&B files and the SavedModel as W&B Artifacts.\n"
     ]
    }
   ],
   "source": [
    "# Callbacks\n",
    "dir_path = f\"model_checkpoints/{cfg.model}\"\n",
    "safe_mkdir(dir_path)\n",
    "now = datetime.now()\n",
    "dt_string = now.strftime(\"%d-%m-%Y_%H:%M:%S\")\n",
    "\n",
    "model_checkpoint = ModelCheckpoint(\n",
    "    filepath=f\"{dir_path}/{cfg.model}_{dt_string}\",\n",
    "    monitor=\"val_accuracy\",\n",
    "    save_best_only=True,\n",
    "    save_weights_only=True,\n",
    "    initial_value_threshold=0.8,\n",
    "    verbose=1,\n",
    ")\n",
    "\n",
    "reduce_lr = ReduceLROnPlateau(\n",
    "    monitor=\"val_loss\",\n",
    "    factor=0.1,\n",
    "    patience=30,\n",
    "    verbose=1,\n",
    "    mode=\"min\",\n",
    "    min_delta=1e-5,\n",
    "    cooldown=1,\n",
    "    min_lr=1e-6,\n",
    ")\n",
    "\n",
    "early_stop = EarlyStopping(\n",
    "    monitor=\"val_loss\",\n",
    "    patience=20,\n",
    "    verbose=1,\n",
    "    mode=\"min\",\n",
    ")\n",
    "\n",
    "callbacks = [WandbCallback(), reduce_lr, early_stop]\n"
   ]
  },
  {
   "cell_type": "code",
   "execution_count": 17,
   "metadata": {},
   "outputs": [
    {
     "name": "stdout",
     "output_type": "stream",
     "text": [
      "Epoch 1/1000\n"
     ]
    },
    {
     "name": "stderr",
     "output_type": "stream",
     "text": [
      "2022-07-20 17:52:52.096401: W tensorflow/core/platform/profile_utils/cpu_utils.cc:128] Failed to get CPU frequency: 0 Hz\n",
      "2022-07-20 17:52:55.466836: I tensorflow/core/grappler/optimizers/custom_graph_optimizer_registry.cc:113] Plugin optimizer for device_type GPU is enabled.\n",
      "2022-07-20 17:52:55.978553: I tensorflow/core/grappler/optimizers/custom_graph_optimizer_registry.cc:113] Plugin optimizer for device_type GPU is enabled.\n",
      "2022-07-20 17:52:56.486865: I tensorflow/core/grappler/optimizers/custom_graph_optimizer_registry.cc:113] Plugin optimizer for device_type GPU is enabled.\n",
      "2022-07-20 17:52:57.423113: I tensorflow/core/grappler/optimizers/custom_graph_optimizer_registry.cc:113] Plugin optimizer for device_type GPU is enabled.\n",
      "2022-07-20 17:52:57.734301: I tensorflow/core/grappler/optimizers/custom_graph_optimizer_registry.cc:113] Plugin optimizer for device_type GPU is enabled.\n"
     ]
    },
    {
     "name": "stdout",
     "output_type": "stream",
     "text": [
      "224/225 [============================>.] - ETA: 0s - loss: 0.8997 - accuracy: 0.5417"
     ]
    },
    {
     "name": "stderr",
     "output_type": "stream",
     "text": [
      "2022-07-20 17:53:11.454673: I tensorflow/core/grappler/optimizers/custom_graph_optimizer_registry.cc:113] Plugin optimizer for device_type GPU is enabled.\n",
      "2022-07-20 17:53:11.670753: I tensorflow/core/grappler/optimizers/custom_graph_optimizer_registry.cc:113] Plugin optimizer for device_type GPU is enabled.\n",
      "2022-07-20 17:53:11.756692: I tensorflow/core/grappler/optimizers/custom_graph_optimizer_registry.cc:113] Plugin optimizer for device_type GPU is enabled.\n"
     ]
    },
    {
     "name": "stdout",
     "output_type": "stream",
     "text": [
      "225/225 [==============================] - 22s 71ms/step - loss: 0.8992 - accuracy: 0.5421 - val_loss: 0.9348 - val_accuracy: 0.6090 - _timestamp: 1658332393.0000 - _runtime: 51.0000 - lr: 1.0000e-04\n",
      "Epoch 2/1000\n",
      "225/225 [==============================] - 11s 47ms/step - loss: 0.6968 - accuracy: 0.6872 - val_loss: 0.9094 - val_accuracy: 0.5254 - _timestamp: 1658332404.0000 - _runtime: 62.0000 - lr: 1.0000e-04\n",
      "Epoch 3/1000\n",
      "225/225 [==============================] - 9s 40ms/step - loss: 0.5317 - accuracy: 0.8031 - val_loss: 0.8408 - val_accuracy: 0.6396 - _timestamp: 1658332413.0000 - _runtime: 71.0000 - lr: 1.0000e-04\n",
      "Epoch 4/1000\n",
      "225/225 [==============================] - 9s 40ms/step - loss: 0.4642 - accuracy: 0.8340 - val_loss: 0.8284 - val_accuracy: 0.6254 - _timestamp: 1658332422.0000 - _runtime: 80.0000 - lr: 1.0000e-04\n",
      "Epoch 5/1000\n",
      "225/225 [==============================] - 8s 35ms/step - loss: 0.4351 - accuracy: 0.8426 - val_loss: 0.7737 - val_accuracy: 0.6807 - _timestamp: 1658332430.0000 - _runtime: 88.0000 - lr: 1.0000e-04\n",
      "Epoch 6/1000\n",
      "225/225 [==============================] - 8s 34ms/step - loss: 0.4009 - accuracy: 0.8577 - val_loss: 0.8430 - val_accuracy: 0.6774 - _timestamp: 1658332438.0000 - _runtime: 96.0000 - lr: 1.0000e-04\n",
      "Epoch 7/1000\n",
      "225/225 [==============================] - 8s 36ms/step - loss: 0.3674 - accuracy: 0.8710 - val_loss: 0.8418 - val_accuracy: 0.6998 - _timestamp: 1658332446.0000 - _runtime: 104.0000 - lr: 1.0000e-04\n",
      "Epoch 8/1000\n",
      "225/225 [==============================] - 8s 35ms/step - loss: 0.3646 - accuracy: 0.8718 - val_loss: 0.8201 - val_accuracy: 0.7346 - _timestamp: 1658332454.0000 - _runtime: 112.0000 - lr: 1.0000e-04\n",
      "Epoch 9/1000\n",
      "225/225 [==============================] - 9s 40ms/step - loss: 0.3454 - accuracy: 0.8764 - val_loss: 0.8356 - val_accuracy: 0.6991 - _timestamp: 1658332463.0000 - _runtime: 121.0000 - lr: 1.0000e-04\n",
      "Epoch 10/1000\n",
      "225/225 [==============================] - 8s 37ms/step - loss: 0.3429 - accuracy: 0.8780 - val_loss: 0.8590 - val_accuracy: 0.7299 - _timestamp: 1658332471.0000 - _runtime: 129.0000 - lr: 1.0000e-04\n",
      "Epoch 11/1000\n",
      "225/225 [==============================] - 8s 37ms/step - loss: 0.3117 - accuracy: 0.8926 - val_loss: 0.8763 - val_accuracy: 0.7087 - _timestamp: 1658332480.0000 - _runtime: 138.0000 - lr: 1.0000e-04\n",
      "Epoch 12/1000\n",
      "225/225 [==============================] - 8s 35ms/step - loss: 0.3156 - accuracy: 0.8884 - val_loss: 0.9084 - val_accuracy: 0.6797 - _timestamp: 1658332488.0000 - _runtime: 146.0000 - lr: 1.0000e-04\n",
      "Epoch 13/1000\n",
      "225/225 [==============================] - 8s 34ms/step - loss: 0.3011 - accuracy: 0.8948 - val_loss: 0.9135 - val_accuracy: 0.6968 - _timestamp: 1658332495.0000 - _runtime: 153.0000 - lr: 1.0000e-04\n",
      "Epoch 14/1000\n",
      "225/225 [==============================] - 8s 34ms/step - loss: 0.2772 - accuracy: 0.9022 - val_loss: 0.9986 - val_accuracy: 0.7201 - _timestamp: 1658332503.0000 - _runtime: 161.0000 - lr: 1.0000e-04\n",
      "Epoch 15/1000\n",
      "225/225 [==============================] - 8s 34ms/step - loss: 0.2660 - accuracy: 0.9091 - val_loss: 1.0602 - val_accuracy: 0.7316 - _timestamp: 1658332511.0000 - _runtime: 169.0000 - lr: 1.0000e-04\n",
      "Epoch 16/1000\n",
      "225/225 [==============================] - 9s 40ms/step - loss: 0.2882 - accuracy: 0.9008 - val_loss: 0.9254 - val_accuracy: 0.6690 - _timestamp: 1658332520.0000 - _runtime: 178.0000 - lr: 1.0000e-04\n",
      "Epoch 17/1000\n",
      "225/225 [==============================] - 9s 39ms/step - loss: 0.2412 - accuracy: 0.9174 - val_loss: 1.1980 - val_accuracy: 0.6972 - _timestamp: 1658332529.0000 - _runtime: 187.0000 - lr: 1.0000e-04\n",
      "Epoch 18/1000\n",
      "225/225 [==============================] - 9s 38ms/step - loss: 0.2539 - accuracy: 0.9099 - val_loss: 1.1044 - val_accuracy: 0.7028 - _timestamp: 1658332537.0000 - _runtime: 195.0000 - lr: 1.0000e-04\n",
      "Epoch 19/1000\n",
      "225/225 [==============================] - 8s 35ms/step - loss: 0.2364 - accuracy: 0.9193 - val_loss: 1.1182 - val_accuracy: 0.6492 - _timestamp: 1658332545.0000 - _runtime: 203.0000 - lr: 1.0000e-04\n",
      "Epoch 20/1000\n",
      "225/225 [==============================] - 8s 34ms/step - loss: 0.2428 - accuracy: 0.9146 - val_loss: 1.0629 - val_accuracy: 0.7309 - _timestamp: 1658332553.0000 - _runtime: 211.0000 - lr: 1.0000e-04\n",
      "Epoch 21/1000\n",
      "225/225 [==============================] - 8s 34ms/step - loss: 0.2127 - accuracy: 0.9289 - val_loss: 1.2691 - val_accuracy: 0.6727 - _timestamp: 1658332561.0000 - _runtime: 219.0000 - lr: 1.0000e-04\n",
      "Epoch 22/1000\n",
      "225/225 [==============================] - 9s 38ms/step - loss: 0.2319 - accuracy: 0.9211 - val_loss: 1.2035 - val_accuracy: 0.6716 - _timestamp: 1658332569.0000 - _runtime: 227.0000 - lr: 1.0000e-04\n",
      "Epoch 23/1000\n",
      "225/225 [==============================] - 8s 34ms/step - loss: 0.2158 - accuracy: 0.9246 - val_loss: 1.2143 - val_accuracy: 0.6622 - _timestamp: 1658332577.0000 - _runtime: 235.0000 - lr: 1.0000e-04\n",
      "Epoch 24/1000\n",
      "225/225 [==============================] - 17s 78ms/step - loss: 0.2084 - accuracy: 0.9268 - val_loss: 1.3554 - val_accuracy: 0.6228 - _timestamp: 1658332595.0000 - _runtime: 253.0000 - lr: 1.0000e-04\n",
      "Epoch 25/1000\n",
      "225/225 [==============================] - 16s 69ms/step - loss: 0.1994 - accuracy: 0.9291 - val_loss: 1.3052 - val_accuracy: 0.6282 - _timestamp: 1658332611.0000 - _runtime: 269.0000 - lr: 1.0000e-04\n",
      "Epoch 25: early stopping\n"
     ]
    }
   ],
   "source": [
    "# Train Model\n",
    "history = model.fit(X_train_series, y_train_series, validation_data=(X_val_series, y_val_series), epochs=cfg.epochs, callbacks=callbacks, batch_size=cfg.batch_size)\n"
   ]
  },
  {
   "cell_type": "code",
   "execution_count": 18,
   "metadata": {},
   "outputs": [
    {
     "name": "stderr",
     "output_type": "stream",
     "text": [
      "2022-07-20 17:56:58.117224: I tensorflow/core/grappler/optimizers/custom_graph_optimizer_registry.cc:113] Plugin optimizer for device_type GPU is enabled.\n",
      "2022-07-20 17:56:59.093105: I tensorflow/core/grappler/optimizers/custom_graph_optimizer_registry.cc:113] Plugin optimizer for device_type GPU is enabled.\n"
     ]
    },
    {
     "name": "stdout",
     "output_type": "stream",
     "text": [
      " 2/72 [..............................] - ETA: 3s  "
     ]
    },
    {
     "name": "stderr",
     "output_type": "stream",
     "text": [
      "2022-07-20 17:57:01.730702: I tensorflow/core/grappler/optimizers/custom_graph_optimizer_registry.cc:113] Plugin optimizer for device_type GPU is enabled.\n"
     ]
    },
    {
     "name": "stdout",
     "output_type": "stream",
     "text": [
      "72/72 [==============================] - 6s 21ms/step\n"
     ]
    }
   ],
   "source": [
    "# Evaluate Model\n",
    "val_logits = model.predict(X_val_series, batch_size=60, verbose=1)\n"
   ]
  },
  {
   "cell_type": "code",
   "execution_count": 19,
   "metadata": {},
   "outputs": [],
   "source": [
    "# free up memory\n",
    "# del X_train_series\n",
    "# del y_train_series\n",
    "# del X_val_series\n",
    "# del y_val_series\n",
    "\n",
    "# gc.collect()\n"
   ]
  },
  {
   "cell_type": "code",
   "execution_count": 20,
   "metadata": {},
   "outputs": [
    {
     "name": "stderr",
     "output_type": "stream",
     "text": [
      "\u001B[34m\u001B[1mwandb\u001B[0m: \u001B[33mWARNING\u001B[0m wandb.plots.* functions are deprecated and will be removed in a future release. Please use wandb.plot.* instead.\n"
     ]
    },
    {
     "data": {
      "text/plain": "<IPython.core.display.HTML object>",
      "text/html": "Waiting for W&B process to finish... <strong style=\"color:green\">(success).</strong>"
     },
     "metadata": {},
     "output_type": "display_data"
    },
    {
     "data": {
      "text/plain": "VBox(children=(Label(value='13.565 MB of 13.565 MB uploaded (0.000 MB deduped)\\r'), FloatProgress(value=0.9999…",
      "application/vnd.jupyter.widget-view+json": {
       "version_major": 2,
       "version_minor": 0,
       "model_id": "81b6354d3b5c40b0b383ee3ccc93b3e0"
      }
     },
     "metadata": {},
     "output_type": "display_data"
    },
    {
     "data": {
      "text/plain": "<IPython.core.display.HTML object>",
      "text/html": "<style>\n    table.wandb td:nth-child(1) { padding: 0 10px; text-align: left ; width: auto;} td:nth-child(2) {text-align: left ; width: 100%}\n    .wandb-row { display: flex; flex-direction: row; flex-wrap: wrap; justify-content: flex-start; width: 100% }\n    .wandb-col { display: flex; flex-direction: column; flex-basis: 100%; flex: 1; padding: 10px; }\n    </style>\n<div class=\"wandb-row\"><div class=\"wandb-col\"><h3>Run history:</h3><br/><table class=\"wandb\"><tr><td>accuracy</td><td>▁▄▆▆▆▇▇▇▇▇▇▇▇██▇█████████</td></tr><tr><td>epoch</td><td>▁▁▂▂▂▂▃▃▃▄▄▄▅▅▅▅▆▆▆▇▇▇▇██</td></tr><tr><td>loss</td><td>█▆▄▄▃▃▃▃▂▂▂▂▂▂▂▂▁▂▁▁▁▁▁▁▁</td></tr><tr><td>val_accuracy</td><td>▄▁▅▄▆▆▇█▇█▇▆▇██▆▇▇▅█▆▆▆▄▄</td></tr><tr><td>val_loss</td><td>▃▃▂▂▁▂▂▂▂▂▂▃▃▄▄▃▆▅▅▄▇▆▆█▇</td></tr></table><br/></div><div class=\"wandb-col\"><h3>Run summary:</h3><br/><table class=\"wandb\"><tr><td>Classification Report</td><td>              precis...</td></tr><tr><td>accuracy</td><td>0.92911</td></tr><tr><td>best_epoch</td><td>4</td></tr><tr><td>best_val_loss</td><td>0.77372</td></tr><tr><td>epoch</td><td>24</td></tr><tr><td>loss</td><td>0.19935</td></tr><tr><td>val_accuracy</td><td>0.62815</td></tr><tr><td>val_loss</td><td>1.30525</td></tr></table><br/></div></div>"
     },
     "metadata": {},
     "output_type": "display_data"
    },
    {
     "data": {
      "text/plain": "<IPython.core.display.HTML object>",
      "text/html": "Synced <strong style=\"color:#cdcd00\">easy-snow-124</strong>: <a href=\"https://wandb.ai/andreaapi/Fall%20detection%20CNN%20%2B%20RNN/runs/2u6it5m7\" target=\"_blank\">https://wandb.ai/andreaapi/Fall%20detection%20CNN%20%2B%20RNN/runs/2u6it5m7</a><br/>Synced 6 W&B file(s), 5 media file(s), 4 artifact file(s) and 1 other file(s)"
     },
     "metadata": {},
     "output_type": "display_data"
    },
    {
     "data": {
      "text/plain": "<IPython.core.display.HTML object>",
      "text/html": "Find logs at: <code>./wandb/run-20220720_175222-2u6it5m7/logs</code>"
     },
     "metadata": {},
     "output_type": "display_data"
    }
   ],
   "source": [
    "# Log metrics to wandb\n",
    "y_pred_val_classes = np.argmax(val_logits, axis=1).tolist()\n",
    "\n",
    "cr = classification_report(y_val_series, y_pred_val_classes, target_names=classes)\n",
    "\n",
    "wandb.log({\"Classification Report\": cr})\n",
    "\n",
    "wandb.sklearn.plot_roc(y_val_series, val_logits, classes)\n",
    "wandb.sklearn.plot_class_proportions(y_train_series, y_val_series, classes)\n",
    "wandb.sklearn.plot_precision_recall(y_val_series, val_logits, classes)\n",
    "wandb.sklearn.plot_confusion_matrix(y_val_series, y_pred_val_classes, classes)\n",
    "wandb.join()\n"
   ]
  },
  {
   "cell_type": "code",
   "execution_count": 21,
   "metadata": {},
   "outputs": [
    {
     "name": "stdout",
     "output_type": "stream",
     "text": [
      "              precision    recall  f1-score   support\n",
      "\n",
      "         adl       0.85      0.71      0.77      3244\n",
      "     falling       0.09      0.23      0.13       327\n",
      "  lying_down       0.44      0.45      0.45       713\n",
      "\n",
      "    accuracy                           0.63      4284\n",
      "   macro avg       0.46      0.46      0.45      4284\n",
      "weighted avg       0.72      0.63      0.67      4284\n",
      "\n"
     ]
    }
   ],
   "source": [
    "print(cr)"
   ]
  }
 ],
 "metadata": {
  "interpreter": {
   "hash": "045da2998f02dde6c755b0fa2e74d8766d7d056d6163358ab445ad432d6df67f"
  },
  "kernelspec": {
   "display_name": "Python 3 (ipykernel)",
   "language": "python",
   "name": "python3"
  },
  "language_info": {
   "codemirror_mode": {
    "name": "ipython",
    "version": 3
   },
   "file_extension": ".py",
   "mimetype": "text/x-python",
   "name": "python",
   "nbconvert_exporter": "python",
   "pygments_lexer": "ipython3",
   "version": "3.9.12"
  }
 },
 "nbformat": 4,
 "nbformat_minor": 4
}