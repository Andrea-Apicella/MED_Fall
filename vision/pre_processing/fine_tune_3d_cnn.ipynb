{
 "cells": [
  {
   "cell_type": "code",
   "execution_count": 4,
   "id": "1c37ba7b-fbb2-4782-b811-d8b2af6a2621",
   "metadata": {},
   "outputs": [],
   "source": [
    "import tensorflow as tf\n",
    "import tensorflow_hub as hub"
   ]
  },
  {
   "cell_type": "markdown",
   "id": "d2dc64a8-4ee8-450f-aa4c-2f0bdab457b2",
   "metadata": {},
   "source": [
    "Mi serve una funzione che:\n",
    "prende il dataframe contenente nomi fotogrammi e rispettive labels\n"
   ]
  },
  {
   "cell_type": "code",
   "execution_count": null,
   "id": "99499aa1-f037-4259-9db8-368ecec222f8",
   "metadata": {},
   "outputs": [],
   "source": []
  }
 ],
 "metadata": {
  "kernelspec": {
   "display_name": "Python 3 (ipykernel)",
   "language": "python",
   "name": "python3"
  },
  "language_info": {
   "codemirror_mode": {
    "name": "ipython",
    "version": 3
   },
   "file_extension": ".py",
   "mimetype": "text/x-python",
   "name": "python",
   "nbconvert_exporter": "python",
   "pygments_lexer": "ipython3",
   "version": "3.9.12"
  }
 },
 "nbformat": 4,
 "nbformat_minor": 5
}
