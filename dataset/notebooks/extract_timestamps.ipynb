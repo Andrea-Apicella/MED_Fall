{
 "cells": [
  {
   "cell_type": "code",
   "execution_count": 43,
   "outputs": [
    {
     "name": "stdout",
     "output_type": "stream",
     "text": [
      "The autoreload extension is already loaded. To reload it, use:\n",
      "  %reload_ext autoreload\n"
     ]
    }
   ],
   "source": [
    "%load_ext autoreload\n",
    "%autoreload 2"
   ],
   "metadata": {
    "collapsed": false,
    "pycharm": {
     "name": "#%%\n"
    }
   }
  },
  {
   "cell_type": "code",
   "execution_count": 44,
   "outputs": [],
   "source": [
    "import cv2\n",
    "import matplotlib.pyplot as plt"
   ],
   "metadata": {
    "collapsed": false,
    "pycharm": {
     "name": "#%%\n"
    }
   }
  },
  {
   "cell_type": "code",
   "execution_count": 45,
   "metadata": {},
   "outputs": [
    {
     "name": "stdout",
     "output_type": "stream",
     "text": [
      "/Users/andrea/Documents/Github/MED_Fall\n"
     ]
    }
   ],
   "source": [
    "%cd /Users/andrea/Documents/Github/MED_Fall"
   ]
  },
  {
   "cell_type": "code",
   "execution_count": 46,
   "metadata": {},
   "outputs": [],
   "source": [
    "from dataset.scripts.template_match import TemplateMatch"
   ]
  },
  {
   "cell_type": "code",
   "execution_count": 47,
   "metadata": {
    "pycharm": {
     "name": "#%%\n"
    }
   },
   "outputs": [],
   "source": [
    "#video_path = '/Users/andrea/Documents/Github/MED_Fall/dataset/data/Actor_1_Bed_Full_PH CAM 8.mp4'\n",
    "#video_path = '/Users/andrea/Documents/Github/MED_Fall/dataset/data/Actor_7_Chair2_Full_PH CAM 8.mp4'\n",
    "video_path = '/Users/andrea/Documents/Github/MED_Fall/dataset/data/Actor_1_Bed_Rolling CAM 8.mp4'"
   ]
  },
  {
   "cell_type": "code",
   "execution_count": 48,
   "metadata": {
    "pycharm": {
     "name": "#%%\n"
    }
   },
   "outputs": [
    {
     "name": "stdout",
     "output_type": "stream",
     "text": [
      "Found 10 templates in /Users/andrea/Documents/Github/MED_Fall/dataset/data/templates.\n",
      "Total number of frames in the video: 1440\n"
     ]
    }
   ],
   "source": [
    "# timestamp_roi = (31, 136, 886, 221)\n",
    "# datalogger_roi = (25, 525, 895, 120)\n",
    "\n",
    "tm = TemplateMatch(video_path=video_path, templates_path='/Users/andrea/Documents/Github/MED_Fall/dataset/data/templates')"
   ]
  },
  {
   "cell_type": "code",
   "execution_count": 49,
   "metadata": {
    "pycharm": {
     "name": "#%%\n"
    }
   },
   "outputs": [
    {
     "name": "stdout",
     "output_type": "stream",
     "text": [
      "(46, 89, 814, 143) (45, 395, 828, 75)\n"
     ]
    },
    {
     "name": "stderr",
     "output_type": "stream",
     "text": [
      "  0%|          | 0/1440 [00:00<?, ?it/s]"
     ]
    },
    {
     "name": "stdout",
     "output_type": "stream",
     "text": [
      "(88, 55)\n",
      "newsize (800, 200)\n"
     ]
    },
    {
     "name": "stderr",
     "output_type": "stream",
     "text": [
      "  0%|          | 0/1440 [00:00<?, ?it/s]"
     ]
    },
    {
     "name": "stdout",
     "output_type": "stream",
     "text": [
      "newsize None\n"
     ]
    },
    {
     "name": "stderr",
     "output_type": "stream",
     "text": [
      "\n"
     ]
    },
    {
     "ename": "error",
     "evalue": "OpenCV(4.5.5) /Users/runner/miniforge3/conda-bld/libopencv_1647437238817/work/modules/imgproc/src/templmatch.cpp:1175: error: (-215:Assertion failed) _img.size().height <= _templ.size().height && _img.size().width <= _templ.size().width in function 'matchTemplate'\n",
     "output_type": "error",
     "traceback": [
      "\u001B[0;31m---------------------------------------------------------------------------\u001B[0m",
      "\u001B[0;31merror\u001B[0m                                     Traceback (most recent call last)",
      "Input \u001B[0;32mIn [49]\u001B[0m, in \u001B[0;36m<cell line: 1>\u001B[0;34m()\u001B[0m\n\u001B[0;32m----> 1\u001B[0m timestamps, dataloggers \u001B[38;5;241m=\u001B[39m \u001B[43mtm\u001B[49m\u001B[38;5;241;43m.\u001B[39;49m\u001B[43mextract_timestamps_dataloggers\u001B[49m\u001B[43m(\u001B[49m\u001B[43m)\u001B[49m\n",
      "File \u001B[0;32m~/Documents/Github/MED_Fall/dataset/scripts/template_match.py:270\u001B[0m, in \u001B[0;36mTemplateMatch.extract_timestamps_dataloggers\u001B[0;34m(self)\u001B[0m\n\u001B[1;32m    268\u001B[0m     \u001B[38;5;28;01mbreak\u001B[39;00m\n\u001B[1;32m    269\u001B[0m timestamp_extracted \u001B[38;5;241m=\u001B[39m \u001B[38;5;28mself\u001B[39m\u001B[38;5;241m.\u001B[39mtemplate_match(frame, element_type\u001B[38;5;241m=\u001B[39m\u001B[38;5;124m\"\u001B[39m\u001B[38;5;124mtimestamp\u001B[39m\u001B[38;5;124m\"\u001B[39m, test\u001B[38;5;241m=\u001B[39m\u001B[38;5;28;01mFalse\u001B[39;00m)\n\u001B[0;32m--> 270\u001B[0m datalogger_extracted \u001B[38;5;241m=\u001B[39m \u001B[38;5;28;43mself\u001B[39;49m\u001B[38;5;241;43m.\u001B[39;49m\u001B[43mtemplate_match\u001B[49m\u001B[43m(\u001B[49m\u001B[43mframe\u001B[49m\u001B[43m,\u001B[49m\u001B[43m \u001B[49m\u001B[43melement_type\u001B[49m\u001B[38;5;241;43m=\u001B[39;49m\u001B[38;5;124;43m\"\u001B[39;49m\u001B[38;5;124;43mdatalogger\u001B[39;49m\u001B[38;5;124;43m\"\u001B[39;49m\u001B[43m,\u001B[49m\u001B[43m \u001B[49m\u001B[43mtest\u001B[49m\u001B[38;5;241;43m=\u001B[39;49m\u001B[38;5;28;43;01mFalse\u001B[39;49;00m\u001B[43m)\u001B[49m\n\u001B[1;32m    271\u001B[0m timestamps\u001B[38;5;241m.\u001B[39mappend(timestamp_extracted)\n\u001B[1;32m    272\u001B[0m dataloggers\u001B[38;5;241m.\u001B[39mappend(datalogger_extracted)\n",
      "File \u001B[0;32m~/Documents/Github/MED_Fall/dataset/scripts/template_match.py:188\u001B[0m, in \u001B[0;36mTemplateMatch.template_match\u001B[0;34m(self, frame, element_type, threshold, test)\u001B[0m\n\u001B[1;32m    186\u001B[0m curr_template \u001B[38;5;241m=\u001B[39m \u001B[38;5;28mself\u001B[39m\u001B[38;5;241m.\u001B[39mtemplates[template_number]\n\u001B[1;32m    187\u001B[0m (tH, tW) \u001B[38;5;241m=\u001B[39m curr_template\u001B[38;5;241m.\u001B[39mshape[:\u001B[38;5;241m2\u001B[39m]\n\u001B[0;32m--> 188\u001B[0m result \u001B[38;5;241m=\u001B[39m \u001B[43mcv2\u001B[49m\u001B[38;5;241;43m.\u001B[39;49m\u001B[43mmatchTemplate\u001B[49m\u001B[43m(\u001B[49m\u001B[43mtomatch_copy\u001B[49m\u001B[43m,\u001B[49m\u001B[43m \u001B[49m\u001B[43mcurr_template\u001B[49m\u001B[43m,\u001B[49m\u001B[43m \u001B[49m\u001B[43mcv2\u001B[49m\u001B[38;5;241;43m.\u001B[39;49m\u001B[43mTM_CCOEFF_NORMED\u001B[49m\u001B[43m)\u001B[49m\n\u001B[1;32m    189\u001B[0m (yCoords, xCoords) \u001B[38;5;241m=\u001B[39m np\u001B[38;5;241m.\u001B[39mwhere(result \u001B[38;5;241m>\u001B[39m\u001B[38;5;241m=\u001B[39m threshold)\n\u001B[1;32m    191\u001B[0m boxes \u001B[38;5;241m=\u001B[39m []\n",
      "\u001B[0;31merror\u001B[0m: OpenCV(4.5.5) /Users/runner/miniforge3/conda-bld/libopencv_1647437238817/work/modules/imgproc/src/templmatch.cpp:1175: error: (-215:Assertion failed) _img.size().height <= _templ.size().height && _img.size().width <= _templ.size().width in function 'matchTemplate'\n"
     ]
    }
   ],
   "source": [
    "timestamps, dataloggers = tm.extract_timestamps_dataloggers()"
   ]
  },
  {
   "cell_type": "code",
   "execution_count": null,
   "outputs": [],
   "source": [
    "cap = cv2.VideoCapture(video_path)\n",
    "ret, frame = cap.read()\n",
    "print(frame.shape)\n",
    "frame = cv2.cvtColor(frame, cv2.COLOR_BGR2RGB)\n",
    "\n",
    "plt.imshow(frame)"
   ],
   "metadata": {
    "collapsed": false,
    "pycharm": {
     "name": "#%%\n"
    }
   }
  },
  {
   "cell_type": "code",
   "execution_count": null,
   "outputs": [],
   "source": [
    "# img = frame[1:959, :]\n",
    "# gray_img = cv2.cvtColor(img, cv2.COLOR_BGR2GRAY)\n",
    "# thresh_img = cv2.threshold(gray_img, 0, 255, cv2.THRESH_BINARY + cv2.THRESH_OTSU)[1]\n",
    "#\n",
    "# cnts = cv2.findContours(thresh_img, cv2.RETR_EXTERNAL, cv2.CHAIN_APPROX_SIMPLE)\n",
    "# cnts = cnts[0] if len(cnts) == 2 else cnts[1]\n",
    "# for cnt in cnts:\n",
    "#     approx = cv2.contourArea(cnt)\n",
    "#     print(approx)\n",
    "#\n",
    "# cv2.imshow('image', img)\n",
    "# cv2.imshow('Binary',thresh_img)\n",
    "# cv2.waitKey()"
   ],
   "metadata": {
    "collapsed": false,
    "pycharm": {
     "name": "#%%\n"
    }
   }
  },
  {
   "cell_type": "code",
   "execution_count": null,
   "outputs": [],
   "source": [
    "from random import randrange\n",
    "def find_rois(frame):\n",
    "\n",
    "    img = frame[:, 0:960]\n",
    "    gray_img = cv2.cvtColor(img, cv2.COLOR_BGR2GRAY)\n",
    "    thresh_img = cv2.threshold(gray_img, 0, 255, cv2.THRESH_BINARY + cv2.THRESH_OTSU)[1]\n",
    "    contours, _ = cv2.findContours(thresh_img, cv2.RETR_TREE, cv2.CHAIN_APPROX_SIMPLE)\n",
    "\n",
    "    d = {}\n",
    "    # areas = []\n",
    "    # bounding_rects = []\n",
    "    for cnt in contours:\n",
    "\n",
    "        area = cv2.contourArea(cnt)\n",
    "        bounding_rect = cv2.boundingRect(cnt)\n",
    "        d[area] = bounding_rect\n",
    "\n",
    "    d_sorted = sorted(d, reverse=True)\n",
    "    areas = d_sorted[1:3]\n",
    "    rois = []\n",
    "    for i in range(len(areas)):\n",
    "        key = areas[i]\n",
    "        print(key)\n",
    "        # (x,y,w,h) = d[key]\n",
    "        print('ROI', d[key])\n",
    "        rois.append(d[key])\n",
    "        #cv2.rectangle(img, (x, y), (x + w, y + h), (randrange(0,255), randrange(0,255), randrange(0,255)), 2)\n",
    "    return rois\n",
    "\n",
    "find_rois(frame)\n",
    "\n",
    "\n"
   ],
   "metadata": {
    "collapsed": false,
    "pycharm": {
     "name": "#%%\n"
    }
   }
  },
  {
   "cell_type": "code",
   "execution_count": null,
   "outputs": [],
   "source": [
    "#tm.pre_process_templates()\n",
    "#tm.pre_process_templates()\n",
    "tm.templates\n",
    "tm.template_match(frame, element_type=\"datalogger\", threshold=0.8, test=True)"
   ],
   "metadata": {
    "collapsed": false,
    "pycharm": {
     "name": "#%%\n"
    }
   }
  },
  {
   "cell_type": "code",
   "execution_count": null,
   "outputs": [],
   "source": [],
   "metadata": {
    "collapsed": false,
    "pycharm": {
     "name": "#%%\n"
    }
   }
  },
  {
   "cell_type": "code",
   "execution_count": null,
   "outputs": [],
   "source": [
    "tm.template_match(frame, element_type=\"timestamp\", test=True, threshold=0.70)"
   ],
   "metadata": {
    "collapsed": false,
    "pycharm": {
     "name": "#%%\n"
    }
   }
  },
  {
   "cell_type": "code",
   "execution_count": null,
   "outputs": [],
   "source": [
    "tm.templates[0].shape"
   ],
   "metadata": {
    "collapsed": false,
    "pycharm": {
     "name": "#%%\n"
    }
   }
  },
  {
   "cell_type": "code",
   "execution_count": null,
   "outputs": [],
   "source": [
    "temp_height = 88\n",
    "temp_width = 55\n",
    "\n",
    "\n",
    "(120, 895)\n",
    "\n",
    "datalogger_roi_height = 120\n",
    "datalogger_roi_width = 895\n",
    "\n",
    "height_ratio = datalogger_roi_height/temp_height\n",
    "print('height_ratio', height_ratio)\n",
    "\n",
    "width_ratio = datalogger_roi_width/temp_width\n",
    "print('width_ratio', width_ratio)"
   ],
   "metadata": {
    "collapsed": false,
    "pycharm": {
     "name": "#%%\n"
    }
   }
  },
  {
   "cell_type": "code",
   "execution_count": null,
   "outputs": [],
   "source": [],
   "metadata": {
    "collapsed": false,
    "pycharm": {
     "name": "#%%\n"
    }
   }
  }
 ],
 "metadata": {
  "kernelspec": {
   "display_name": "Python 3.9.12 ('ml')",
   "language": "python",
   "name": "python3"
  },
  "language_info": {
   "codemirror_mode": {
    "name": "ipython",
    "version": 3
   },
   "file_extension": ".py",
   "mimetype": "text/x-python",
   "name": "python",
   "nbconvert_exporter": "python",
   "pygments_lexer": "ipython3",
   "version": "3.9.12"
  },
  "vscode": {
   "interpreter": {
    "hash": "045da2998f02dde6c755b0fa2e74d8766d7d056d6163358ab445ad432d6df67f"
   }
  }
 },
 "nbformat": 4,
 "nbformat_minor": 1
}