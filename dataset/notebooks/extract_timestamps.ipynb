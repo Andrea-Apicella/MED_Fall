{
 "cells": [
  {
   "cell_type": "code",
   "execution_count": 1,
   "metadata": {},
   "outputs": [
    {
     "name": "stdout",
     "output_type": "stream",
     "text": [
      "/Users/andrea/Documents/Github/MED_Fall\n"
     ]
    }
   ],
   "source": [
    "%cd /Users/andrea/Documents/Github/MED_Fall"
   ]
  },
  {
   "cell_type": "code",
   "execution_count": 2,
   "metadata": {},
   "outputs": [],
   "source": [
    "from dataset.scripts.template_match import TemplateMatch"
   ]
  },
  {
   "cell_type": "code",
   "execution_count": 3,
   "metadata": {
    "pycharm": {
     "name": "#%%\n"
    }
   },
   "outputs": [],
   "source": [
    "video_path = '/Users/andrea/Documents/Github/MED_Fall/dataset/data/Actor_1_Bed_Full_PH CAM 8.mp4'"
   ]
  },
  {
   "cell_type": "code",
   "execution_count": 4,
   "metadata": {
    "pycharm": {
     "name": "#%%\n"
    }
   },
   "outputs": [
    {
     "name": "stdout",
     "output_type": "stream",
     "text": [
      "Found 10 templates in /Users/andrea/Documents/Github/MED_Fall/dataset/data/templates.\n"
     ]
    }
   ],
   "source": [
    "tm = TemplateMatch(video_path=video_path,templates_path='/Users/andrea/Documents/Github/MED_Fall/dataset/data/templates', element_type='datalogger',)"
   ]
  },
  {
   "cell_type": "code",
   "execution_count": 5,
   "metadata": {
    "pycharm": {
     "name": "#%%\n"
    }
   },
   "outputs": [
    {
     "name": "stdout",
     "output_type": "stream",
     "text": [
      "Total number of frames in the video: 4920\n",
      "Timestamp ROI: (67, 529, 803, 109)\n"
     ]
    },
    {
     "ename": "TypeError",
     "evalue": "cannot unpack non-iterable NoneType object",
     "output_type": "error",
     "traceback": [
      "\u001B[0;31m---------------------------------------------------------------------------\u001B[0m",
      "\u001B[0;31mTypeError\u001B[0m                                 Traceback (most recent call last)",
      "Input \u001B[0;32mIn [5]\u001B[0m, in \u001B[0;36m<cell line: 1>\u001B[0;34m()\u001B[0m\n\u001B[0;32m----> 1\u001B[0m timestamps \u001B[38;5;241m=\u001B[39m \u001B[43mtm\u001B[49m\u001B[38;5;241;43m.\u001B[39;49m\u001B[43mextract_timestamps\u001B[49m\u001B[43m(\u001B[49m\u001B[43m)\u001B[49m\n",
      "File \u001B[0;32m~/Documents/Github/MED_Fall/dataset/scripts/template_match.py:168\u001B[0m, in \u001B[0;36mTemplateMatch.extract_timestamps\u001B[0;34m(self)\u001B[0m\n\u001B[1;32m    165\u001B[0m     \u001B[38;5;28mself\u001B[39m\u001B[38;5;241m.\u001B[39mtimestamp_roi \u001B[38;5;241m=\u001B[39m \u001B[38;5;28mself\u001B[39m\u001B[38;5;241m.\u001B[39m__select_roi(\u001B[38;5;124m\"\u001B[39m\u001B[38;5;124mSelect Timestamp ROI\u001B[39m\u001B[38;5;124m\"\u001B[39m)\n\u001B[1;32m    166\u001B[0m \u001B[38;5;28mprint\u001B[39m(\u001B[38;5;124mf\u001B[39m\u001B[38;5;124m\"\u001B[39m\u001B[38;5;124mTimestamp ROI: \u001B[39m\u001B[38;5;132;01m{\u001B[39;00m\u001B[38;5;28mself\u001B[39m\u001B[38;5;241m.\u001B[39mtimestamp_roi\u001B[38;5;132;01m}\u001B[39;00m\u001B[38;5;124m\"\u001B[39m)\n\u001B[0;32m--> 168\u001B[0m timestamp_test \u001B[38;5;241m=\u001B[39m \u001B[38;5;28;43mself\u001B[39;49m\u001B[38;5;241;43m.\u001B[39;49m\u001B[43m__test_single_timestamp\u001B[49m\u001B[43m(\u001B[49m\u001B[43m)\u001B[49m\n\u001B[1;32m    169\u001B[0m \u001B[38;5;28;01mif\u001B[39;00m \u001B[38;5;129;01mnot\u001B[39;00m timestamp_test:\n\u001B[1;32m    170\u001B[0m     \u001B[38;5;28mprint\u001B[39m(\u001B[38;5;124m\"\u001B[39m\u001B[38;5;124mCan\u001B[39m\u001B[38;5;124m'\u001B[39m\u001B[38;5;124mt extract timestamp from first frame.\u001B[39m\u001B[38;5;124m\"\u001B[39m)\n",
      "File \u001B[0;32m~/Documents/Github/MED_Fall/dataset/scripts/template_match.py:192\u001B[0m, in \u001B[0;36mTemplateMatch.__test_single_timestamp\u001B[0;34m(self)\u001B[0m\n\u001B[1;32m    189\u001B[0m _, first_frame \u001B[38;5;241m=\u001B[39m cap\u001B[38;5;241m.\u001B[39mread()\n\u001B[1;32m    190\u001B[0m cap\u001B[38;5;241m.\u001B[39mrelease()\n\u001B[0;32m--> 192\u001B[0m timestamp_extracted \u001B[38;5;241m=\u001B[39m \u001B[38;5;28;43mself\u001B[39;49m\u001B[38;5;241;43m.\u001B[39;49m\u001B[43mtemplate_match\u001B[49m\u001B[43m(\u001B[49m\u001B[43mfirst_frame\u001B[49m\u001B[43m)\u001B[49m\n\u001B[1;32m    193\u001B[0m \u001B[38;5;28;01mreturn\u001B[39;00m timestamp_extracted\n",
      "File \u001B[0;32m~/Documents/Github/MED_Fall/dataset/scripts/template_match.py:103\u001B[0m, in \u001B[0;36mTemplateMatch.template_match\u001B[0;34m(self, frame, threshold, test)\u001B[0m\n\u001B[1;32m    101\u001B[0m \u001B[38;5;28;01mif\u001B[39;00m \u001B[38;5;28mlen\u001B[39m(\u001B[38;5;28mself\u001B[39m\u001B[38;5;241m.\u001B[39mtemplates[\u001B[38;5;241m0\u001B[39m]\u001B[38;5;241m.\u001B[39mshape) \u001B[38;5;241m>\u001B[39m \u001B[38;5;241m2\u001B[39m:\n\u001B[1;32m    102\u001B[0m     \u001B[38;5;28mself\u001B[39m\u001B[38;5;241m.\u001B[39m__pre_process_templates()\n\u001B[0;32m--> 103\u001B[0m top_x, top_y, bottom_x, bottom_y \u001B[38;5;241m=\u001B[39m \u001B[38;5;28mself\u001B[39m\u001B[38;5;241m.\u001B[39mtimestamp_roi \u001B[38;5;28;01mif\u001B[39;00m \u001B[38;5;28mself\u001B[39m\u001B[38;5;241m.\u001B[39melement_type \u001B[38;5;241m==\u001B[39m \u001B[38;5;124m\"\u001B[39m\u001B[38;5;124mtimestamp\u001B[39m\u001B[38;5;124m\"\u001B[39m \u001B[38;5;28;01melse\u001B[39;00m \u001B[38;5;28mself\u001B[39m\u001B[38;5;241m.\u001B[39mdatalogger_roi\n\u001B[1;32m    104\u001B[0m tomatch \u001B[38;5;241m=\u001B[39m frame[top_y : top_y \u001B[38;5;241m+\u001B[39m bottom_y, top_x : top_x \u001B[38;5;241m+\u001B[39m bottom_x]\n\u001B[1;32m    105\u001B[0m tomatch \u001B[38;5;241m=\u001B[39m pre_process(tomatch)\n",
      "\u001B[0;31mTypeError\u001B[0m: cannot unpack non-iterable NoneType object"
     ]
    }
   ],
   "source": [
    "timestamps = tm.extract_timestamps()"
   ]
  },
  {
   "cell_type": "code",
   "execution_count": null,
   "outputs": [],
   "source": [],
   "metadata": {
    "collapsed": false,
    "pycharm": {
     "name": "#%%\n"
    }
   }
  }
 ],
 "metadata": {
  "kernelspec": {
   "display_name": "Python 3.9.12 ('ml')",
   "language": "python",
   "name": "python3"
  },
  "language_info": {
   "codemirror_mode": {
    "name": "ipython",
    "version": 3
   },
   "file_extension": ".py",
   "mimetype": "text/x-python",
   "name": "python",
   "nbconvert_exporter": "python",
   "pygments_lexer": "ipython3",
   "version": "3.9.12"
  },
  "vscode": {
   "interpreter": {
    "hash": "045da2998f02dde6c755b0fa2e74d8766d7d056d6163358ab445ad432d6df67f"
   }
  }
 },
 "nbformat": 4,
 "nbformat_minor": 1
}