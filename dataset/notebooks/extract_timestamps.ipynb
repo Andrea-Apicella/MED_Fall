{
 "cells": [
  {
   "cell_type": "code",
   "execution_count": 22,
   "outputs": [
    {
     "name": "stdout",
     "output_type": "stream",
     "text": [
      "The autoreload extension is already loaded. To reload it, use:\n",
      "  %reload_ext autoreload\n"
     ]
    }
   ],
   "source": [
    "%load_ext autoreload\n",
    "%autoreload 2"
   ],
   "metadata": {
    "collapsed": false,
    "pycharm": {
     "name": "#%%\n"
    }
   }
  },
  {
   "cell_type": "code",
   "execution_count": 28,
   "outputs": [],
   "source": [
    "\n",
    "import pandas as pd\n",
    "\n",
    "from dataset.scripts.tesseract_ocr import TesseractOCR\n",
    "from utils.utility_functions import safe_mkdir"
   ],
   "metadata": {
    "collapsed": false,
    "pycharm": {
     "name": "#%%\n"
    }
   }
  },
  {
   "cell_type": "code",
   "execution_count": 29,
   "metadata": {},
   "outputs": [
    {
     "name": "stderr",
     "output_type": "stream",
     "text": [
      "UsageError: Line magic function `%` not found.\n"
     ]
    }
   ],
   "source": [
    "% cd / Users / andrea / Documents / Github / MED_Fall"
   ]
  },
  {
   "cell_type": "code",
   "execution_count": 30,
   "metadata": {
    "pycharm": {
     "name": "#%%\n"
    }
   },
   "outputs": [],
   "source": [
    "paths = ['/Users/andrea/Documents/Github/MED_Fall/dataset/data/Actor_1_Bed_Full_PH CAM 8.mp4',\n",
    "         '/Users/andrea/Documents/Github/MED_Fall/dataset/data/Actor_7_Chair2_Full_PH CAM 8.mp4',\n",
    "         '/Users/andrea/Documents/Github/MED_Fall/dataset/data/Actor_1_Bed_Rolling CAM 8.mp4']"
   ]
  },
  {
   "cell_type": "code",
   "execution_count": 31,
   "outputs": [],
   "source": [
    "def lists_to_excel(timestamps: list, dataloggers: list, name: str):\n",
    "    data = {\"timestamps\": timestamps, \"dataloggers\": dataloggers}\n",
    "    df = pd.DataFrame(data)\n",
    "    excel_path = '/Users/andrea/Documents/Github/MED_Fall/dataset/data/excel_extracted'\n",
    "    safe_mkdir(excel_path)\n",
    "    writer = pd.ExcelWriter(f'{excel_path}/{name}.xlsx', engine='openpyxl')\n",
    "    df.to_excel(writer, sheet_name='extracted_data', index=False)\n",
    "    writer.save()"
   ],
   "metadata": {
    "collapsed": false,
    "pycharm": {
     "name": "#%%\n"
    }
   }
  },
  {
   "cell_type": "code",
   "execution_count": 32,
   "outputs": [
    {
     "data": {
      "text/plain": "  0%|          | 0/4920 [00:00<?, ?it/s]",
      "application/vnd.jupyter.widget-view+json": {
       "version_major": 2,
       "version_minor": 0,
       "model_id": "c7b14e1cd43946498313a773473cf605"
      }
     },
     "metadata": {},
     "output_type": "display_data"
    },
    {
     "data": {
      "text/plain": "  0%|          | 0/60 [00:00<?, ?it/s]",
      "application/vnd.jupyter.widget-view+json": {
       "version_major": 2,
       "version_minor": 0,
       "model_id": "10fd6595c8124f569a4c0474de4612f7"
      }
     },
     "metadata": {},
     "output_type": "display_data"
    },
    {
     "data": {
      "text/plain": "  0%|          | 0/1440 [00:00<?, ?it/s]",
      "application/vnd.jupyter.widget-view+json": {
       "version_major": 2,
       "version_minor": 0,
       "model_id": "8f61c0993a1a42d9853b0eec6cf19acd"
      }
     },
     "metadata": {},
     "output_type": "display_data"
    },
    {
     "name": "stdout",
     "output_type": "stream",
     "text": [
      "Faulty extraction at frame 1419. Text extracted: \n",
      "Faulty extraction at frame 1420. Text extracted: \n",
      "Faulty extraction at frame 1421. Text extracted: \n",
      "Faulty extraction at frame 1422. Text extracted: \n",
      "Faulty extraction at frame 1422. Text extracted: \n",
      "Faulty extraction at frame 1423. Text extracted: \n",
      "Faulty extraction at frame 1423. Text extracted: \n",
      "Faulty extraction at frame 1424. Text extracted: \n",
      "Faulty extraction at frame 1424. Text extracted: \n",
      "Faulty extraction at frame 1425. Text extracted: \n",
      "Faulty extraction at frame 1425. Text extracted: \n",
      "Faulty extraction at frame 1426. Text extracted: \n",
      "Faulty extraction at frame 1426. Text extracted: \n",
      "Faulty extraction at frame 1427. Text extracted: \n",
      "Faulty extraction at frame 1427. Text extracted: \n",
      "Faulty extraction at frame 1428. Text extracted: \n",
      "Faulty extraction at frame 1428. Text extracted: \n",
      "Faulty extraction at frame 1429. Text extracted: \n",
      "Faulty extraction at frame 1429. Text extracted: \n",
      "Faulty extraction at frame 1430. Text extracted: \n",
      "Faulty extraction at frame 1430. Text extracted: \n",
      "Faulty extraction at frame 1431. Text extracted: \n",
      "Faulty extraction at frame 1431. Text extracted: \n",
      "Faulty extraction at frame 1432. Text extracted: \n",
      "Faulty extraction at frame 1432. Text extracted: \n",
      "Faulty extraction at frame 1433. Text extracted: \n",
      "Faulty extraction at frame 1433. Text extracted: \n",
      "Faulty extraction at frame 1434. Text extracted: \n",
      "Faulty extraction at frame 1434. Text extracted: \n",
      "Faulty extraction at frame 1435. Text extracted: \n",
      "Faulty extraction at frame 1435. Text extracted: \n",
      "Faulty extraction at frame 1436. Text extracted: \n",
      "Faulty extraction at frame 1436. Text extracted: \n",
      "Faulty extraction at frame 1437. Text extracted: \n",
      "Faulty extraction at frame 1437. Text extracted: \n",
      "Faulty extraction at frame 1438. Text extracted: \n",
      "Faulty extraction at frame 1438. Text extracted: \n",
      "Faulty extraction at frame 1439. Text extracted: \n",
      "Faulty extraction at frame 1439. Text extracted: \n",
      "Faulty extraction at frame 1440. Text extracted: \n",
      "Faulty extraction at frame 1440. Text extracted: \n"
     ]
    }
   ],
   "source": [
    "all_timestamps = []\n",
    "all_dataloggers = []\n",
    "\n",
    "for path in paths:\n",
    "    extractor = TesseractOCR(path)\n",
    "    timestamps, dataloggers = extractor.extract_timestamp_datalogger()\n",
    "\n",
    "    ind = path.rfind('/')\n",
    "    excel_name = path[ind:-4].replace(\" \", \"_\").lower()\n",
    "    lists_to_excel(timestamps, dataloggers, excel_name)\n",
    "\n",
    "    all_timestamps.append(timestamps)\n",
    "    all_dataloggers.append(dataloggers)"
   ],
   "metadata": {
    "collapsed": false,
    "pycharm": {
     "name": "#%%\n"
    }
   }
  },
  {
   "cell_type": "code",
   "execution_count": null,
   "outputs": [],
   "source": [],
   "metadata": {
    "collapsed": false,
    "pycharm": {
     "name": "#%%\n"
    }
   }
  }
 ],
 "metadata": {
  "kernelspec": {
   "display_name": "Python 3.9.12 ('ml')",
   "language": "python",
   "name": "python3"
  },
  "language_info": {
   "codemirror_mode": {
    "name": "ipython",
    "version": 3
   },
   "file_extension": ".py",
   "mimetype": "text/x-python",
   "name": "python",
   "nbconvert_exporter": "python",
   "pygments_lexer": "ipython3",
   "version": "3.9.12"
  },
  "vscode": {
   "interpreter": {
    "hash": "045da2998f02dde6c755b0fa2e74d8766d7d056d6163358ab445ad432d6df67f"
   }
  }
 },
 "nbformat": 4,
 "nbformat_minor": 1
}